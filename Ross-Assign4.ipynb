{
 "cells": [
  {
   "cell_type": "markdown",
   "metadata": {},
   "source": [
    "Generally, a parameter selection procedure might be necessary to evaluate Probability of Detection versus Probability of False Alarm (i.e. Pd versus Pf) in order to make a decision about a classifier model selection and/or hyper parameter tuning for a classifier.\n",
    "\n",
    "In this assignment we will produce an ROC plot presenting operating points of various classifiers and their varying parameters so that we can make a justifiable operating classifier/parameter selection for the following problem.\n",
    "The classification of fake news or misinformation is a very important task today. Download the fake news dataset (https://www.kaggle.com/clmentbisaillon/fake-and-real-news-dataset), Fake.csv and True.csv files. Load the data sets in your model development framework, examine the features to see they are text in title and text columns. Set fake as 1 and true as 0. Concatenate to have around 44880 rows. Apply necessary pre-processing to extract title column in Tf-Idf. These are basically words and their term frequency – inverse document frequency. Use around 50 features. Make sure sanity check the pipeline and perhaps run your favorite baseline classifier first."
   ]
  },
  {
   "cell_type": "code",
   "execution_count": null,
   "metadata": {},
   "outputs": [],
   "source": [
    "import numpy as np\n",
    "import pandas as pd\n",
    "from sklearn.feature_extraction.text import TfidfVectorizer\n",
    "from sklearn.ensemble import RandomForestClassifier\n",
    "from sklearn.tree import DecisionTreeClassifier\n",
    "from sklearn.neural_network import MLPClassifier\n",
    "from sklearn.model_selection import train_test_split\n",
    "from sklearn.metrics import confusion_matrix\n",
    "from sklearn.metrics import accuracy_score\n",
    "import matplotlib.pyplot as plt\n",
    "from sklearn.model_selection import cross_validate"
   ]
  },
  {
   "cell_type": "code",
   "execution_count": 2,
   "metadata": {},
   "outputs": [],
   "source": [
    "fakeNews = pd.read_csv(r'/Users/katieross/desktop/Fake.csv')\n",
    "trueNews = pd.read_csv(r'/Users/katieross/desktop/True.csv')"
   ]
  },
  {
   "cell_type": "code",
   "execution_count": 3,
   "metadata": {},
   "outputs": [],
   "source": [
    "fakeNews['class'] = 0\n",
    "trueNews['class'] = 1"
   ]
  },
  {
   "cell_type": "code",
   "execution_count": 4,
   "metadata": {},
   "outputs": [
    {
     "data": {
      "text/html": [
       "<div>\n",
       "<style scoped>\n",
       "    .dataframe tbody tr th:only-of-type {\n",
       "        vertical-align: middle;\n",
       "    }\n",
       "\n",
       "    .dataframe tbody tr th {\n",
       "        vertical-align: top;\n",
       "    }\n",
       "\n",
       "    .dataframe thead th {\n",
       "        text-align: right;\n",
       "    }\n",
       "</style>\n",
       "<table border=\"1\" class=\"dataframe\">\n",
       "  <thead>\n",
       "    <tr style=\"text-align: right;\">\n",
       "      <th></th>\n",
       "      <th>title</th>\n",
       "      <th>text</th>\n",
       "      <th>subject</th>\n",
       "      <th>date</th>\n",
       "      <th>class</th>\n",
       "    </tr>\n",
       "  </thead>\n",
       "  <tbody>\n",
       "    <tr>\n",
       "      <td>0</td>\n",
       "      <td>Donald Trump Sends Out Embarrassing New Year’...</td>\n",
       "      <td>Donald Trump just couldn t wish all Americans ...</td>\n",
       "      <td>News</td>\n",
       "      <td>December 31, 2017</td>\n",
       "      <td>0</td>\n",
       "    </tr>\n",
       "    <tr>\n",
       "      <td>1</td>\n",
       "      <td>Drunk Bragging Trump Staffer Started Russian ...</td>\n",
       "      <td>House Intelligence Committee Chairman Devin Nu...</td>\n",
       "      <td>News</td>\n",
       "      <td>December 31, 2017</td>\n",
       "      <td>0</td>\n",
       "    </tr>\n",
       "    <tr>\n",
       "      <td>2</td>\n",
       "      <td>Sheriff David Clarke Becomes An Internet Joke...</td>\n",
       "      <td>On Friday, it was revealed that former Milwauk...</td>\n",
       "      <td>News</td>\n",
       "      <td>December 30, 2017</td>\n",
       "      <td>0</td>\n",
       "    </tr>\n",
       "    <tr>\n",
       "      <td>3</td>\n",
       "      <td>Trump Is So Obsessed He Even Has Obama’s Name...</td>\n",
       "      <td>On Christmas day, Donald Trump announced that ...</td>\n",
       "      <td>News</td>\n",
       "      <td>December 29, 2017</td>\n",
       "      <td>0</td>\n",
       "    </tr>\n",
       "    <tr>\n",
       "      <td>4</td>\n",
       "      <td>Pope Francis Just Called Out Donald Trump Dur...</td>\n",
       "      <td>Pope Francis used his annual Christmas Day mes...</td>\n",
       "      <td>News</td>\n",
       "      <td>December 25, 2017</td>\n",
       "      <td>0</td>\n",
       "    </tr>\n",
       "    <tr>\n",
       "      <td>...</td>\n",
       "      <td>...</td>\n",
       "      <td>...</td>\n",
       "      <td>...</td>\n",
       "      <td>...</td>\n",
       "      <td>...</td>\n",
       "    </tr>\n",
       "    <tr>\n",
       "      <td>21412</td>\n",
       "      <td>'Fully committed' NATO backs new U.S. approach...</td>\n",
       "      <td>BRUSSELS (Reuters) - NATO allies on Tuesday we...</td>\n",
       "      <td>worldnews</td>\n",
       "      <td>August 22, 2017</td>\n",
       "      <td>1</td>\n",
       "    </tr>\n",
       "    <tr>\n",
       "      <td>21413</td>\n",
       "      <td>LexisNexis withdrew two products from Chinese ...</td>\n",
       "      <td>LONDON (Reuters) - LexisNexis, a provider of l...</td>\n",
       "      <td>worldnews</td>\n",
       "      <td>August 22, 2017</td>\n",
       "      <td>1</td>\n",
       "    </tr>\n",
       "    <tr>\n",
       "      <td>21414</td>\n",
       "      <td>Minsk cultural hub becomes haven from authorities</td>\n",
       "      <td>MINSK (Reuters) - In the shadow of disused Sov...</td>\n",
       "      <td>worldnews</td>\n",
       "      <td>August 22, 2017</td>\n",
       "      <td>1</td>\n",
       "    </tr>\n",
       "    <tr>\n",
       "      <td>21415</td>\n",
       "      <td>Vatican upbeat on possibility of Pope Francis ...</td>\n",
       "      <td>MOSCOW (Reuters) - Vatican Secretary of State ...</td>\n",
       "      <td>worldnews</td>\n",
       "      <td>August 22, 2017</td>\n",
       "      <td>1</td>\n",
       "    </tr>\n",
       "    <tr>\n",
       "      <td>21416</td>\n",
       "      <td>Indonesia to buy $1.14 billion worth of Russia...</td>\n",
       "      <td>JAKARTA (Reuters) - Indonesia will buy 11 Sukh...</td>\n",
       "      <td>worldnews</td>\n",
       "      <td>August 22, 2017</td>\n",
       "      <td>1</td>\n",
       "    </tr>\n",
       "  </tbody>\n",
       "</table>\n",
       "<p>44898 rows × 5 columns</p>\n",
       "</div>"
      ],
      "text/plain": [
       "                                                   title  \\\n",
       "0       Donald Trump Sends Out Embarrassing New Year’...   \n",
       "1       Drunk Bragging Trump Staffer Started Russian ...   \n",
       "2       Sheriff David Clarke Becomes An Internet Joke...   \n",
       "3       Trump Is So Obsessed He Even Has Obama’s Name...   \n",
       "4       Pope Francis Just Called Out Donald Trump Dur...   \n",
       "...                                                  ...   \n",
       "21412  'Fully committed' NATO backs new U.S. approach...   \n",
       "21413  LexisNexis withdrew two products from Chinese ...   \n",
       "21414  Minsk cultural hub becomes haven from authorities   \n",
       "21415  Vatican upbeat on possibility of Pope Francis ...   \n",
       "21416  Indonesia to buy $1.14 billion worth of Russia...   \n",
       "\n",
       "                                                    text    subject  \\\n",
       "0      Donald Trump just couldn t wish all Americans ...       News   \n",
       "1      House Intelligence Committee Chairman Devin Nu...       News   \n",
       "2      On Friday, it was revealed that former Milwauk...       News   \n",
       "3      On Christmas day, Donald Trump announced that ...       News   \n",
       "4      Pope Francis used his annual Christmas Day mes...       News   \n",
       "...                                                  ...        ...   \n",
       "21412  BRUSSELS (Reuters) - NATO allies on Tuesday we...  worldnews   \n",
       "21413  LONDON (Reuters) - LexisNexis, a provider of l...  worldnews   \n",
       "21414  MINSK (Reuters) - In the shadow of disused Sov...  worldnews   \n",
       "21415  MOSCOW (Reuters) - Vatican Secretary of State ...  worldnews   \n",
       "21416  JAKARTA (Reuters) - Indonesia will buy 11 Sukh...  worldnews   \n",
       "\n",
       "                    date  class  \n",
       "0      December 31, 2017      0  \n",
       "1      December 31, 2017      0  \n",
       "2      December 30, 2017      0  \n",
       "3      December 29, 2017      0  \n",
       "4      December 25, 2017      0  \n",
       "...                  ...    ...  \n",
       "21412   August 22, 2017       1  \n",
       "21413   August 22, 2017       1  \n",
       "21414   August 22, 2017       1  \n",
       "21415   August 22, 2017       1  \n",
       "21416   August 22, 2017       1  \n",
       "\n",
       "[44898 rows x 5 columns]"
      ]
     },
     "execution_count": 4,
     "metadata": {},
     "output_type": "execute_result"
    }
   ],
   "source": [
    "news = pd.concat([fakeNews,trueNews])\n",
    "news"
   ]
  },
  {
   "cell_type": "code",
   "execution_count": 5,
   "metadata": {},
   "outputs": [],
   "source": [
    "# Tf-Idf on titles.  Assign X and y variables\n",
    "X = TfidfVectorizer(stop_words='english', max_features=50).fit_transform(news['title'])\n",
    "y = news['class']"
   ]
  },
  {
   "cell_type": "code",
   "execution_count": 6,
   "metadata": {},
   "outputs": [],
   "source": [
    "# Split into training and testing datasets\n",
    "X_train, X_test, y_train, y_test = train_test_split(X,y, test_size = 0.2)"
   ]
  },
  {
   "cell_type": "code",
   "execution_count": 7,
   "metadata": {},
   "outputs": [],
   "source": [
    "# Random Forest Hyperparameters\n",
    "est = np.arange(1,40)\n",
    "depth = np.arange(1,3)"
   ]
  },
  {
   "cell_type": "code",
   "execution_count": 8,
   "metadata": {},
   "outputs": [
    {
     "name": "stdout",
     "output_type": "stream",
     "text": [
      "Test Accuracy= 0.524, estimators = 1, depth = 1, TPR 0.000, FPR 0.000\n",
      "Test Accuracy= 0.582, estimators = 1, depth = 2, TPR 0.144, FPR 0.021\n",
      "Test Accuracy= 0.524, estimators = 2, depth = 1, TPR 0.000, FPR 0.000\n",
      "Test Accuracy= 0.582, estimators = 2, depth = 2, TPR 0.144, FPR 0.020\n",
      "Test Accuracy= 0.543, estimators = 3, depth = 1, TPR 0.043, FPR 0.003\n",
      "Test Accuracy= 0.713, estimators = 3, depth = 2, TPR 0.972, FPR 0.523\n",
      "Test Accuracy= 0.543, estimators = 4, depth = 1, TPR 0.043, FPR 0.003\n",
      "Test Accuracy= 0.739, estimators = 4, depth = 2, TPR 0.969, FPR 0.470\n",
      "Test Accuracy= 0.543, estimators = 5, depth = 1, TPR 0.043, FPR 0.003\n",
      "Test Accuracy= 0.738, estimators = 5, depth = 2, TPR 0.969, FPR 0.470\n",
      "Test Accuracy= 0.543, estimators = 6, depth = 1, TPR 0.043, FPR 0.003\n",
      "Test Accuracy= 0.716, estimators = 6, depth = 2, TPR 0.994, FPR 0.536\n",
      "Test Accuracy= 0.543, estimators = 7, depth = 1, TPR 0.043, FPR 0.003\n",
      "Test Accuracy= 0.716, estimators = 7, depth = 2, TPR 0.995, FPR 0.537\n",
      "Test Accuracy= 0.543, estimators = 8, depth = 1, TPR 0.043, FPR 0.003\n",
      "Test Accuracy= 0.717, estimators = 8, depth = 2, TPR 0.994, FPR 0.534\n",
      "Test Accuracy= 0.555, estimators = 9, depth = 1, TPR 0.069, FPR 0.005\n",
      "Test Accuracy= 0.738, estimators = 9, depth = 2, TPR 0.969, FPR 0.471\n",
      "Test Accuracy= 0.555, estimators = 10, depth = 1, TPR 0.069, FPR 0.004\n",
      "Test Accuracy= 0.725, estimators = 10, depth = 2, TPR 0.993, FPR 0.517\n",
      "Test Accuracy= 0.555, estimators = 11, depth = 1, TPR 0.069, FPR 0.004\n",
      "Test Accuracy= 0.751, estimators = 11, depth = 2, TPR 0.989, FPR 0.465\n",
      "Test Accuracy= 0.555, estimators = 12, depth = 1, TPR 0.069, FPR 0.004\n",
      "Test Accuracy= 0.751, estimators = 12, depth = 2, TPR 0.990, FPR 0.465\n",
      "Test Accuracy= 0.724, estimators = 13, depth = 1, TPR 0.965, FPR 0.494\n",
      "Test Accuracy= 0.751, estimators = 13, depth = 2, TPR 0.991, FPR 0.467\n",
      "Test Accuracy= 0.724, estimators = 14, depth = 1, TPR 0.965, FPR 0.494\n",
      "Test Accuracy= 0.751, estimators = 14, depth = 2, TPR 0.991, FPR 0.467\n",
      "Test Accuracy= 0.724, estimators = 15, depth = 1, TPR 0.965, FPR 0.495\n",
      "Test Accuracy= 0.746, estimators = 15, depth = 2, TPR 0.993, FPR 0.478\n",
      "Test Accuracy= 0.724, estimators = 16, depth = 1, TPR 0.965, FPR 0.495\n",
      "Test Accuracy= 0.751, estimators = 16, depth = 2, TPR 0.991, FPR 0.466\n",
      "Test Accuracy= 0.724, estimators = 17, depth = 1, TPR 0.965, FPR 0.494\n",
      "Test Accuracy= 0.751, estimators = 17, depth = 2, TPR 0.991, FPR 0.466\n",
      "Test Accuracy= 0.744, estimators = 18, depth = 1, TPR 0.964, FPR 0.455\n",
      "Test Accuracy= 0.751, estimators = 18, depth = 2, TPR 0.991, FPR 0.466\n",
      "Test Accuracy= 0.731, estimators = 19, depth = 1, TPR 0.727, FPR 0.266\n",
      "Test Accuracy= 0.756, estimators = 19, depth = 2, TPR 0.988, FPR 0.455\n",
      "Test Accuracy= 0.744, estimators = 20, depth = 1, TPR 0.964, FPR 0.455\n",
      "Test Accuracy= 0.766, estimators = 20, depth = 2, TPR 0.966, FPR 0.415\n",
      "Test Accuracy= 0.746, estimators = 21, depth = 1, TPR 0.766, FPR 0.272\n",
      "Test Accuracy= 0.766, estimators = 21, depth = 2, TPR 0.966, FPR 0.415\n",
      "Test Accuracy= 0.754, estimators = 22, depth = 1, TPR 0.766, FPR 0.258\n",
      "Test Accuracy= 0.766, estimators = 22, depth = 2, TPR 0.966, FPR 0.415\n",
      "Test Accuracy= 0.758, estimators = 23, depth = 1, TPR 0.775, FPR 0.258\n",
      "Test Accuracy= 0.767, estimators = 23, depth = 2, TPR 0.967, FPR 0.415\n",
      "Test Accuracy= 0.758, estimators = 24, depth = 1, TPR 0.775, FPR 0.258\n",
      "Test Accuracy= 0.766, estimators = 24, depth = 2, TPR 0.967, FPR 0.416\n",
      "Test Accuracy= 0.758, estimators = 25, depth = 1, TPR 0.775, FPR 0.257\n",
      "Test Accuracy= 0.767, estimators = 25, depth = 2, TPR 0.967, FPR 0.415\n",
      "Test Accuracy= 0.757, estimators = 26, depth = 1, TPR 0.775, FPR 0.259\n",
      "Test Accuracy= 0.766, estimators = 26, depth = 2, TPR 0.966, FPR 0.415\n",
      "Test Accuracy= 0.757, estimators = 27, depth = 1, TPR 0.775, FPR 0.258\n",
      "Test Accuracy= 0.766, estimators = 27, depth = 2, TPR 0.966, FPR 0.415\n",
      "Test Accuracy= 0.758, estimators = 28, depth = 1, TPR 0.775, FPR 0.257\n",
      "Test Accuracy= 0.766, estimators = 28, depth = 2, TPR 0.966, FPR 0.416\n",
      "Test Accuracy= 0.758, estimators = 29, depth = 1, TPR 0.774, FPR 0.257\n",
      "Test Accuracy= 0.766, estimators = 29, depth = 2, TPR 0.966, FPR 0.416\n",
      "Test Accuracy= 0.758, estimators = 30, depth = 1, TPR 0.774, FPR 0.257\n",
      "Test Accuracy= 0.766, estimators = 30, depth = 2, TPR 0.966, FPR 0.416\n",
      "Test Accuracy= 0.758, estimators = 31, depth = 1, TPR 0.774, FPR 0.257\n",
      "Test Accuracy= 0.774, estimators = 31, depth = 2, TPR 0.964, FPR 0.398\n",
      "Test Accuracy= 0.758, estimators = 32, depth = 1, TPR 0.775, FPR 0.257\n",
      "Test Accuracy= 0.774, estimators = 32, depth = 2, TPR 0.964, FPR 0.398\n",
      "Test Accuracy= 0.758, estimators = 33, depth = 1, TPR 0.775, FPR 0.257\n",
      "Test Accuracy= 0.774, estimators = 33, depth = 2, TPR 0.964, FPR 0.398\n",
      "Test Accuracy= 0.758, estimators = 34, depth = 1, TPR 0.774, FPR 0.257\n",
      "Test Accuracy= 0.774, estimators = 34, depth = 2, TPR 0.964, FPR 0.399\n",
      "Test Accuracy= 0.625, estimators = 35, depth = 1, TPR 0.229, FPR 0.016\n",
      "Test Accuracy= 0.775, estimators = 35, depth = 2, TPR 0.964, FPR 0.396\n",
      "Test Accuracy= 0.634, estimators = 36, depth = 1, TPR 0.256, FPR 0.023\n",
      "Test Accuracy= 0.775, estimators = 36, depth = 2, TPR 0.964, FPR 0.397\n",
      "Test Accuracy= 0.760, estimators = 37, depth = 1, TPR 0.779, FPR 0.258\n",
      "Test Accuracy= 0.775, estimators = 37, depth = 2, TPR 0.964, FPR 0.397\n",
      "Test Accuracy= 0.760, estimators = 38, depth = 1, TPR 0.779, FPR 0.258\n",
      "Test Accuracy= 0.775, estimators = 38, depth = 2, TPR 0.964, FPR 0.397\n",
      "Test Accuracy= 0.764, estimators = 39, depth = 1, TPR 0.779, FPR 0.250\n",
      "Test Accuracy= 0.775, estimators = 39, depth = 2, TPR 0.964, FPR 0.397\n"
     ]
    }
   ],
   "source": [
    "# Random Forest Classifier\n",
    "FPR, TPR = [],[]\n",
    "for i in est:\n",
    "    for j in depth:\n",
    "        rfc = RandomForestClassifier(n_estimators=i, max_depth=j,random_state=42)\n",
    "    \n",
    "        rfc.fit(X_train, y_train)\n",
    "        y_pred = rfc.predict(X_test)\n",
    "        tn, fp, fn, tp = confusion_matrix(y_test, y_pred).ravel()\n",
    "        TPR += [tp/(tp+fn)]\n",
    "        FPR += [fp/(fp+tn)]\n",
    "        print(f'Test Accuracy= {rfc.score(X_test, y_test):.3f}, estimators = {i}, depth = {j}, TPR {TPR[-1]:.3f}, FPR {FPR[-1]:.3f}')"
   ]
  },
  {
   "cell_type": "code",
   "execution_count": 9,
   "metadata": {},
   "outputs": [
    {
     "data": {
      "image/png": "[encoded data removed]",
      "text/plain": [
       "<Figure size 432x288 with 1 Axes>"
      ]
     },
     "metadata": {
      "needs_background": "light"
     },
     "output_type": "display_data"
    }
   ],
   "source": [
    "# Sorts the points to display nicely on ROC\n",
    "FPR, TPR = zip(*sorted(zip(FPR, TPR)))\n",
    "fpr = [0.]+list(FPR)+[1.]; tpr = [0.]+list(TPR)+[1.]\n",
    "\n",
    "# Plot\n",
    "fig, ax = plt.subplots()\n",
    "plt.plot(fpr, tpr, ':', label='ROC')\n",
    "plt.scatter(FPR, TPR, 50, color='red', marker='o', label='operating points')\n",
    "plt.plot([0, 1], [0, 1], linestyle='--', color=(0.6, 0.6, 0.6), label='coin flip')\n",
    "\n",
    "# Annotate certain operating points\n",
    "#annot(1, fpr[1], tpr[1])\n",
    "#annot(2, fpr[4], tpr[4])\n",
    "#annot(3, fpr[8], tpr[8])\n",
    "#annot(4, fpr[9], tpr[9])\n",
    "\n",
    "# Labels\n",
    "plt.xlabel('False Positive Rate')\n",
    "plt.ylabel('True Positive Rate')\n",
    "plt.legend(loc='lower right')\n",
    "plt.grid()\n",
    "plt.show()"
   ]
  },
  {
   "cell_type": "code",
   "execution_count": 10,
   "metadata": {},
   "outputs": [],
   "source": [
    "# Decision Tree Hyperparameters\n",
    "min_weight = np.arange(0,0.3,0.01)\n",
    "depth = np.arange(1,5)"
   ]
  },
  {
   "cell_type": "code",
   "execution_count": 11,
   "metadata": {},
   "outputs": [
    {
     "name": "stdout",
     "output_type": "stream",
     "text": [
      "Test Accuracy= 0.655, min_weight = 0.0, depth = 1, TPR 0.999, FPR 0.656\n",
      "Test Accuracy= 0.686, min_weight = 0.0, depth = 2, TPR 0.997, FPR 0.597\n",
      "Test Accuracy= 0.709, min_weight = 0.0, depth = 3, TPR 0.995, FPR 0.550\n",
      "Test Accuracy= 0.727, min_weight = 0.0, depth = 4, TPR 0.994, FPR 0.516\n",
      "Test Accuracy= 0.655, min_weight = 0.01, depth = 1, TPR 0.999, FPR 0.656\n",
      "Test Accuracy= 0.686, min_weight = 0.01, depth = 2, TPR 0.997, FPR 0.597\n",
      "Test Accuracy= 0.709, min_weight = 0.01, depth = 3, TPR 0.995, FPR 0.550\n",
      "Test Accuracy= 0.727, min_weight = 0.01, depth = 4, TPR 0.994, FPR 0.516\n",
      "Test Accuracy= 0.655, min_weight = 0.02, depth = 1, TPR 0.999, FPR 0.656\n",
      "Test Accuracy= 0.686, min_weight = 0.02, depth = 2, TPR 0.997, FPR 0.597\n",
      "Test Accuracy= 0.709, min_weight = 0.02, depth = 3, TPR 0.995, FPR 0.550\n",
      "Test Accuracy= 0.709, min_weight = 0.02, depth = 4, TPR 0.995, FPR 0.550\n",
      "Test Accuracy= 0.655, min_weight = 0.03, depth = 1, TPR 0.999, FPR 0.656\n",
      "Test Accuracy= 0.655, min_weight = 0.03, depth = 2, TPR 0.999, FPR 0.656\n",
      "Test Accuracy= 0.682, min_weight = 0.03, depth = 3, TPR 0.973, FPR 0.582\n",
      "Test Accuracy= 0.700, min_weight = 0.03, depth = 4, TPR 0.758, FPR 0.353\n",
      "Test Accuracy= 0.655, min_weight = 0.04, depth = 1, TPR 0.999, FPR 0.656\n",
      "Test Accuracy= 0.655, min_weight = 0.04, depth = 2, TPR 0.999, FPR 0.656\n",
      "Test Accuracy= 0.682, min_weight = 0.04, depth = 3, TPR 0.973, FPR 0.582\n",
      "Test Accuracy= 0.700, min_weight = 0.04, depth = 4, TPR 0.758, FPR 0.353\n",
      "Test Accuracy= 0.655, min_weight = 0.05, depth = 1, TPR 0.999, FPR 0.656\n",
      "Test Accuracy= 0.655, min_weight = 0.05, depth = 2, TPR 0.999, FPR 0.656\n",
      "Test Accuracy= 0.680, min_weight = 0.05, depth = 3, TPR 0.781, FPR 0.412\n",
      "Test Accuracy= 0.692, min_weight = 0.05, depth = 4, TPR 0.879, FPR 0.478\n",
      "Test Accuracy= 0.655, min_weight = 0.06, depth = 1, TPR 0.999, FPR 0.656\n",
      "Test Accuracy= 0.655, min_weight = 0.06, depth = 2, TPR 0.999, FPR 0.656\n",
      "Test Accuracy= 0.680, min_weight = 0.06, depth = 3, TPR 0.781, FPR 0.412\n",
      "Test Accuracy= 0.692, min_weight = 0.06, depth = 4, TPR 0.879, FPR 0.478\n",
      "Test Accuracy= 0.655, min_weight = 0.07, depth = 1, TPR 0.999, FPR 0.656\n",
      "Test Accuracy= 0.655, min_weight = 0.07, depth = 2, TPR 0.999, FPR 0.656\n",
      "Test Accuracy= 0.680, min_weight = 0.07, depth = 3, TPR 0.781, FPR 0.412\n",
      "Test Accuracy= 0.692, min_weight = 0.07, depth = 4, TPR 0.879, FPR 0.478\n",
      "Test Accuracy= 0.655, min_weight = 0.08, depth = 1, TPR 0.999, FPR 0.656\n",
      "Test Accuracy= 0.663, min_weight = 0.08, depth = 2, TPR 0.740, FPR 0.406\n",
      "Test Accuracy= 0.681, min_weight = 0.08, depth = 3, TPR 0.860, FPR 0.481\n",
      "Test Accuracy= 0.681, min_weight = 0.08, depth = 4, TPR 0.860, FPR 0.481\n",
      "Test Accuracy= 0.655, min_weight = 0.09, depth = 1, TPR 0.999, FPR 0.656\n",
      "Test Accuracy= 0.663, min_weight = 0.09, depth = 2, TPR 0.740, FPR 0.406\n",
      "Test Accuracy= 0.681, min_weight = 0.09, depth = 3, TPR 0.860, FPR 0.481\n",
      "Test Accuracy= 0.681, min_weight = 0.09, depth = 4, TPR 0.860, FPR 0.481\n",
      "Test Accuracy= 0.655, min_weight = 0.1, depth = 1, TPR 0.999, FPR 0.656\n",
      "Test Accuracy= 0.663, min_weight = 0.1, depth = 2, TPR 0.740, FPR 0.406\n",
      "Test Accuracy= 0.678, min_weight = 0.1, depth = 3, TPR 0.900, FPR 0.524\n",
      "Test Accuracy= 0.678, min_weight = 0.1, depth = 4, TPR 0.900, FPR 0.524\n",
      "Test Accuracy= 0.655, min_weight = 0.11, depth = 1, TPR 0.999, FPR 0.656\n",
      "Test Accuracy= 0.663, min_weight = 0.11, depth = 2, TPR 0.740, FPR 0.406\n",
      "Test Accuracy= 0.678, min_weight = 0.11, depth = 3, TPR 0.900, FPR 0.524\n",
      "Test Accuracy= 0.678, min_weight = 0.11, depth = 4, TPR 0.900, FPR 0.524\n",
      "Test Accuracy= 0.655, min_weight = 0.12, depth = 1, TPR 0.999, FPR 0.656\n",
      "Test Accuracy= 0.663, min_weight = 0.12, depth = 2, TPR 0.740, FPR 0.406\n",
      "Test Accuracy= 0.675, min_weight = 0.12, depth = 3, TPR 0.890, FPR 0.520\n",
      "Test Accuracy= 0.675, min_weight = 0.12, depth = 4, TPR 0.890, FPR 0.520\n",
      "Test Accuracy= 0.655, min_weight = 0.13, depth = 1, TPR 0.999, FPR 0.656\n",
      "Test Accuracy= 0.663, min_weight = 0.13, depth = 2, TPR 0.740, FPR 0.406\n",
      "Test Accuracy= 0.663, min_weight = 0.13, depth = 3, TPR 0.740, FPR 0.406\n",
      "Test Accuracy= 0.663, min_weight = 0.13, depth = 4, TPR 0.740, FPR 0.406\n",
      "Test Accuracy= 0.655, min_weight = 0.14, depth = 1, TPR 0.999, FPR 0.656\n",
      "Test Accuracy= 0.663, min_weight = 0.14, depth = 2, TPR 0.740, FPR 0.406\n",
      "Test Accuracy= 0.663, min_weight = 0.14, depth = 3, TPR 0.740, FPR 0.406\n",
      "Test Accuracy= 0.663, min_weight = 0.14, depth = 4, TPR 0.740, FPR 0.406\n",
      "Test Accuracy= 0.655, min_weight = 0.15, depth = 1, TPR 0.999, FPR 0.656\n",
      "Test Accuracy= 0.663, min_weight = 0.15, depth = 2, TPR 0.740, FPR 0.406\n",
      "Test Accuracy= 0.663, min_weight = 0.15, depth = 3, TPR 0.740, FPR 0.406\n",
      "Test Accuracy= 0.663, min_weight = 0.15, depth = 4, TPR 0.740, FPR 0.406\n",
      "Test Accuracy= 0.655, min_weight = 0.16, depth = 1, TPR 0.999, FPR 0.656\n",
      "Test Accuracy= 0.663, min_weight = 0.16, depth = 2, TPR 0.740, FPR 0.406\n",
      "Test Accuracy= 0.663, min_weight = 0.16, depth = 3, TPR 0.740, FPR 0.406\n",
      "Test Accuracy= 0.663, min_weight = 0.16, depth = 4, TPR 0.740, FPR 0.406\n",
      "Test Accuracy= 0.655, min_weight = 0.17, depth = 1, TPR 0.999, FPR 0.656\n",
      "Test Accuracy= 0.663, min_weight = 0.17, depth = 2, TPR 0.740, FPR 0.406\n",
      "Test Accuracy= 0.663, min_weight = 0.17, depth = 3, TPR 0.740, FPR 0.406\n",
      "Test Accuracy= 0.663, min_weight = 0.17, depth = 4, TPR 0.740, FPR 0.406\n",
      "Test Accuracy= 0.655, min_weight = 0.18, depth = 1, TPR 0.999, FPR 0.656\n",
      "Test Accuracy= 0.663, min_weight = 0.18, depth = 2, TPR 0.740, FPR 0.406\n",
      "Test Accuracy= 0.663, min_weight = 0.18, depth = 3, TPR 0.740, FPR 0.406\n",
      "Test Accuracy= 0.663, min_weight = 0.18, depth = 4, TPR 0.740, FPR 0.406\n",
      "Test Accuracy= 0.553, min_weight = 0.19, depth = 1, TPR 0.741, FPR 0.618\n",
      "Test Accuracy= 0.553, min_weight = 0.19, depth = 2, TPR 0.741, FPR 0.618\n",
      "Test Accuracy= 0.553, min_weight = 0.19, depth = 3, TPR 0.741, FPR 0.618\n",
      "Test Accuracy= 0.553, min_weight = 0.19, depth = 4, TPR 0.741, FPR 0.618\n",
      "Test Accuracy= 0.553, min_weight = 0.2, depth = 1, TPR 0.741, FPR 0.618\n",
      "Test Accuracy= 0.553, min_weight = 0.2, depth = 2, TPR 0.741, FPR 0.618\n",
      "Test Accuracy= 0.553, min_weight = 0.2, depth = 3, TPR 0.741, FPR 0.618\n",
      "Test Accuracy= 0.553, min_weight = 0.2, depth = 4, TPR 0.741, FPR 0.618\n",
      "Test Accuracy= 0.553, min_weight = 0.21, depth = 1, TPR 0.741, FPR 0.618\n",
      "Test Accuracy= 0.553, min_weight = 0.21, depth = 2, TPR 0.741, FPR 0.618\n",
      "Test Accuracy= 0.553, min_weight = 0.21, depth = 3, TPR 0.741, FPR 0.618\n",
      "Test Accuracy= 0.553, min_weight = 0.21, depth = 4, TPR 0.741, FPR 0.618\n",
      "Test Accuracy= 0.553, min_weight = 0.22, depth = 1, TPR 0.741, FPR 0.618\n",
      "Test Accuracy= 0.553, min_weight = 0.22, depth = 2, TPR 0.741, FPR 0.618\n",
      "Test Accuracy= 0.553, min_weight = 0.22, depth = 3, TPR 0.741, FPR 0.618\n",
      "Test Accuracy= 0.553, min_weight = 0.22, depth = 4, TPR 0.741, FPR 0.618\n",
      "Test Accuracy= 0.553, min_weight = 0.23, depth = 1, TPR 0.741, FPR 0.618\n",
      "Test Accuracy= 0.553, min_weight = 0.23, depth = 2, TPR 0.741, FPR 0.618\n",
      "Test Accuracy= 0.553, min_weight = 0.23, depth = 3, TPR 0.741, FPR 0.618\n",
      "Test Accuracy= 0.553, min_weight = 0.23, depth = 4, TPR 0.741, FPR 0.618\n",
      "Test Accuracy= 0.553, min_weight = 0.24, depth = 1, TPR 0.741, FPR 0.618\n",
      "Test Accuracy= 0.553, min_weight = 0.24, depth = 2, TPR 0.741, FPR 0.618\n",
      "Test Accuracy= 0.553, min_weight = 0.24, depth = 3, TPR 0.741, FPR 0.618\n",
      "Test Accuracy= 0.553, min_weight = 0.24, depth = 4, TPR 0.741, FPR 0.618\n",
      "Test Accuracy= 0.553, min_weight = 0.25, depth = 1, TPR 0.741, FPR 0.618\n",
      "Test Accuracy= 0.553, min_weight = 0.25, depth = 2, TPR 0.741, FPR 0.618\n",
      "Test Accuracy= 0.553, min_weight = 0.25, depth = 3, TPR 0.741, FPR 0.618\n",
      "Test Accuracy= 0.553, min_weight = 0.25, depth = 4, TPR 0.741, FPR 0.618\n",
      "Test Accuracy= 0.553, min_weight = 0.26, depth = 1, TPR 0.741, FPR 0.618\n",
      "Test Accuracy= 0.553, min_weight = 0.26, depth = 2, TPR 0.741, FPR 0.618\n",
      "Test Accuracy= 0.553, min_weight = 0.26, depth = 3, TPR 0.741, FPR 0.618\n",
      "Test Accuracy= 0.553, min_weight = 0.26, depth = 4, TPR 0.741, FPR 0.618\n",
      "Test Accuracy= 0.553, min_weight = 0.27, depth = 1, TPR 0.741, FPR 0.618\n",
      "Test Accuracy= 0.553, min_weight = 0.27, depth = 2, TPR 0.741, FPR 0.618\n",
      "Test Accuracy= 0.553, min_weight = 0.27, depth = 3, TPR 0.741, FPR 0.618\n",
      "Test Accuracy= 0.553, min_weight = 0.27, depth = 4, TPR 0.741, FPR 0.618\n",
      "Test Accuracy= 0.553, min_weight = 0.28, depth = 1, TPR 0.741, FPR 0.618\n",
      "Test Accuracy= 0.553, min_weight = 0.28, depth = 2, TPR 0.741, FPR 0.618\n",
      "Test Accuracy= 0.553, min_weight = 0.28, depth = 3, TPR 0.741, FPR 0.618\n",
      "Test Accuracy= 0.553, min_weight = 0.28, depth = 4, TPR 0.741, FPR 0.618\n",
      "Test Accuracy= 0.553, min_weight = 0.29, depth = 1, TPR 0.741, FPR 0.618\n"
     ]
    },
    {
     "name": "stdout",
     "output_type": "stream",
     "text": [
      "Test Accuracy= 0.553, min_weight = 0.29, depth = 2, TPR 0.741, FPR 0.618\n",
      "Test Accuracy= 0.553, min_weight = 0.29, depth = 3, TPR 0.741, FPR 0.618\n",
      "Test Accuracy= 0.553, min_weight = 0.29, depth = 4, TPR 0.741, FPR 0.618\n"
     ]
    }
   ],
   "source": [
    "# Decision Tree Classifier\n",
    "FPR2, TPR2 = [],[]\n",
    "for i in min_weight:\n",
    "    for j in depth:\n",
    "        dtc = DecisionTreeClassifier(min_weight_fraction_leaf=i, max_depth=j, random_state=42)\n",
    "    \n",
    "        dtc.fit(X_train, y_train)\n",
    "        y_pred = dtc.predict(X_test)\n",
    "        tn, fp, fn, tp = confusion_matrix(y_test, y_pred).ravel()\n",
    "        TPR2 += [tp/(tp+fn)]\n",
    "        FPR2 += [fp/(fp+tn)]\n",
    "        print(f'Test Accuracy= {dtc.score(X_test, y_test):.3f}, min_weight = {i}, depth = {j}, TPR {TPR2[-1]:.3f}, FPR {FPR2[-1]:.3f}')"
   ]
  },
  {
   "cell_type": "code",
   "execution_count": 12,
   "metadata": {},
   "outputs": [
    {
     "data": {
      "image/png": "[encoded data removed]",
      "text/plain": [
       "<Figure size 432x288 with 1 Axes>"
      ]
     },
     "metadata": {
      "needs_background": "light"
     },
     "output_type": "display_data"
    }
   ],
   "source": [
    "# Sorts the points to display nicely on ROC\n",
    "FPR2, TPR2 = zip(*sorted(zip(FPR2, TPR2)))\n",
    "fpr = [0.]+list(FPR2)+[1.]; tpr = [0.]+list(TPR2)+[1.]\n",
    "\n",
    "# Plot\n",
    "fig, ax = plt.subplots()\n",
    "plt.plot(fpr, tpr, ':', label='ROC')\n",
    "plt.scatter(FPR2, TPR2, 50, color='red', marker='o', label='operating points')\n",
    "plt.plot([0, 1], [0, 1], linestyle='--', color=(0.6, 0.6, 0.6), label='coin flip')\n",
    "\n",
    "# Annotate certain operating points\n",
    "#annot(1, fpr[1], tpr[1])\n",
    "#annot(2, fpr[4], tpr[4])\n",
    "#annot(3, fpr[8], tpr[8])\n",
    "#annot(4, fpr[9], tpr[9])\n",
    "\n",
    "# Labels\n",
    "plt.xlabel('False Positive Rate')\n",
    "plt.ylabel('True Positive Rate')\n",
    "plt.legend(loc='lower right')\n",
    "plt.grid()\n",
    "plt.show()"
   ]
  },
  {
   "cell_type": "code",
   "execution_count": 13,
   "metadata": {},
   "outputs": [],
   "source": [
    "# Neural Network Hyperparameters\n",
    "alpha = (0.00001,0.0001,0.001,0.01,0.1,1)\n",
    "learning = (0.00001,0.0001,0.001,0.01,0.1,1)"
   ]
  },
  {
   "cell_type": "code",
   "execution_count": 14,
   "metadata": {},
   "outputs": [
    {
     "name": "stdout",
     "output_type": "stream",
     "text": [
      "Test Accuracy= 0.814, alpha = 1e-05, learning = 1e-05, TPR 0.934, FPR 0.295\n",
      "Test Accuracy= 0.816, alpha = 1e-05, learning = 0.0001, TPR 0.937, FPR 0.294\n",
      "Test Accuracy= 0.816, alpha = 1e-05, learning = 0.001, TPR 0.928, FPR 0.286\n",
      "Test Accuracy= 0.812, alpha = 1e-05, learning = 0.01, TPR 0.925, FPR 0.290\n",
      "Test Accuracy= 0.814, alpha = 1e-05, learning = 0.1, TPR 0.944, FPR 0.304\n",
      "Test Accuracy= 0.520, alpha = 1e-05, learning = 1, TPR 1.000, FPR 0.915\n",
      "Test Accuracy= 0.814, alpha = 0.0001, learning = 1e-05, TPR 0.934, FPR 0.294\n",
      "Test Accuracy= 0.816, alpha = 0.0001, learning = 0.0001, TPR 0.935, FPR 0.292\n",
      "Test Accuracy= 0.816, alpha = 0.0001, learning = 0.001, TPR 0.927, FPR 0.285\n",
      "Test Accuracy= 0.816, alpha = 0.0001, learning = 0.01, TPR 0.934, FPR 0.290\n",
      "Test Accuracy= 0.813, alpha = 0.0001, learning = 0.1, TPR 0.939, FPR 0.300\n",
      "Test Accuracy= 0.512, alpha = 0.0001, learning = 1, TPR 1.000, FPR 0.930\n",
      "Test Accuracy= 0.814, alpha = 0.001, learning = 1e-05, TPR 0.934, FPR 0.294\n",
      "Test Accuracy= 0.816, alpha = 0.001, learning = 0.0001, TPR 0.937, FPR 0.294\n",
      "Test Accuracy= 0.816, alpha = 0.001, learning = 0.001, TPR 0.933, FPR 0.289\n",
      "Test Accuracy= 0.816, alpha = 0.001, learning = 0.01, TPR 0.932, FPR 0.290\n",
      "Test Accuracy= 0.812, alpha = 0.001, learning = 0.1, TPR 0.949, FPR 0.312\n",
      "Test Accuracy= 0.476, alpha = 0.001, learning = 1, TPR 1.000, FPR 1.000\n",
      "Test Accuracy= 0.814, alpha = 0.01, learning = 1e-05, TPR 0.934, FPR 0.294\n",
      "Test Accuracy= 0.814, alpha = 0.01, learning = 0.0001, TPR 0.935, FPR 0.295\n",
      "Test Accuracy= 0.816, alpha = 0.01, learning = 0.001, TPR 0.932, FPR 0.288\n",
      "Test Accuracy= 0.815, alpha = 0.01, learning = 0.01, TPR 0.932, FPR 0.291\n",
      "Test Accuracy= 0.807, alpha = 0.01, learning = 0.1, TPR 0.954, FPR 0.326\n",
      "Test Accuracy= 0.798, alpha = 0.01, learning = 1, TPR 0.967, FPR 0.355\n",
      "Test Accuracy= 0.814, alpha = 0.1, learning = 1e-05, TPR 0.934, FPR 0.295\n",
      "Test Accuracy= 0.814, alpha = 0.1, learning = 0.0001, TPR 0.934, FPR 0.295\n",
      "Test Accuracy= 0.817, alpha = 0.1, learning = 0.001, TPR 0.938, FPR 0.293\n",
      "Test Accuracy= 0.816, alpha = 0.1, learning = 0.01, TPR 0.943, FPR 0.300\n",
      "Test Accuracy= 0.810, alpha = 0.1, learning = 0.1, TPR 0.936, FPR 0.304\n",
      "Test Accuracy= 0.787, alpha = 0.1, learning = 1, TPR 0.815, FPR 0.238\n",
      "Test Accuracy= 0.811, alpha = 1, learning = 1e-05, TPR 0.940, FPR 0.305\n",
      "Test Accuracy= 0.812, alpha = 1, learning = 0.0001, TPR 0.938, FPR 0.302\n",
      "Test Accuracy= 0.813, alpha = 1, learning = 0.001, TPR 0.935, FPR 0.297\n",
      "Test Accuracy= 0.810, alpha = 1, learning = 0.01, TPR 0.946, FPR 0.314\n",
      "Test Accuracy= 0.808, alpha = 1, learning = 0.1, TPR 0.898, FPR 0.273\n",
      "Test Accuracy= 0.780, alpha = 1, learning = 1, TPR 0.876, FPR 0.308\n"
     ]
    }
   ],
   "source": [
    "# Neural Network Classifier\n",
    "FPR3, TPR3 = [],[]\n",
    "for i in alpha:\n",
    "    for j in learning:\n",
    "        nn = MLPClassifier(alpha=i, learning_rate_init=j, max_iter=1000,random_state=42)\n",
    "    \n",
    "        nn.fit(X_train, y_train)\n",
    "        y_pred = nn.predict(X_test)\n",
    "        tn, fp, fn, tp = confusion_matrix(y_test, y_pred).ravel()\n",
    "        TPR3 += [tp/(tp+fn)]\n",
    "        FPR3 += [fp/(fp+tn)]\n",
    "        print(f'Test Accuracy= {nn.score(X_test, y_test):.3f}, alpha = {i}, learning = {j}, TPR {TPR3[-1]:.3f}, FPR {FPR3[-1]:.3f}')"
   ]
  },
  {
   "cell_type": "code",
   "execution_count": 15,
   "metadata": {},
   "outputs": [
    {
     "data": {
      "image/png": "[encoded data removed]",
      "text/plain": [
       "<Figure size 432x288 with 1 Axes>"
      ]
     },
     "metadata": {
      "needs_background": "light"
     },
     "output_type": "display_data"
    }
   ],
   "source": [
    "# Sorts the points to display nicely on ROC\n",
    "FPR3, TPR3 = zip(*sorted(zip(FPR3, TPR3)))\n",
    "fpr = [0.]+list(FPR3)+[1.]; tpr = [0.]+list(TPR3)+[1.]\n",
    "\n",
    "# Plot\n",
    "fig, ax = plt.subplots()\n",
    "plt.plot(fpr, tpr, ':', label='ROC')\n",
    "plt.scatter(FPR3, TPR3, 50, color='red', marker='o', label='operating points')\n",
    "plt.plot([0, 1], [0, 1], linestyle='--', color=(0.6, 0.6, 0.6), label='coin flip')\n",
    "\n",
    "# Annotate certain operating points\n",
    "#annot(1, fpr[1], tpr[1])\n",
    "#annot(2, fpr[4], tpr[4])\n",
    "#annot(3, fpr[8], tpr[8])\n",
    "#annot(4, fpr[9], tpr[9])\n",
    "\n",
    "# Labels\n",
    "plt.xlabel('False Positive Rate')\n",
    "plt.ylabel('True Positive Rate')\n",
    "plt.legend(loc='lower right')\n",
    "plt.grid()\n",
    "plt.show()"
   ]
  },
  {
   "cell_type": "markdown",
   "metadata": {},
   "source": [
    "# Problem 2: What kind of behavior would you expect to see in Pd–Pf interaction of an ROC plot? Do you see it in yours?\n",
    "\n",
    "In a typical ROC curve, I would expect to see Pd increase as Pf increases.  This is basically what can be seen in my plots.  The general curve follows this pattern; however, there are a few points that lie outside of the line. When the probability of a false positive is low, it is more likely that you will encounter fewer true positives also. At a point, the benefit of increasing the true positive rate declines.  This is because it takes a larger increase in the false positive rate to make a small impact on the true positive rate.  To optimize the model using the ROC, you would want to find a value toward the upper left corner, where there is a balance between Pd and Pf."
   ]
  },
  {
   "cell_type": "markdown",
   "metadata": {},
   "source": [
    "# Problem 3: From the ROC plot that you created make a selection of the classifier and hyper- parameter setting for this problem. Note that we are classifying fake news so your conclusion might be subjective but has to be supported by your findings.\n",
    "\n",
    "In this problem, we are attempting to predict when a news story is fake or true.  A true positive would be when a story is fake and is predicted as fake.  A false positive is when a story is true but is predicted as fake.  In my opinion, it is a bigger problem to classify a fake story as true than a true story as fake.  I would therefore want to put more emphasis on optimizing the true positive rate, while still considering the false positive rate.\n",
    "\n",
    "Based on these assumptions, I would choose to use the Random Forest Classifier and would set the hyperparameters to n_estimators = 25 and depth = 2.  At this point, the false positive rate is 0.375 and the true positive rate is 0.962.  This places it right at the beginning of the higher true positive values.  Decreasing the false positive any more than this will cause a large decrease in the true positive rate.\n",
    "\n",
    "The Decision Tree Classifier also achieved true positive rates of close to 1.  However, in order to do this, the false positive rate had to be at least 0.5.  The Neural Network Classifier was able to achieve a lower false positive rate than the other two, but the highest true positive was 0.947.  Random Forest did better."
   ]
  },
  {
   "cell_type": "markdown",
   "metadata": {},
   "source": [
    "# Problem 4: Try adding text column to the features. Report the performance of the new classifier model. Why do you think it is much higher than the previous one which only uses title?\n"
   ]
  },
  {
   "cell_type": "code",
   "execution_count": 16,
   "metadata": {},
   "outputs": [],
   "source": [
    "df = pd.DataFrame(X.toarray())"
   ]
  },
  {
   "cell_type": "code",
   "execution_count": 17,
   "metadata": {},
   "outputs": [],
   "source": [
    "v = TfidfVectorizer(stop_words='english', max_features=50)\n",
    "X1 = v.fit_transform(news['text'])\n",
    "df1 = pd.DataFrame(X1.toarray())"
   ]
  },
  {
   "cell_type": "code",
   "execution_count": 18,
   "metadata": {},
   "outputs": [],
   "source": [
    "X2 = pd.concat([df, df1], axis=1)"
   ]
  },
  {
   "cell_type": "code",
   "execution_count": 19,
   "metadata": {},
   "outputs": [],
   "source": [
    "y = news['class']"
   ]
  },
  {
   "cell_type": "code",
   "execution_count": 20,
   "metadata": {},
   "outputs": [],
   "source": [
    "# Split into training and testing datasets\n",
    "X_train, X_test, y_train, y_test = train_test_split(X2,y, test_size = 0.2)"
   ]
  },
  {
   "cell_type": "code",
   "execution_count": 21,
   "metadata": {},
   "outputs": [],
   "source": [
    "# Random Forest Hyperparameters\n",
    "est = np.arange(1,40)\n",
    "depth = np.arange(1,3)"
   ]
  },
  {
   "cell_type": "code",
   "execution_count": 22,
   "metadata": {},
   "outputs": [
    {
     "name": "stdout",
     "output_type": "stream",
     "text": [
      "Test Accuracy= 0.523, estimators = 1, depth = 1, TPR 0.000, FPR 0.000\n",
      "Test Accuracy= 0.992, estimators = 1, depth = 2, TPR 0.996, FPR 0.012\n",
      "Test Accuracy= 0.677, estimators = 2, depth = 1, TPR 0.871, FPR 0.501\n",
      "Test Accuracy= 0.992, estimators = 2, depth = 2, TPR 0.998, FPR 0.013\n",
      "Test Accuracy= 0.768, estimators = 3, depth = 1, TPR 0.870, FPR 0.325\n",
      "Test Accuracy= 0.992, estimators = 3, depth = 2, TPR 0.997, FPR 0.013\n",
      "Test Accuracy= 0.776, estimators = 4, depth = 1, TPR 0.843, FPR 0.286\n",
      "Test Accuracy= 0.990, estimators = 4, depth = 2, TPR 0.992, FPR 0.012\n",
      "Test Accuracy= 0.763, estimators = 5, depth = 1, TPR 0.769, FPR 0.242\n",
      "Test Accuracy= 0.987, estimators = 5, depth = 2, TPR 0.990, FPR 0.015\n",
      "Test Accuracy= 0.772, estimators = 6, depth = 1, TPR 0.801, FPR 0.253\n",
      "Test Accuracy= 0.988, estimators = 6, depth = 2, TPR 0.989, FPR 0.014\n",
      "Test Accuracy= 0.782, estimators = 7, depth = 1, TPR 0.841, FPR 0.272\n",
      "Test Accuracy= 0.989, estimators = 7, depth = 2, TPR 0.992, FPR 0.014\n",
      "Test Accuracy= 0.782, estimators = 8, depth = 1, TPR 0.817, FPR 0.249\n",
      "Test Accuracy= 0.989, estimators = 8, depth = 2, TPR 0.991, FPR 0.013\n",
      "Test Accuracy= 0.804, estimators = 9, depth = 1, TPR 0.783, FPR 0.177\n",
      "Test Accuracy= 0.988, estimators = 9, depth = 2, TPR 0.990, FPR 0.015\n",
      "Test Accuracy= 0.809, estimators = 10, depth = 1, TPR 0.783, FPR 0.167\n",
      "Test Accuracy= 0.988, estimators = 10, depth = 2, TPR 0.989, FPR 0.014\n",
      "Test Accuracy= 0.838, estimators = 11, depth = 1, TPR 0.740, FPR 0.073\n",
      "Test Accuracy= 0.978, estimators = 11, depth = 2, TPR 0.978, FPR 0.021\n",
      "Test Accuracy= 0.844, estimators = 12, depth = 1, TPR 0.785, FPR 0.101\n",
      "Test Accuracy= 0.971, estimators = 12, depth = 2, TPR 0.972, FPR 0.030\n",
      "Test Accuracy= 0.834, estimators = 13, depth = 1, TPR 0.756, FPR 0.094\n",
      "Test Accuracy= 0.963, estimators = 13, depth = 2, TPR 0.972, FPR 0.044\n",
      "Test Accuracy= 0.835, estimators = 14, depth = 1, TPR 0.765, FPR 0.103\n",
      "Test Accuracy= 0.963, estimators = 14, depth = 2, TPR 0.968, FPR 0.042\n",
      "Test Accuracy= 0.834, estimators = 15, depth = 1, TPR 0.761, FPR 0.100\n",
      "Test Accuracy= 0.957, estimators = 15, depth = 2, TPR 0.963, FPR 0.048\n",
      "Test Accuracy= 0.841, estimators = 16, depth = 1, TPR 0.780, FPR 0.103\n",
      "Test Accuracy= 0.959, estimators = 16, depth = 2, TPR 0.968, FPR 0.050\n",
      "Test Accuracy= 0.841, estimators = 17, depth = 1, TPR 0.781, FPR 0.105\n",
      "Test Accuracy= 0.985, estimators = 17, depth = 2, TPR 0.989, FPR 0.018\n",
      "Test Accuracy= 0.840, estimators = 18, depth = 1, TPR 0.774, FPR 0.100\n",
      "Test Accuracy= 0.983, estimators = 18, depth = 2, TPR 0.987, FPR 0.020\n",
      "Test Accuracy= 0.841, estimators = 19, depth = 1, TPR 0.778, FPR 0.101\n",
      "Test Accuracy= 0.980, estimators = 19, depth = 2, TPR 0.982, FPR 0.022\n",
      "Test Accuracy= 0.836, estimators = 20, depth = 1, TPR 0.757, FPR 0.092\n",
      "Test Accuracy= 0.989, estimators = 20, depth = 2, TPR 0.993, FPR 0.014\n",
      "Test Accuracy= 0.841, estimators = 21, depth = 1, TPR 0.768, FPR 0.091\n",
      "Test Accuracy= 0.987, estimators = 21, depth = 2, TPR 0.989, FPR 0.015\n",
      "Test Accuracy= 0.842, estimators = 22, depth = 1, TPR 0.762, FPR 0.085\n",
      "Test Accuracy= 0.987, estimators = 22, depth = 2, TPR 0.989, FPR 0.015\n",
      "Test Accuracy= 0.841, estimators = 23, depth = 1, TPR 0.751, FPR 0.076\n",
      "Test Accuracy= 0.989, estimators = 23, depth = 2, TPR 0.991, FPR 0.012\n",
      "Test Accuracy= 0.845, estimators = 24, depth = 1, TPR 0.759, FPR 0.077\n",
      "Test Accuracy= 0.991, estimators = 24, depth = 2, TPR 0.995, FPR 0.012\n",
      "Test Accuracy= 0.842, estimators = 25, depth = 1, TPR 0.754, FPR 0.078\n",
      "Test Accuracy= 0.991, estimators = 25, depth = 2, TPR 0.994, FPR 0.013\n",
      "Test Accuracy= 0.934, estimators = 26, depth = 1, TPR 0.890, FPR 0.026\n",
      "Test Accuracy= 0.992, estimators = 26, depth = 2, TPR 0.996, FPR 0.012\n",
      "Test Accuracy= 0.935, estimators = 27, depth = 1, TPR 0.893, FPR 0.026\n",
      "Test Accuracy= 0.992, estimators = 27, depth = 2, TPR 0.996, FPR 0.012\n",
      "Test Accuracy= 0.930, estimators = 28, depth = 1, TPR 0.890, FPR 0.033\n",
      "Test Accuracy= 0.992, estimators = 28, depth = 2, TPR 0.996, FPR 0.011\n",
      "Test Accuracy= 0.928, estimators = 29, depth = 1, TPR 0.887, FPR 0.035\n",
      "Test Accuracy= 0.992, estimators = 29, depth = 2, TPR 0.996, FPR 0.012\n",
      "Test Accuracy= 0.923, estimators = 30, depth = 1, TPR 0.886, FPR 0.043\n",
      "Test Accuracy= 0.992, estimators = 30, depth = 2, TPR 0.996, FPR 0.011\n",
      "Test Accuracy= 0.927, estimators = 31, depth = 1, TPR 0.883, FPR 0.033\n",
      "Test Accuracy= 0.992, estimators = 31, depth = 2, TPR 0.996, FPR 0.011\n",
      "Test Accuracy= 0.925, estimators = 32, depth = 1, TPR 0.874, FPR 0.029\n",
      "Test Accuracy= 0.992, estimators = 32, depth = 2, TPR 0.996, FPR 0.012\n",
      "Test Accuracy= 0.925, estimators = 33, depth = 1, TPR 0.873, FPR 0.027\n",
      "Test Accuracy= 0.992, estimators = 33, depth = 2, TPR 0.996, FPR 0.012\n",
      "Test Accuracy= 0.921, estimators = 34, depth = 1, TPR 0.871, FPR 0.033\n",
      "Test Accuracy= 0.992, estimators = 34, depth = 2, TPR 0.996, FPR 0.012\n",
      "Test Accuracy= 0.921, estimators = 35, depth = 1, TPR 0.871, FPR 0.033\n",
      "Test Accuracy= 0.992, estimators = 35, depth = 2, TPR 0.996, FPR 0.011\n",
      "Test Accuracy= 0.923, estimators = 36, depth = 1, TPR 0.868, FPR 0.027\n",
      "Test Accuracy= 0.992, estimators = 36, depth = 2, TPR 0.996, FPR 0.011\n",
      "Test Accuracy= 0.912, estimators = 37, depth = 1, TPR 0.855, FPR 0.035\n",
      "Test Accuracy= 0.992, estimators = 37, depth = 2, TPR 0.995, FPR 0.011\n",
      "Test Accuracy= 0.910, estimators = 38, depth = 1, TPR 0.853, FPR 0.038\n",
      "Test Accuracy= 0.992, estimators = 38, depth = 2, TPR 0.996, FPR 0.012\n",
      "Test Accuracy= 0.912, estimators = 39, depth = 1, TPR 0.860, FPR 0.040\n",
      "Test Accuracy= 0.992, estimators = 39, depth = 2, TPR 0.996, FPR 0.012\n"
     ]
    }
   ],
   "source": [
    "# Random Forest Classifier\n",
    "FPR, TPR = [],[]\n",
    "for i in est:\n",
    "    for j in depth:\n",
    "        rfc = RandomForestClassifier(n_estimators=i, max_depth=j,random_state=42)\n",
    "    \n",
    "        rfc.fit(X_train, y_train)\n",
    "        y_pred = rfc.predict(X_test)\n",
    "        tn, fp, fn, tp = confusion_matrix(y_test, y_pred).ravel()\n",
    "        TPR += [tp/(tp+fn)]\n",
    "        FPR += [fp/(fp+tn)]\n",
    "        print(f'Test Accuracy= {rfc.score(X_test, y_test):.3f}, estimators = {i}, depth = {j}, TPR {TPR[-1]:.3f}, FPR {FPR[-1]:.3f}')"
   ]
  },
  {
   "cell_type": "code",
   "execution_count": 23,
   "metadata": {},
   "outputs": [
    {
     "data": {
      "image/png": "[encoded data removed]",
      "text/plain": [
       "<Figure size 432x288 with 1 Axes>"
      ]
     },
     "metadata": {
      "needs_background": "light"
     },
     "output_type": "display_data"
    }
   ],
   "source": [
    "# Sorts the points to display nicely on ROC\n",
    "FPR, TPR = zip(*sorted(zip(FPR, TPR)))\n",
    "fpr = [0.]+list(FPR)+[1.]; tpr = [0.]+list(TPR)+[1.]\n",
    "\n",
    "# Plot\n",
    "fig, ax = plt.subplots()\n",
    "plt.plot(fpr, tpr, ':', label='ROC')\n",
    "plt.scatter(FPR, TPR, 50, color='red', marker='o', label='operating points')\n",
    "plt.plot([0, 1], [0, 1], linestyle='--', color=(0.6, 0.6, 0.6), label='coin flip')\n",
    "\n",
    "# Annotate certain operating points\n",
    "#annot(1, fpr[1], tpr[1])\n",
    "#annot(2, fpr[4], tpr[4])\n",
    "#annot(3, fpr[8], tpr[8])\n",
    "#annot(4, fpr[9], tpr[9])\n",
    "\n",
    "# Labels\n",
    "plt.xlabel('False Positive Rate')\n",
    "plt.ylabel('True Positive Rate')\n",
    "plt.legend(loc='lower right')\n",
    "plt.grid()\n",
    "plt.show()"
   ]
  },
  {
   "cell_type": "markdown",
   "metadata": {},
   "source": [
    "The new model was able to obtain a test accuracy= 0.984, with estimators = 9 and depth = 2.  The TPR = 0.985 and FPR = 0.018.  This model probably performed better because including both the text and title columns caused a duplication of some of the terms.  This makes some of the features redundant.  Since the same words tend to be in the title and the text, the model will find a higher correlation between them and either \"true news\" or \"fake news.\"  This model might not generalize well because of the duplication.  The ROC curve behaves different here as well.  Here, the TPR decreases as the FPR increases, which is not the typical pattern seen in ROC curves."
   ]
  }
 ],
 "metadata": {
  "kernelspec": {
   "display_name": "Python 3 (ipykernel)",
   "language": "python",
   "name": "python3"
  },
  "language_info": {
   "codemirror_mode": {
    "name": "ipython",
    "version": 3
   },
   "file_extension": ".py",
   "mimetype": "text/x-python",
   "name": "python",
   "nbconvert_exporter": "python",
   "pygments_lexer": "ipython3",
   "version": "3.7.4"
  }
 },
 "nbformat": 4,
 "nbformat_minor": 2
}
