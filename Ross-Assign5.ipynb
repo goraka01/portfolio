{
 "cells": [
  {
   "cell_type": "markdown",
   "metadata": {},
   "source": [
    "Develop a classifier to predict if a passenger from Titanic survived or not. Go to Kaggle page for Titanic data and download the training and testing data sets."
   ]
  },
  {
   "cell_type": "code",
   "execution_count": null,
   "metadata": {},
   "outputs": [],
   "source": [
    "import numpy as np\n",
    "import pandas as pd\n",
    "from sklearn.svm import SVC\n",
    "from sklearn.linear_model import LogisticRegression\n",
    "from sklearn.ensemble import RandomForestClassifier\n",
    "from sklearn.model_selection import train_test_split\n",
    "from sklearn.metrics import confusion_matrix\n",
    "from sklearn.metrics import accuracy_score\n",
    "from sklearn.model_selection import cross_validate\n",
    "from sklearn.preprocessing import StandardScaler\n",
    "import matplotlib.pyplot as plt\n",
    "from sklearn.model_selection import StratifiedKFold\n",
    "from sklearn.neural_network import MLPClassifier"
   ]
  },
  {
   "cell_type": "code",
   "execution_count": 2,
   "metadata": {},
   "outputs": [],
   "source": [
    "titanic = pd.read_csv(r'/Users/katieross/desktop/train.csv')\n",
    "test = pd.read_csv(r'/Users/katieross/desktop/test.csv')\n",
    "PassengerId = test['PassengerId']"
   ]
  },
  {
   "cell_type": "code",
   "execution_count": 3,
   "metadata": {},
   "outputs": [
    {
     "data": {
      "text/html": [
       "<div>\n",
       "<style scoped>\n",
       "    .dataframe tbody tr th:only-of-type {\n",
       "        vertical-align: middle;\n",
       "    }\n",
       "\n",
       "    .dataframe tbody tr th {\n",
       "        vertical-align: top;\n",
       "    }\n",
       "\n",
       "    .dataframe thead th {\n",
       "        text-align: right;\n",
       "    }\n",
       "</style>\n",
       "<table border=\"1\" class=\"dataframe\">\n",
       "  <thead>\n",
       "    <tr style=\"text-align: right;\">\n",
       "      <th></th>\n",
       "      <th>PassengerId</th>\n",
       "      <th>Survived</th>\n",
       "      <th>Pclass</th>\n",
       "      <th>Name</th>\n",
       "      <th>Sex</th>\n",
       "      <th>Age</th>\n",
       "      <th>SibSp</th>\n",
       "      <th>Parch</th>\n",
       "      <th>Ticket</th>\n",
       "      <th>Fare</th>\n",
       "      <th>Cabin</th>\n",
       "      <th>Embarked</th>\n",
       "    </tr>\n",
       "  </thead>\n",
       "  <tbody>\n",
       "    <tr>\n",
       "      <td>0</td>\n",
       "      <td>1</td>\n",
       "      <td>0</td>\n",
       "      <td>3</td>\n",
       "      <td>Braund, Mr. Owen Harris</td>\n",
       "      <td>male</td>\n",
       "      <td>22.0</td>\n",
       "      <td>1</td>\n",
       "      <td>0</td>\n",
       "      <td>A/5 21171</td>\n",
       "      <td>7.2500</td>\n",
       "      <td>NaN</td>\n",
       "      <td>S</td>\n",
       "    </tr>\n",
       "    <tr>\n",
       "      <td>1</td>\n",
       "      <td>2</td>\n",
       "      <td>1</td>\n",
       "      <td>1</td>\n",
       "      <td>Cumings, Mrs. John Bradley (Florence Briggs Th...</td>\n",
       "      <td>female</td>\n",
       "      <td>38.0</td>\n",
       "      <td>1</td>\n",
       "      <td>0</td>\n",
       "      <td>PC 17599</td>\n",
       "      <td>71.2833</td>\n",
       "      <td>C85</td>\n",
       "      <td>C</td>\n",
       "    </tr>\n",
       "    <tr>\n",
       "      <td>2</td>\n",
       "      <td>3</td>\n",
       "      <td>1</td>\n",
       "      <td>3</td>\n",
       "      <td>Heikkinen, Miss. Laina</td>\n",
       "      <td>female</td>\n",
       "      <td>26.0</td>\n",
       "      <td>0</td>\n",
       "      <td>0</td>\n",
       "      <td>STON/O2. 3101282</td>\n",
       "      <td>7.9250</td>\n",
       "      <td>NaN</td>\n",
       "      <td>S</td>\n",
       "    </tr>\n",
       "    <tr>\n",
       "      <td>3</td>\n",
       "      <td>4</td>\n",
       "      <td>1</td>\n",
       "      <td>1</td>\n",
       "      <td>Futrelle, Mrs. Jacques Heath (Lily May Peel)</td>\n",
       "      <td>female</td>\n",
       "      <td>35.0</td>\n",
       "      <td>1</td>\n",
       "      <td>0</td>\n",
       "      <td>113803</td>\n",
       "      <td>53.1000</td>\n",
       "      <td>C123</td>\n",
       "      <td>S</td>\n",
       "    </tr>\n",
       "    <tr>\n",
       "      <td>4</td>\n",
       "      <td>5</td>\n",
       "      <td>0</td>\n",
       "      <td>3</td>\n",
       "      <td>Allen, Mr. William Henry</td>\n",
       "      <td>male</td>\n",
       "      <td>35.0</td>\n",
       "      <td>0</td>\n",
       "      <td>0</td>\n",
       "      <td>373450</td>\n",
       "      <td>8.0500</td>\n",
       "      <td>NaN</td>\n",
       "      <td>S</td>\n",
       "    </tr>\n",
       "  </tbody>\n",
       "</table>\n",
       "</div>"
      ],
      "text/plain": [
       "   PassengerId  Survived  Pclass  \\\n",
       "0            1         0       3   \n",
       "1            2         1       1   \n",
       "2            3         1       3   \n",
       "3            4         1       1   \n",
       "4            5         0       3   \n",
       "\n",
       "                                                Name     Sex   Age  SibSp  \\\n",
       "0                            Braund, Mr. Owen Harris    male  22.0      1   \n",
       "1  Cumings, Mrs. John Bradley (Florence Briggs Th...  female  38.0      1   \n",
       "2                             Heikkinen, Miss. Laina  female  26.0      0   \n",
       "3       Futrelle, Mrs. Jacques Heath (Lily May Peel)  female  35.0      1   \n",
       "4                           Allen, Mr. William Henry    male  35.0      0   \n",
       "\n",
       "   Parch            Ticket     Fare Cabin Embarked  \n",
       "0      0         A/5 21171   7.2500   NaN        S  \n",
       "1      0          PC 17599  71.2833   C85        C  \n",
       "2      0  STON/O2. 3101282   7.9250   NaN        S  \n",
       "3      0            113803  53.1000  C123        S  \n",
       "4      0            373450   8.0500   NaN        S  "
      ]
     },
     "execution_count": 3,
     "metadata": {},
     "output_type": "execute_result"
    }
   ],
   "source": [
    "titanic.head()"
   ]
  },
  {
   "cell_type": "markdown",
   "metadata": {},
   "source": [
    "# Preprocess Data"
   ]
  },
  {
   "cell_type": "code",
   "execution_count": 4,
   "metadata": {},
   "outputs": [
    {
     "name": "stdout",
     "output_type": "stream",
     "text": [
      "<class 'pandas.core.frame.DataFrame'>\n",
      "RangeIndex: 891 entries, 0 to 890\n",
      "Data columns (total 12 columns):\n",
      "PassengerId    891 non-null int64\n",
      "Survived       891 non-null int64\n",
      "Pclass         891 non-null int64\n",
      "Name           891 non-null object\n",
      "Sex            891 non-null object\n",
      "Age            714 non-null float64\n",
      "SibSp          891 non-null int64\n",
      "Parch          891 non-null int64\n",
      "Ticket         891 non-null object\n",
      "Fare           891 non-null float64\n",
      "Cabin          204 non-null object\n",
      "Embarked       889 non-null object\n",
      "dtypes: float64(2), int64(5), object(5)\n",
      "memory usage: 83.7+ KB\n"
     ]
    }
   ],
   "source": [
    "# Check data types and look for null values\n",
    "titanic.info()"
   ]
  },
  {
   "cell_type": "code",
   "execution_count": 5,
   "metadata": {},
   "outputs": [
    {
     "name": "stdout",
     "output_type": "stream",
     "text": [
      "[0 1]\n",
      "[3 1 2]\n",
      "['male' 'female']\n",
      "[22.   38.   26.   35.     nan 54.    2.   27.   14.    4.   58.   20.\n",
      " 39.   55.   31.   34.   15.   28.    8.   19.   40.   66.   42.   21.\n",
      " 18.    3.    7.   49.   29.   65.   28.5   5.   11.   45.   17.   32.\n",
      " 16.   25.    0.83 30.   33.   23.   24.   46.   59.   71.   37.   47.\n",
      " 14.5  70.5  32.5  12.    9.   36.5  51.   55.5  40.5  44.    1.   61.\n",
      " 56.   50.   36.   45.5  20.5  62.   41.   52.   63.   23.5   0.92 43.\n",
      " 60.   10.   64.   13.   48.    0.75 53.   57.   80.   70.   24.5   6.\n",
      "  0.67 30.5   0.42 34.5  74.  ]\n",
      "[1 0 3 4 2 5 8]\n",
      "[0 1 2 5 3 4 6]\n",
      "0.0\n",
      "512.3292\n",
      "['S' 'C' 'Q' nan]\n"
     ]
    }
   ],
   "source": [
    "# Look for odd values\n",
    "print(titanic['Survived'].unique())\n",
    "print(titanic['Pclass'].unique())\n",
    "print(titanic['Sex'].unique())\n",
    "print(titanic['Age'].unique())\n",
    "print(titanic['SibSp'].unique())\n",
    "print(titanic['Parch'].unique())\n",
    "print(titanic['Fare'].min())\n",
    "print(titanic['Fare'].max())\n",
    "print(titanic['Embarked'].unique())"
   ]
  },
  {
   "cell_type": "code",
   "execution_count": 6,
   "metadata": {},
   "outputs": [
    {
     "data": {
      "text/plain": [
       "False    891\n",
       "dtype: int64"
      ]
     },
     "execution_count": 6,
     "metadata": {},
     "output_type": "execute_result"
    }
   ],
   "source": [
    "# Look for duplicates\n",
    "duplicates = titanic.duplicated()\n",
    "duplicates.value_counts()"
   ]
  },
  {
   "cell_type": "code",
   "execution_count": 7,
   "metadata": {},
   "outputs": [],
   "source": [
    "# Drop the unnecessary features\n",
    "titanic.drop(columns=['PassengerId', 'Name', 'Ticket', 'Cabin'], inplace= True)"
   ]
  },
  {
   "cell_type": "code",
   "execution_count": 8,
   "metadata": {},
   "outputs": [
    {
     "name": "stdout",
     "output_type": "stream",
     "text": [
      "<class 'pandas.core.frame.DataFrame'>\n",
      "RangeIndex: 891 entries, 0 to 890\n",
      "Data columns (total 8 columns):\n",
      "Survived    891 non-null int64\n",
      "Pclass      891 non-null int64\n",
      "Sex         891 non-null object\n",
      "Age         714 non-null float64\n",
      "SibSp       891 non-null int64\n",
      "Parch       891 non-null int64\n",
      "Fare        891 non-null float64\n",
      "Embarked    889 non-null object\n",
      "dtypes: float64(2), int64(4), object(2)\n",
      "memory usage: 55.8+ KB\n"
     ]
    }
   ],
   "source": [
    "titanic.info()"
   ]
  },
  {
   "cell_type": "code",
   "execution_count": 9,
   "metadata": {},
   "outputs": [],
   "source": [
    "# Drop 2 instances with a null value in Embarked\n",
    "titanic.dropna(subset=['Embarked'],inplace=True)"
   ]
  },
  {
   "cell_type": "code",
   "execution_count": 10,
   "metadata": {},
   "outputs": [
    {
     "name": "stdout",
     "output_type": "stream",
     "text": [
      "29.64209269662921\n",
      "28.0\n",
      "0.42\n",
      "80.0\n",
      "24.00    30\n",
      "22.00    27\n",
      "18.00    26\n",
      "28.00    25\n",
      "30.00    25\n",
      "         ..\n",
      "55.50     1\n",
      "70.50     1\n",
      "66.00     1\n",
      "23.50     1\n",
      "0.42      1\n",
      "Name: Age, Length: 88, dtype: int64\n"
     ]
    }
   ],
   "source": [
    "# Decide what value to fill missing ages with\n",
    "print(titanic['Age'].mean())\n",
    "print(titanic['Age'].median())\n",
    "print(titanic['Age'].min())\n",
    "print(titanic['Age'].max())\n",
    "print(titanic['Age'].value_counts())"
   ]
  },
  {
   "cell_type": "code",
   "execution_count": 11,
   "metadata": {},
   "outputs": [
    {
     "name": "stdout",
     "output_type": "stream",
     "text": [
      "9.041327433628318\n"
     ]
    }
   ],
   "source": [
    "known_child = titanic[titanic['Age'] < 18]\n",
    "print(known_child['Age'].mean())"
   ]
  },
  {
   "cell_type": "code",
   "execution_count": 12,
   "metadata": {},
   "outputs": [],
   "source": [
    "# If SibSp > 1, it is likely a child.  Fill in age = 9\n",
    "# Else, it could be a person of any age, fill in age with population average, age = 29\n",
    "\n",
    "subset = titanic[titanic['Age'].isnull()]\n",
    "child = subset[subset['SibSp']>1].index\n",
    "titanic.loc[child, 'Age']=9\n",
    "\n",
    "other = subset[subset['SibSp']<=1].index\n",
    "titanic.loc[other, 'Age']=29"
   ]
  },
  {
   "cell_type": "code",
   "execution_count": 13,
   "metadata": {},
   "outputs": [
    {
     "name": "stdout",
     "output_type": "stream",
     "text": [
      "<class 'pandas.core.frame.DataFrame'>\n",
      "Int64Index: 889 entries, 0 to 890\n",
      "Data columns (total 8 columns):\n",
      "Survived    889 non-null int64\n",
      "Pclass      889 non-null int64\n",
      "Sex         889 non-null object\n",
      "Age         889 non-null float64\n",
      "SibSp       889 non-null int64\n",
      "Parch       889 non-null int64\n",
      "Fare        889 non-null float64\n",
      "Embarked    889 non-null object\n",
      "dtypes: float64(2), int64(4), object(2)\n",
      "memory usage: 102.5+ KB\n"
     ]
    }
   ],
   "source": [
    "titanic.info()"
   ]
  },
  {
   "cell_type": "code",
   "execution_count": 14,
   "metadata": {},
   "outputs": [],
   "source": [
    "# Set X and y variables\n",
    "X = titanic.drop(columns='Survived')\n",
    "y = titanic['Survived']"
   ]
  },
  {
   "cell_type": "code",
   "execution_count": 15,
   "metadata": {},
   "outputs": [],
   "source": [
    "# One-hot encode Sex and Embark\n",
    "X_encode = pd.get_dummies(X, columns=['Sex', 'Embarked'])\n",
    "final = pd.concat([X_encode, y], axis=1)"
   ]
  },
  {
   "cell_type": "code",
   "execution_count": 16,
   "metadata": {},
   "outputs": [],
   "source": [
    "# Scale the independent features\n",
    "scaler = StandardScaler()\n",
    "scaled = scaler.fit_transform(X_encode)\n",
    "X = pd.DataFrame(scaled)"
   ]
  },
  {
   "cell_type": "markdown",
   "metadata": {},
   "source": [
    "# Support Vector Machine"
   ]
  },
  {
   "cell_type": "code",
   "execution_count": 17,
   "metadata": {},
   "outputs": [
    {
     "data": {
      "text/plain": [
       "0    549\n",
       "1    340\n",
       "Name: Survived, dtype: int64"
      ]
     },
     "execution_count": 17,
     "metadata": {},
     "output_type": "execute_result"
    }
   ],
   "source": [
    "# Determine if dataset is balanced\n",
    "titanic['Survived'].value_counts()"
   ]
  },
  {
   "cell_type": "code",
   "execution_count": 18,
   "metadata": {},
   "outputs": [],
   "source": [
    "# Split into training and testing datasets\n",
    "X_train, X_test, y_train, y_test = train_test_split(X,y, test_size = 0.2)"
   ]
  },
  {
   "cell_type": "code",
   "execution_count": 19,
   "metadata": {},
   "outputs": [],
   "source": [
    "# SVM hyperparameters\n",
    "gamma = (0.0001, 0.0005, 0.001, 0.005, 0.01, 0.05, 0.1, 1, 10)\n",
    "C = (0.01, 0.1, 0.5, 1, 5, 10, 20, 30, 40, 50, 60, 70, 80, 90, 100)"
   ]
  },
  {
   "cell_type": "code",
   "execution_count": 20,
   "metadata": {},
   "outputs": [
    {
     "name": "stdout",
     "output_type": "stream",
     "text": [
      "Test Accuracy= 0.635, gamma = 0.0001, C = 0.01, TPR 0.000, FPR 0.000\n",
      "Test Accuracy= 0.635, gamma = 0.0001, C = 0.1, TPR 0.000, FPR 0.000\n",
      "Test Accuracy= 0.635, gamma = 0.0001, C = 0.5, TPR 0.000, FPR 0.000\n",
      "Test Accuracy= 0.635, gamma = 0.0001, C = 1, TPR 0.000, FPR 0.000\n",
      "Test Accuracy= 0.809, gamma = 0.0001, C = 5, TPR 0.677, FPR 0.115\n",
      "Test Accuracy= 0.820, gamma = 0.0001, C = 10, TPR 0.723, FPR 0.124\n",
      "Test Accuracy= 0.820, gamma = 0.0001, C = 20, TPR 0.723, FPR 0.124\n",
      "Test Accuracy= 0.820, gamma = 0.0001, C = 30, TPR 0.723, FPR 0.124\n",
      "Test Accuracy= 0.820, gamma = 0.0001, C = 40, TPR 0.723, FPR 0.124\n",
      "Test Accuracy= 0.820, gamma = 0.0001, C = 50, TPR 0.723, FPR 0.124\n",
      "Test Accuracy= 0.820, gamma = 0.0001, C = 60, TPR 0.723, FPR 0.124\n",
      "Test Accuracy= 0.820, gamma = 0.0001, C = 70, TPR 0.723, FPR 0.124\n",
      "Test Accuracy= 0.820, gamma = 0.0001, C = 80, TPR 0.723, FPR 0.124\n",
      "Test Accuracy= 0.820, gamma = 0.0001, C = 90, TPR 0.723, FPR 0.124\n",
      "Test Accuracy= 0.820, gamma = 0.0001, C = 100, TPR 0.723, FPR 0.124\n",
      "Test Accuracy= 0.635, gamma = 0.0005, C = 0.01, TPR 0.000, FPR 0.000\n",
      "Test Accuracy= 0.635, gamma = 0.0005, C = 0.1, TPR 0.000, FPR 0.000\n",
      "Test Accuracy= 0.640, gamma = 0.0005, C = 0.5, TPR 0.015, FPR 0.000\n",
      "Test Accuracy= 0.820, gamma = 0.0005, C = 1, TPR 0.662, FPR 0.088\n",
      "Test Accuracy= 0.820, gamma = 0.0005, C = 5, TPR 0.723, FPR 0.124\n",
      "Test Accuracy= 0.820, gamma = 0.0005, C = 10, TPR 0.723, FPR 0.124\n",
      "Test Accuracy= 0.820, gamma = 0.0005, C = 20, TPR 0.723, FPR 0.124\n",
      "Test Accuracy= 0.820, gamma = 0.0005, C = 30, TPR 0.723, FPR 0.124\n",
      "Test Accuracy= 0.820, gamma = 0.0005, C = 40, TPR 0.723, FPR 0.124\n",
      "Test Accuracy= 0.820, gamma = 0.0005, C = 50, TPR 0.723, FPR 0.124\n",
      "Test Accuracy= 0.820, gamma = 0.0005, C = 60, TPR 0.723, FPR 0.124\n",
      "Test Accuracy= 0.820, gamma = 0.0005, C = 70, TPR 0.723, FPR 0.124\n",
      "Test Accuracy= 0.815, gamma = 0.0005, C = 80, TPR 0.708, FPR 0.124\n",
      "Test Accuracy= 0.820, gamma = 0.0005, C = 90, TPR 0.723, FPR 0.124\n",
      "Test Accuracy= 0.820, gamma = 0.0005, C = 100, TPR 0.723, FPR 0.124\n",
      "Test Accuracy= 0.635, gamma = 0.001, C = 0.01, TPR 0.000, FPR 0.000\n",
      "Test Accuracy= 0.635, gamma = 0.001, C = 0.1, TPR 0.000, FPR 0.000\n",
      "Test Accuracy= 0.820, gamma = 0.001, C = 0.5, TPR 0.646, FPR 0.080\n",
      "Test Accuracy= 0.820, gamma = 0.001, C = 1, TPR 0.723, FPR 0.124\n",
      "Test Accuracy= 0.820, gamma = 0.001, C = 5, TPR 0.723, FPR 0.124\n",
      "Test Accuracy= 0.820, gamma = 0.001, C = 10, TPR 0.723, FPR 0.124\n",
      "Test Accuracy= 0.820, gamma = 0.001, C = 20, TPR 0.723, FPR 0.124\n",
      "Test Accuracy= 0.820, gamma = 0.001, C = 30, TPR 0.723, FPR 0.124\n",
      "Test Accuracy= 0.820, gamma = 0.001, C = 40, TPR 0.723, FPR 0.124\n",
      "Test Accuracy= 0.820, gamma = 0.001, C = 50, TPR 0.723, FPR 0.124\n",
      "Test Accuracy= 0.820, gamma = 0.001, C = 60, TPR 0.723, FPR 0.124\n",
      "Test Accuracy= 0.820, gamma = 0.001, C = 70, TPR 0.723, FPR 0.124\n",
      "Test Accuracy= 0.820, gamma = 0.001, C = 80, TPR 0.723, FPR 0.124\n",
      "Test Accuracy= 0.820, gamma = 0.001, C = 90, TPR 0.723, FPR 0.124\n",
      "Test Accuracy= 0.820, gamma = 0.001, C = 100, TPR 0.723, FPR 0.124\n",
      "Test Accuracy= 0.635, gamma = 0.005, C = 0.01, TPR 0.000, FPR 0.000\n",
      "Test Accuracy= 0.809, gamma = 0.005, C = 0.1, TPR 0.538, FPR 0.035\n",
      "Test Accuracy= 0.820, gamma = 0.005, C = 0.5, TPR 0.723, FPR 0.124\n",
      "Test Accuracy= 0.820, gamma = 0.005, C = 1, TPR 0.723, FPR 0.124\n",
      "Test Accuracy= 0.820, gamma = 0.005, C = 5, TPR 0.723, FPR 0.124\n",
      "Test Accuracy= 0.809, gamma = 0.005, C = 10, TPR 0.692, FPR 0.124\n",
      "Test Accuracy= 0.826, gamma = 0.005, C = 20, TPR 0.692, FPR 0.097\n",
      "Test Accuracy= 0.826, gamma = 0.005, C = 30, TPR 0.692, FPR 0.097\n",
      "Test Accuracy= 0.831, gamma = 0.005, C = 40, TPR 0.708, FPR 0.097\n",
      "Test Accuracy= 0.831, gamma = 0.005, C = 50, TPR 0.708, FPR 0.097\n",
      "Test Accuracy= 0.831, gamma = 0.005, C = 60, TPR 0.708, FPR 0.097\n",
      "Test Accuracy= 0.848, gamma = 0.005, C = 70, TPR 0.738, FPR 0.088\n",
      "Test Accuracy= 0.843, gamma = 0.005, C = 80, TPR 0.708, FPR 0.080\n",
      "Test Accuracy= 0.843, gamma = 0.005, C = 90, TPR 0.708, FPR 0.080\n",
      "Test Accuracy= 0.843, gamma = 0.005, C = 100, TPR 0.708, FPR 0.080\n",
      "Test Accuracy= 0.635, gamma = 0.01, C = 0.01, TPR 0.000, FPR 0.000\n",
      "Test Accuracy= 0.820, gamma = 0.01, C = 0.1, TPR 0.723, FPR 0.124\n",
      "Test Accuracy= 0.820, gamma = 0.01, C = 0.5, TPR 0.723, FPR 0.124\n",
      "Test Accuracy= 0.820, gamma = 0.01, C = 1, TPR 0.723, FPR 0.124\n",
      "Test Accuracy= 0.826, gamma = 0.01, C = 5, TPR 0.692, FPR 0.097\n",
      "Test Accuracy= 0.831, gamma = 0.01, C = 10, TPR 0.708, FPR 0.097\n",
      "Test Accuracy= 0.848, gamma = 0.01, C = 20, TPR 0.738, FPR 0.088\n",
      "Test Accuracy= 0.843, gamma = 0.01, C = 30, TPR 0.708, FPR 0.080\n",
      "Test Accuracy= 0.843, gamma = 0.01, C = 40, TPR 0.677, FPR 0.062\n",
      "Test Accuracy= 0.843, gamma = 0.01, C = 50, TPR 0.677, FPR 0.062\n",
      "Test Accuracy= 0.848, gamma = 0.01, C = 60, TPR 0.692, FPR 0.062\n",
      "Test Accuracy= 0.848, gamma = 0.01, C = 70, TPR 0.692, FPR 0.062\n",
      "Test Accuracy= 0.848, gamma = 0.01, C = 80, TPR 0.692, FPR 0.062\n",
      "Test Accuracy= 0.848, gamma = 0.01, C = 90, TPR 0.692, FPR 0.062\n",
      "Test Accuracy= 0.854, gamma = 0.01, C = 100, TPR 0.708, FPR 0.062\n",
      "Test Accuracy= 0.635, gamma = 0.05, C = 0.01, TPR 0.000, FPR 0.000\n",
      "Test Accuracy= 0.809, gamma = 0.05, C = 0.1, TPR 0.677, FPR 0.115\n",
      "Test Accuracy= 0.831, gamma = 0.05, C = 0.5, TPR 0.708, FPR 0.097\n",
      "Test Accuracy= 0.831, gamma = 0.05, C = 1, TPR 0.708, FPR 0.097\n",
      "Test Accuracy= 0.854, gamma = 0.05, C = 5, TPR 0.708, FPR 0.062\n",
      "Test Accuracy= 0.854, gamma = 0.05, C = 10, TPR 0.708, FPR 0.062\n",
      "Test Accuracy= 0.848, gamma = 0.05, C = 20, TPR 0.723, FPR 0.080\n",
      "Test Accuracy= 0.843, gamma = 0.05, C = 30, TPR 0.723, FPR 0.088\n",
      "Test Accuracy= 0.843, gamma = 0.05, C = 40, TPR 0.723, FPR 0.088\n",
      "Test Accuracy= 0.843, gamma = 0.05, C = 50, TPR 0.723, FPR 0.088\n",
      "Test Accuracy= 0.843, gamma = 0.05, C = 60, TPR 0.723, FPR 0.088\n",
      "Test Accuracy= 0.837, gamma = 0.05, C = 70, TPR 0.708, FPR 0.088\n",
      "Test Accuracy= 0.837, gamma = 0.05, C = 80, TPR 0.708, FPR 0.088\n",
      "Test Accuracy= 0.837, gamma = 0.05, C = 90, TPR 0.708, FPR 0.088\n",
      "Test Accuracy= 0.837, gamma = 0.05, C = 100, TPR 0.708, FPR 0.088\n",
      "Test Accuracy= 0.635, gamma = 0.1, C = 0.01, TPR 0.000, FPR 0.000\n",
      "Test Accuracy= 0.815, gamma = 0.1, C = 0.1, TPR 0.662, FPR 0.097\n",
      "Test Accuracy= 0.837, gamma = 0.1, C = 0.5, TPR 0.708, FPR 0.088\n",
      "Test Accuracy= 0.848, gamma = 0.1, C = 1, TPR 0.692, FPR 0.062\n",
      "Test Accuracy= 0.854, gamma = 0.1, C = 5, TPR 0.723, FPR 0.071\n",
      "Test Accuracy= 0.837, gamma = 0.1, C = 10, TPR 0.708, FPR 0.088\n",
      "Test Accuracy= 0.831, gamma = 0.1, C = 20, TPR 0.692, FPR 0.088\n",
      "Test Accuracy= 0.826, gamma = 0.1, C = 30, TPR 0.677, FPR 0.088\n",
      "Test Accuracy= 0.826, gamma = 0.1, C = 40, TPR 0.677, FPR 0.088\n",
      "Test Accuracy= 0.826, gamma = 0.1, C = 50, TPR 0.677, FPR 0.088\n",
      "Test Accuracy= 0.803, gamma = 0.1, C = 60, TPR 0.615, FPR 0.088\n",
      "Test Accuracy= 0.798, gamma = 0.1, C = 70, TPR 0.600, FPR 0.088\n",
      "Test Accuracy= 0.792, gamma = 0.1, C = 80, TPR 0.600, FPR 0.097\n",
      "Test Accuracy= 0.792, gamma = 0.1, C = 90, TPR 0.600, FPR 0.097\n",
      "Test Accuracy= 0.798, gamma = 0.1, C = 100, TPR 0.615, FPR 0.097\n",
      "Test Accuracy= 0.635, gamma = 1, C = 0.01, TPR 0.000, FPR 0.000\n",
      "Test Accuracy= 0.736, gamma = 1, C = 0.1, TPR 0.338, FPR 0.035\n",
      "Test Accuracy= 0.831, gamma = 1, C = 0.5, TPR 0.677, FPR 0.080\n",
      "Test Accuracy= 0.837, gamma = 1, C = 1, TPR 0.692, FPR 0.080\n",
      "Test Accuracy= 0.787, gamma = 1, C = 5, TPR 0.600, FPR 0.106\n",
      "Test Accuracy= 0.787, gamma = 1, C = 10, TPR 0.646, FPR 0.133\n",
      "Test Accuracy= 0.770, gamma = 1, C = 20, TPR 0.646, FPR 0.159\n",
      "Test Accuracy= 0.764, gamma = 1, C = 30, TPR 0.646, FPR 0.168\n",
      "Test Accuracy= 0.770, gamma = 1, C = 40, TPR 0.646, FPR 0.159\n",
      "Test Accuracy= 0.770, gamma = 1, C = 50, TPR 0.646, FPR 0.159\n",
      "Test Accuracy= 0.770, gamma = 1, C = 60, TPR 0.646, FPR 0.159\n",
      "Test Accuracy= 0.775, gamma = 1, C = 70, TPR 0.646, FPR 0.150\n",
      "Test Accuracy= 0.781, gamma = 1, C = 80, TPR 0.646, FPR 0.142\n",
      "Test Accuracy= 0.781, gamma = 1, C = 90, TPR 0.646, FPR 0.142\n",
      "Test Accuracy= 0.781, gamma = 1, C = 100, TPR 0.646, FPR 0.142\n",
      "Test Accuracy= 0.635, gamma = 10, C = 0.01, TPR 0.000, FPR 0.000\n",
      "Test Accuracy= 0.635, gamma = 10, C = 0.1, TPR 0.031, FPR 0.018\n",
      "Test Accuracy= 0.713, gamma = 10, C = 0.5, TPR 0.338, FPR 0.071\n",
      "Test Accuracy= 0.736, gamma = 10, C = 1, TPR 0.477, FPR 0.115\n",
      "Test Accuracy= 0.770, gamma = 10, C = 5, TPR 0.723, FPR 0.204\n",
      "Test Accuracy= 0.764, gamma = 10, C = 10, TPR 0.723, FPR 0.212\n"
     ]
    },
    {
     "name": "stdout",
     "output_type": "stream",
     "text": [
      "Test Accuracy= 0.775, gamma = 10, C = 20, TPR 0.723, FPR 0.195\n",
      "Test Accuracy= 0.770, gamma = 10, C = 30, TPR 0.723, FPR 0.204\n",
      "Test Accuracy= 0.770, gamma = 10, C = 40, TPR 0.723, FPR 0.204\n",
      "Test Accuracy= 0.770, gamma = 10, C = 50, TPR 0.723, FPR 0.204\n",
      "Test Accuracy= 0.770, gamma = 10, C = 60, TPR 0.723, FPR 0.204\n",
      "Test Accuracy= 0.770, gamma = 10, C = 70, TPR 0.723, FPR 0.204\n",
      "Test Accuracy= 0.775, gamma = 10, C = 80, TPR 0.738, FPR 0.204\n",
      "Test Accuracy= 0.775, gamma = 10, C = 90, TPR 0.738, FPR 0.204\n",
      "Test Accuracy= 0.719, gamma = 10, C = 100, TPR 0.492, FPR 0.150\n"
     ]
    }
   ],
   "source": [
    "# Tuning hyperparameters\n",
    "FPR, TPR = [],[]\n",
    "for i in gamma:\n",
    "    for j in C:\n",
    "        svm = SVC(gamma=i, C=j, random_state =42)\n",
    "    \n",
    "        svm.fit(X_train, y_train)\n",
    "        y_pred = svm.predict(X_test)\n",
    "        tn, fp, fn, tp = confusion_matrix(y_test, y_pred).ravel()\n",
    "        TPR += [tp/(tp+fn)]\n",
    "        FPR += [fp/(fp+tn)]\n",
    "        print(f'Test Accuracy= {svm.score(X_test, y_test):.3f}, gamma = {i}, C = {j}, TPR {TPR[-1]:.3f}, FPR {FPR[-1]:.3f}')"
   ]
  },
  {
   "cell_type": "code",
   "execution_count": 21,
   "metadata": {},
   "outputs": [
    {
     "data": {
      "image/png": "[encoded data removed]",
      "text/plain": [
       "<Figure size 432x288 with 1 Axes>"
      ]
     },
     "metadata": {
      "needs_background": "light"
     },
     "output_type": "display_data"
    }
   ],
   "source": [
    "# Sorts the points to display nicely on ROC\n",
    "FPR, TPR = zip(*sorted(zip(FPR, TPR)))\n",
    "fpr = [0.]+list(FPR)+[1.]; tpr = [0.]+list(TPR)+[1.]\n",
    "\n",
    "# Plot\n",
    "fig, ax = plt.subplots()\n",
    "plt.plot(fpr, tpr, ':', label='ROC')\n",
    "plt.scatter(FPR, TPR, 50, color='red', marker='o', label='operating points')\n",
    "plt.plot([0, 1], [0, 1], linestyle='--', color=(0.6, 0.6, 0.6), label='coin flip')\n",
    "\n",
    "# Labels\n",
    "plt.xlabel('False Positive Rate')\n",
    "plt.ylabel('True Positive Rate')\n",
    "plt.legend(loc='lower right')\n",
    "plt.grid()\n",
    "plt.show()"
   ]
  },
  {
   "cell_type": "code",
   "execution_count": 22,
   "metadata": {},
   "outputs": [],
   "source": [
    "X = X  # from scaled dataframe\n",
    "y = final['Survived'].ravel()"
   ]
  },
  {
   "cell_type": "code",
   "execution_count": 23,
   "metadata": {},
   "outputs": [
    {
     "name": "stdout",
     "output_type": "stream",
     "text": [
      "Average accuracy: 0.7919305413687435\n"
     ]
    }
   ],
   "source": [
    "# Create SVM\n",
    "svm = SVC(gamma = 0.001, C = 100, random_state =42)\n",
    "\n",
    "# Create StratifiedKFold object\n",
    "skf = StratifiedKFold(n_splits=10, shuffle=True)\n",
    "lst_accu_stratified = []\n",
    "  \n",
    "# Fit model using Stratified Cross Validation\n",
    "for train_index, test_index in skf.split(X, y):\n",
    "    x_train_fold =  X.iloc[train_index]\n",
    "    x_test_fold = X.iloc[test_index]\n",
    "    y_train_fold = y[train_index]\n",
    "    y_test_fold = y[test_index]\n",
    "    svm.fit(x_train_fold, y_train_fold)\n",
    "    lst_accu_stratified.append(svm.score(x_test_fold, y_test_fold))\n",
    "    \n",
    "print(\"Average accuracy: \" + str(np.array(lst_accu_stratified).mean()))"
   ]
  },
  {
   "cell_type": "markdown",
   "metadata": {},
   "source": [
    "# Logistic Regression"
   ]
  },
  {
   "cell_type": "code",
   "execution_count": 24,
   "metadata": {},
   "outputs": [],
   "source": [
    "# Split into training and testing datasets\n",
    "X_train, X_test, y_train, y_test = train_test_split(X,y, test_size = 0.2)"
   ]
  },
  {
   "cell_type": "code",
   "execution_count": 25,
   "metadata": {},
   "outputs": [],
   "source": [
    "# Logistic Regresion hyperparameters\n",
    "C = (0.001, 0.005, 0.01, 0.05, 0.1, 0.5, 1, 2, 3, 4, 5, 10, 50, 100)"
   ]
  },
  {
   "cell_type": "code",
   "execution_count": 26,
   "metadata": {},
   "outputs": [
    {
     "name": "stdout",
     "output_type": "stream",
     "text": [
      "Test Accuracy= 0.758, C = 0.001, TPR 0.618, FPR 0.155\n",
      "Test Accuracy= 0.753, C = 0.005, TPR 0.603, FPR 0.155\n",
      "Test Accuracy= 0.758, C = 0.01, TPR 0.603, FPR 0.145\n",
      "Test Accuracy= 0.775, C = 0.05, TPR 0.603, FPR 0.118\n",
      "Test Accuracy= 0.770, C = 0.1, TPR 0.603, FPR 0.127\n",
      "Test Accuracy= 0.775, C = 0.5, TPR 0.603, FPR 0.118\n",
      "Test Accuracy= 0.775, C = 1, TPR 0.603, FPR 0.118\n",
      "Test Accuracy= 0.775, C = 2, TPR 0.603, FPR 0.118\n",
      "Test Accuracy= 0.775, C = 3, TPR 0.603, FPR 0.118\n",
      "Test Accuracy= 0.775, C = 4, TPR 0.603, FPR 0.118\n",
      "Test Accuracy= 0.775, C = 5, TPR 0.603, FPR 0.118\n",
      "Test Accuracy= 0.775, C = 10, TPR 0.603, FPR 0.118\n",
      "Test Accuracy= 0.775, C = 50, TPR 0.603, FPR 0.118\n",
      "Test Accuracy= 0.775, C = 100, TPR 0.603, FPR 0.118\n"
     ]
    },
    {
     "name": "stderr",
     "output_type": "stream",
     "text": [
      "/opt/anaconda3/lib/python3.7/site-packages/sklearn/linear_model/logistic.py:432: FutureWarning: Default solver will be changed to 'lbfgs' in 0.22. Specify a solver to silence this warning.\n",
      "  FutureWarning)\n",
      "/opt/anaconda3/lib/python3.7/site-packages/sklearn/linear_model/logistic.py:432: FutureWarning: Default solver will be changed to 'lbfgs' in 0.22. Specify a solver to silence this warning.\n",
      "  FutureWarning)\n",
      "/opt/anaconda3/lib/python3.7/site-packages/sklearn/linear_model/logistic.py:432: FutureWarning: Default solver will be changed to 'lbfgs' in 0.22. Specify a solver to silence this warning.\n",
      "  FutureWarning)\n",
      "/opt/anaconda3/lib/python3.7/site-packages/sklearn/linear_model/logistic.py:432: FutureWarning: Default solver will be changed to 'lbfgs' in 0.22. Specify a solver to silence this warning.\n",
      "  FutureWarning)\n",
      "/opt/anaconda3/lib/python3.7/site-packages/sklearn/linear_model/logistic.py:432: FutureWarning: Default solver will be changed to 'lbfgs' in 0.22. Specify a solver to silence this warning.\n",
      "  FutureWarning)\n",
      "/opt/anaconda3/lib/python3.7/site-packages/sklearn/linear_model/logistic.py:432: FutureWarning: Default solver will be changed to 'lbfgs' in 0.22. Specify a solver to silence this warning.\n",
      "  FutureWarning)\n",
      "/opt/anaconda3/lib/python3.7/site-packages/sklearn/linear_model/logistic.py:432: FutureWarning: Default solver will be changed to 'lbfgs' in 0.22. Specify a solver to silence this warning.\n",
      "  FutureWarning)\n",
      "/opt/anaconda3/lib/python3.7/site-packages/sklearn/linear_model/logistic.py:432: FutureWarning: Default solver will be changed to 'lbfgs' in 0.22. Specify a solver to silence this warning.\n",
      "  FutureWarning)\n",
      "/opt/anaconda3/lib/python3.7/site-packages/sklearn/linear_model/logistic.py:432: FutureWarning: Default solver will be changed to 'lbfgs' in 0.22. Specify a solver to silence this warning.\n",
      "  FutureWarning)\n",
      "/opt/anaconda3/lib/python3.7/site-packages/sklearn/linear_model/logistic.py:432: FutureWarning: Default solver will be changed to 'lbfgs' in 0.22. Specify a solver to silence this warning.\n",
      "  FutureWarning)\n",
      "/opt/anaconda3/lib/python3.7/site-packages/sklearn/linear_model/logistic.py:432: FutureWarning: Default solver will be changed to 'lbfgs' in 0.22. Specify a solver to silence this warning.\n",
      "  FutureWarning)\n",
      "/opt/anaconda3/lib/python3.7/site-packages/sklearn/linear_model/logistic.py:432: FutureWarning: Default solver will be changed to 'lbfgs' in 0.22. Specify a solver to silence this warning.\n",
      "  FutureWarning)\n",
      "/opt/anaconda3/lib/python3.7/site-packages/sklearn/linear_model/logistic.py:432: FutureWarning: Default solver will be changed to 'lbfgs' in 0.22. Specify a solver to silence this warning.\n",
      "  FutureWarning)\n",
      "/opt/anaconda3/lib/python3.7/site-packages/sklearn/linear_model/logistic.py:432: FutureWarning: Default solver will be changed to 'lbfgs' in 0.22. Specify a solver to silence this warning.\n",
      "  FutureWarning)\n"
     ]
    }
   ],
   "source": [
    "# Tuning hyperparameters\n",
    "FPR, TPR = [],[]\n",
    "for j in C:\n",
    "    logreg = LogisticRegression(C=j, random_state = 42)\n",
    "    \n",
    "    logreg.fit(X_train, y_train)\n",
    "    y_pred = logreg.predict(X_test)\n",
    "    tn, fp, fn, tp = confusion_matrix(y_test, y_pred).ravel()\n",
    "    TPR += [tp/(tp+fn)]\n",
    "    FPR += [fp/(fp+tn)]\n",
    "    print(f'Test Accuracy= {logreg.score(X_test, y_test):.3f}, C = {j}, TPR {TPR[-1]:.3f}, FPR {FPR[-1]:.3f}')"
   ]
  },
  {
   "cell_type": "code",
   "execution_count": 27,
   "metadata": {},
   "outputs": [
    {
     "data": {
      "image/png": "[encoded data removed]",
      "text/plain": [
       "<Figure size 432x288 with 1 Axes>"
      ]
     },
     "metadata": {
      "needs_background": "light"
     },
     "output_type": "display_data"
    }
   ],
   "source": [
    "# Sorts the points to display nicely on ROC\n",
    "FPR, TPR = zip(*sorted(zip(FPR, TPR)))\n",
    "fpr = [0.]+list(FPR)+[1.]; tpr = [0.]+list(TPR)+[1.]\n",
    "\n",
    "# Plot\n",
    "fig, ax = plt.subplots()\n",
    "plt.plot(fpr, tpr, ':', label='ROC')\n",
    "plt.scatter(FPR, TPR, 50, color='red', marker='o', label='operating points')\n",
    "plt.plot([0, 1], [0, 1], linestyle='--', color=(0.6, 0.6, 0.6), label='coin flip')\n",
    "\n",
    "# Labels\n",
    "plt.xlabel('False Positive Rate')\n",
    "plt.ylabel('True Positive Rate')\n",
    "plt.legend(loc='lower right')\n",
    "plt.grid()\n",
    "plt.show()"
   ]
  },
  {
   "cell_type": "code",
   "execution_count": 28,
   "metadata": {},
   "outputs": [],
   "source": [
    "X = X\n",
    "y = final['Survived'].ravel()"
   ]
  },
  {
   "cell_type": "code",
   "execution_count": 29,
   "metadata": {},
   "outputs": [
    {
     "name": "stdout",
     "output_type": "stream",
     "text": [
      "Average accuracy: 0.7941777323799796\n"
     ]
    },
    {
     "name": "stderr",
     "output_type": "stream",
     "text": [
      "/opt/anaconda3/lib/python3.7/site-packages/sklearn/linear_model/logistic.py:432: FutureWarning: Default solver will be changed to 'lbfgs' in 0.22. Specify a solver to silence this warning.\n",
      "  FutureWarning)\n",
      "/opt/anaconda3/lib/python3.7/site-packages/sklearn/linear_model/logistic.py:432: FutureWarning: Default solver will be changed to 'lbfgs' in 0.22. Specify a solver to silence this warning.\n",
      "  FutureWarning)\n",
      "/opt/anaconda3/lib/python3.7/site-packages/sklearn/linear_model/logistic.py:432: FutureWarning: Default solver will be changed to 'lbfgs' in 0.22. Specify a solver to silence this warning.\n",
      "  FutureWarning)\n",
      "/opt/anaconda3/lib/python3.7/site-packages/sklearn/linear_model/logistic.py:432: FutureWarning: Default solver will be changed to 'lbfgs' in 0.22. Specify a solver to silence this warning.\n",
      "  FutureWarning)\n",
      "/opt/anaconda3/lib/python3.7/site-packages/sklearn/linear_model/logistic.py:432: FutureWarning: Default solver will be changed to 'lbfgs' in 0.22. Specify a solver to silence this warning.\n",
      "  FutureWarning)\n",
      "/opt/anaconda3/lib/python3.7/site-packages/sklearn/linear_model/logistic.py:432: FutureWarning: Default solver will be changed to 'lbfgs' in 0.22. Specify a solver to silence this warning.\n",
      "  FutureWarning)\n",
      "/opt/anaconda3/lib/python3.7/site-packages/sklearn/linear_model/logistic.py:432: FutureWarning: Default solver will be changed to 'lbfgs' in 0.22. Specify a solver to silence this warning.\n",
      "  FutureWarning)\n",
      "/opt/anaconda3/lib/python3.7/site-packages/sklearn/linear_model/logistic.py:432: FutureWarning: Default solver will be changed to 'lbfgs' in 0.22. Specify a solver to silence this warning.\n",
      "  FutureWarning)\n",
      "/opt/anaconda3/lib/python3.7/site-packages/sklearn/linear_model/logistic.py:432: FutureWarning: Default solver will be changed to 'lbfgs' in 0.22. Specify a solver to silence this warning.\n",
      "  FutureWarning)\n",
      "/opt/anaconda3/lib/python3.7/site-packages/sklearn/linear_model/logistic.py:432: FutureWarning: Default solver will be changed to 'lbfgs' in 0.22. Specify a solver to silence this warning.\n",
      "  FutureWarning)\n"
     ]
    }
   ],
   "source": [
    "# Create Logistic Regression Classifier\n",
    "logreg = LogisticRegression(C = 5, random_state =42)\n",
    "\n",
    "# Create StratifiedKFold object\n",
    "skf = StratifiedKFold(n_splits=10, shuffle=True)\n",
    "lst_accu_stratified = []\n",
    "\n",
    "# Fit model using Stratified Cross Validation\n",
    "for train_index, test_index in skf.split(X, y):\n",
    "    x_train_fold =  X.iloc[train_index]\n",
    "    x_test_fold = X.iloc[test_index]\n",
    "    y_train_fold = y[train_index]\n",
    "    y_test_fold = y[test_index]\n",
    "    logreg.fit(x_train_fold, y_train_fold)\n",
    "    lst_accu_stratified.append(logreg.score(x_test_fold, y_test_fold))\n",
    "    \n",
    "print(\"Average accuracy: \" + str(np.array(lst_accu_stratified).mean()))"
   ]
  },
  {
   "cell_type": "markdown",
   "metadata": {},
   "source": [
    "# Random Forest"
   ]
  },
  {
   "cell_type": "code",
   "execution_count": 30,
   "metadata": {},
   "outputs": [],
   "source": [
    "# Split into training and testing datasets\n",
    "X_train, X_test, y_train, y_test = train_test_split(X,y, test_size = 0.2)"
   ]
  },
  {
   "cell_type": "code",
   "execution_count": 31,
   "metadata": {},
   "outputs": [],
   "source": [
    "# Random Forest Hyperparameters\n",
    "est = (100, 300, 500, 800, 1200)\n",
    "depth = (5, 8, 15, 25, 30)\n",
    "split = (2, 5, 10, 15, 100)\n",
    "leaf = (1, 2, 5, 10)"
   ]
  },
  {
   "cell_type": "code",
   "execution_count": 32,
   "metadata": {},
   "outputs": [
    {
     "name": "stdout",
     "output_type": "stream",
     "text": [
      "Test Accuracy= 0.860, estimators = 100, depth = 5, split = 2, leaf = 1, TPR 0.787, FPR 0.103\n",
      "Test Accuracy= 0.860, estimators = 100, depth = 5, split = 2, leaf = 2, TPR 0.787, FPR 0.103\n",
      "Test Accuracy= 0.848, estimators = 100, depth = 5, split = 2, leaf = 5, TPR 0.770, FPR 0.111\n",
      "Test Accuracy= 0.837, estimators = 100, depth = 5, split = 2, leaf = 10, TPR 0.754, FPR 0.120\n",
      "Test Accuracy= 0.854, estimators = 100, depth = 5, split = 5, leaf = 1, TPR 0.787, FPR 0.111\n",
      "Test Accuracy= 0.854, estimators = 100, depth = 5, split = 5, leaf = 2, TPR 0.787, FPR 0.111\n",
      "Test Accuracy= 0.848, estimators = 100, depth = 5, split = 5, leaf = 5, TPR 0.770, FPR 0.111\n",
      "Test Accuracy= 0.837, estimators = 100, depth = 5, split = 5, leaf = 10, TPR 0.754, FPR 0.120\n",
      "Test Accuracy= 0.848, estimators = 100, depth = 5, split = 10, leaf = 1, TPR 0.787, FPR 0.120\n",
      "Test Accuracy= 0.854, estimators = 100, depth = 5, split = 10, leaf = 2, TPR 0.787, FPR 0.111\n",
      "Test Accuracy= 0.848, estimators = 100, depth = 5, split = 10, leaf = 5, TPR 0.770, FPR 0.111\n",
      "Test Accuracy= 0.837, estimators = 100, depth = 5, split = 10, leaf = 10, TPR 0.754, FPR 0.120\n",
      "Test Accuracy= 0.854, estimators = 100, depth = 5, split = 15, leaf = 1, TPR 0.787, FPR 0.111\n",
      "Test Accuracy= 0.854, estimators = 100, depth = 5, split = 15, leaf = 2, TPR 0.770, FPR 0.103\n",
      "Test Accuracy= 0.854, estimators = 100, depth = 5, split = 15, leaf = 5, TPR 0.770, FPR 0.103\n",
      "Test Accuracy= 0.837, estimators = 100, depth = 5, split = 15, leaf = 10, TPR 0.754, FPR 0.120\n",
      "Test Accuracy= 0.815, estimators = 100, depth = 5, split = 100, leaf = 1, TPR 0.787, FPR 0.171\n",
      "Test Accuracy= 0.815, estimators = 100, depth = 5, split = 100, leaf = 2, TPR 0.787, FPR 0.171\n",
      "Test Accuracy= 0.820, estimators = 100, depth = 5, split = 100, leaf = 5, TPR 0.787, FPR 0.162\n",
      "Test Accuracy= 0.809, estimators = 100, depth = 5, split = 100, leaf = 10, TPR 0.770, FPR 0.171\n",
      "Test Accuracy= 0.848, estimators = 100, depth = 8, split = 2, leaf = 1, TPR 0.820, FPR 0.137\n",
      "Test Accuracy= 0.854, estimators = 100, depth = 8, split = 2, leaf = 2, TPR 0.836, FPR 0.137\n",
      "Test Accuracy= 0.860, estimators = 100, depth = 8, split = 2, leaf = 5, TPR 0.787, FPR 0.103\n",
      "Test Accuracy= 0.848, estimators = 100, depth = 8, split = 2, leaf = 10, TPR 0.754, FPR 0.103\n",
      "Test Accuracy= 0.837, estimators = 100, depth = 8, split = 5, leaf = 1, TPR 0.820, FPR 0.154\n",
      "Test Accuracy= 0.848, estimators = 100, depth = 8, split = 5, leaf = 2, TPR 0.820, FPR 0.137\n",
      "Test Accuracy= 0.860, estimators = 100, depth = 8, split = 5, leaf = 5, TPR 0.787, FPR 0.103\n",
      "Test Accuracy= 0.848, estimators = 100, depth = 8, split = 5, leaf = 10, TPR 0.754, FPR 0.103\n",
      "Test Accuracy= 0.843, estimators = 100, depth = 8, split = 10, leaf = 1, TPR 0.787, FPR 0.128\n",
      "Test Accuracy= 0.843, estimators = 100, depth = 8, split = 10, leaf = 2, TPR 0.770, FPR 0.120\n",
      "Test Accuracy= 0.860, estimators = 100, depth = 8, split = 10, leaf = 5, TPR 0.787, FPR 0.103\n",
      "Test Accuracy= 0.848, estimators = 100, depth = 8, split = 10, leaf = 10, TPR 0.754, FPR 0.103\n",
      "Test Accuracy= 0.848, estimators = 100, depth = 8, split = 15, leaf = 1, TPR 0.803, FPR 0.128\n",
      "Test Accuracy= 0.837, estimators = 100, depth = 8, split = 15, leaf = 2, TPR 0.787, FPR 0.137\n",
      "Test Accuracy= 0.837, estimators = 100, depth = 8, split = 15, leaf = 5, TPR 0.754, FPR 0.120\n",
      "Test Accuracy= 0.848, estimators = 100, depth = 8, split = 15, leaf = 10, TPR 0.754, FPR 0.103\n",
      "Test Accuracy= 0.826, estimators = 100, depth = 8, split = 100, leaf = 1, TPR 0.787, FPR 0.154\n",
      "Test Accuracy= 0.826, estimators = 100, depth = 8, split = 100, leaf = 2, TPR 0.787, FPR 0.154\n",
      "Test Accuracy= 0.831, estimators = 100, depth = 8, split = 100, leaf = 5, TPR 0.787, FPR 0.145\n",
      "Test Accuracy= 0.815, estimators = 100, depth = 8, split = 100, leaf = 10, TPR 0.770, FPR 0.162\n",
      "Test Accuracy= 0.854, estimators = 100, depth = 15, split = 2, leaf = 1, TPR 0.836, FPR 0.137\n",
      "Test Accuracy= 0.843, estimators = 100, depth = 15, split = 2, leaf = 2, TPR 0.820, FPR 0.145\n",
      "Test Accuracy= 0.865, estimators = 100, depth = 15, split = 2, leaf = 5, TPR 0.820, FPR 0.111\n",
      "Test Accuracy= 0.854, estimators = 100, depth = 15, split = 2, leaf = 10, TPR 0.770, FPR 0.103\n",
      "Test Accuracy= 0.843, estimators = 100, depth = 15, split = 5, leaf = 1, TPR 0.836, FPR 0.154\n",
      "Test Accuracy= 0.848, estimators = 100, depth = 15, split = 5, leaf = 2, TPR 0.836, FPR 0.145\n",
      "Test Accuracy= 0.865, estimators = 100, depth = 15, split = 5, leaf = 5, TPR 0.820, FPR 0.111\n",
      "Test Accuracy= 0.854, estimators = 100, depth = 15, split = 5, leaf = 10, TPR 0.770, FPR 0.103\n",
      "Test Accuracy= 0.843, estimators = 100, depth = 15, split = 10, leaf = 1, TPR 0.820, FPR 0.145\n",
      "Test Accuracy= 0.854, estimators = 100, depth = 15, split = 10, leaf = 2, TPR 0.820, FPR 0.128\n",
      "Test Accuracy= 0.865, estimators = 100, depth = 15, split = 10, leaf = 5, TPR 0.820, FPR 0.111\n",
      "Test Accuracy= 0.854, estimators = 100, depth = 15, split = 10, leaf = 10, TPR 0.770, FPR 0.103\n",
      "Test Accuracy= 0.843, estimators = 100, depth = 15, split = 15, leaf = 1, TPR 0.803, FPR 0.137\n",
      "Test Accuracy= 0.843, estimators = 100, depth = 15, split = 15, leaf = 2, TPR 0.803, FPR 0.137\n",
      "Test Accuracy= 0.837, estimators = 100, depth = 15, split = 15, leaf = 5, TPR 0.787, FPR 0.137\n",
      "Test Accuracy= 0.854, estimators = 100, depth = 15, split = 15, leaf = 10, TPR 0.770, FPR 0.103\n",
      "Test Accuracy= 0.820, estimators = 100, depth = 15, split = 100, leaf = 1, TPR 0.787, FPR 0.162\n",
      "Test Accuracy= 0.826, estimators = 100, depth = 15, split = 100, leaf = 2, TPR 0.787, FPR 0.154\n",
      "Test Accuracy= 0.831, estimators = 100, depth = 15, split = 100, leaf = 5, TPR 0.787, FPR 0.145\n",
      "Test Accuracy= 0.815, estimators = 100, depth = 15, split = 100, leaf = 10, TPR 0.770, FPR 0.162\n",
      "Test Accuracy= 0.854, estimators = 100, depth = 25, split = 2, leaf = 1, TPR 0.836, FPR 0.137\n",
      "Test Accuracy= 0.860, estimators = 100, depth = 25, split = 2, leaf = 2, TPR 0.820, FPR 0.120\n",
      "Test Accuracy= 0.865, estimators = 100, depth = 25, split = 2, leaf = 5, TPR 0.820, FPR 0.111\n",
      "Test Accuracy= 0.854, estimators = 100, depth = 25, split = 2, leaf = 10, TPR 0.770, FPR 0.103\n",
      "Test Accuracy= 0.848, estimators = 100, depth = 25, split = 5, leaf = 1, TPR 0.836, FPR 0.145\n",
      "Test Accuracy= 0.848, estimators = 100, depth = 25, split = 5, leaf = 2, TPR 0.836, FPR 0.145\n",
      "Test Accuracy= 0.865, estimators = 100, depth = 25, split = 5, leaf = 5, TPR 0.820, FPR 0.111\n",
      "Test Accuracy= 0.854, estimators = 100, depth = 25, split = 5, leaf = 10, TPR 0.770, FPR 0.103\n",
      "Test Accuracy= 0.848, estimators = 100, depth = 25, split = 10, leaf = 1, TPR 0.820, FPR 0.137\n",
      "Test Accuracy= 0.848, estimators = 100, depth = 25, split = 10, leaf = 2, TPR 0.820, FPR 0.137\n",
      "Test Accuracy= 0.865, estimators = 100, depth = 25, split = 10, leaf = 5, TPR 0.820, FPR 0.111\n",
      "Test Accuracy= 0.854, estimators = 100, depth = 25, split = 10, leaf = 10, TPR 0.770, FPR 0.103\n",
      "Test Accuracy= 0.837, estimators = 100, depth = 25, split = 15, leaf = 1, TPR 0.803, FPR 0.145\n",
      "Test Accuracy= 0.843, estimators = 100, depth = 25, split = 15, leaf = 2, TPR 0.803, FPR 0.137\n",
      "Test Accuracy= 0.831, estimators = 100, depth = 25, split = 15, leaf = 5, TPR 0.770, FPR 0.137\n",
      "Test Accuracy= 0.854, estimators = 100, depth = 25, split = 15, leaf = 10, TPR 0.770, FPR 0.103\n",
      "Test Accuracy= 0.820, estimators = 100, depth = 25, split = 100, leaf = 1, TPR 0.787, FPR 0.162\n",
      "Test Accuracy= 0.826, estimators = 100, depth = 25, split = 100, leaf = 2, TPR 0.787, FPR 0.154\n",
      "Test Accuracy= 0.831, estimators = 100, depth = 25, split = 100, leaf = 5, TPR 0.787, FPR 0.145\n",
      "Test Accuracy= 0.815, estimators = 100, depth = 25, split = 100, leaf = 10, TPR 0.770, FPR 0.162\n",
      "Test Accuracy= 0.854, estimators = 100, depth = 30, split = 2, leaf = 1, TPR 0.836, FPR 0.137\n",
      "Test Accuracy= 0.860, estimators = 100, depth = 30, split = 2, leaf = 2, TPR 0.820, FPR 0.120\n",
      "Test Accuracy= 0.865, estimators = 100, depth = 30, split = 2, leaf = 5, TPR 0.820, FPR 0.111\n",
      "Test Accuracy= 0.854, estimators = 100, depth = 30, split = 2, leaf = 10, TPR 0.770, FPR 0.103\n",
      "Test Accuracy= 0.848, estimators = 100, depth = 30, split = 5, leaf = 1, TPR 0.836, FPR 0.145\n",
      "Test Accuracy= 0.848, estimators = 100, depth = 30, split = 5, leaf = 2, TPR 0.836, FPR 0.145\n",
      "Test Accuracy= 0.865, estimators = 100, depth = 30, split = 5, leaf = 5, TPR 0.820, FPR 0.111\n"
     ]
    },
    {
     "name": "stdout",
     "output_type": "stream",
     "text": [
      "Test Accuracy= 0.854, estimators = 100, depth = 30, split = 5, leaf = 10, TPR 0.770, FPR 0.103\n",
      "Test Accuracy= 0.848, estimators = 100, depth = 30, split = 10, leaf = 1, TPR 0.820, FPR 0.137\n",
      "Test Accuracy= 0.848, estimators = 100, depth = 30, split = 10, leaf = 2, TPR 0.820, FPR 0.137\n",
      "Test Accuracy= 0.865, estimators = 100, depth = 30, split = 10, leaf = 5, TPR 0.820, FPR 0.111\n",
      "Test Accuracy= 0.854, estimators = 100, depth = 30, split = 10, leaf = 10, TPR 0.770, FPR 0.103\n",
      "Test Accuracy= 0.837, estimators = 100, depth = 30, split = 15, leaf = 1, TPR 0.803, FPR 0.145\n",
      "Test Accuracy= 0.843, estimators = 100, depth = 30, split = 15, leaf = 2, TPR 0.803, FPR 0.137\n",
      "Test Accuracy= 0.831, estimators = 100, depth = 30, split = 15, leaf = 5, TPR 0.770, FPR 0.137\n",
      "Test Accuracy= 0.854, estimators = 100, depth = 30, split = 15, leaf = 10, TPR 0.770, FPR 0.103\n",
      "Test Accuracy= 0.820, estimators = 100, depth = 30, split = 100, leaf = 1, TPR 0.787, FPR 0.162\n",
      "Test Accuracy= 0.826, estimators = 100, depth = 30, split = 100, leaf = 2, TPR 0.787, FPR 0.154\n",
      "Test Accuracy= 0.831, estimators = 100, depth = 30, split = 100, leaf = 5, TPR 0.787, FPR 0.145\n",
      "Test Accuracy= 0.815, estimators = 100, depth = 30, split = 100, leaf = 10, TPR 0.770, FPR 0.162\n",
      "Test Accuracy= 0.848, estimators = 300, depth = 5, split = 2, leaf = 1, TPR 0.787, FPR 0.120\n",
      "Test Accuracy= 0.843, estimators = 300, depth = 5, split = 2, leaf = 2, TPR 0.770, FPR 0.120\n",
      "Test Accuracy= 0.831, estimators = 300, depth = 5, split = 2, leaf = 5, TPR 0.770, FPR 0.137\n",
      "Test Accuracy= 0.837, estimators = 300, depth = 5, split = 2, leaf = 10, TPR 0.754, FPR 0.120\n",
      "Test Accuracy= 0.848, estimators = 300, depth = 5, split = 5, leaf = 1, TPR 0.787, FPR 0.120\n",
      "Test Accuracy= 0.843, estimators = 300, depth = 5, split = 5, leaf = 2, TPR 0.770, FPR 0.120\n",
      "Test Accuracy= 0.831, estimators = 300, depth = 5, split = 5, leaf = 5, TPR 0.770, FPR 0.137\n",
      "Test Accuracy= 0.837, estimators = 300, depth = 5, split = 5, leaf = 10, TPR 0.754, FPR 0.120\n",
      "Test Accuracy= 0.843, estimators = 300, depth = 5, split = 10, leaf = 1, TPR 0.770, FPR 0.120\n",
      "Test Accuracy= 0.843, estimators = 300, depth = 5, split = 10, leaf = 2, TPR 0.770, FPR 0.120\n",
      "Test Accuracy= 0.831, estimators = 300, depth = 5, split = 10, leaf = 5, TPR 0.770, FPR 0.137\n",
      "Test Accuracy= 0.837, estimators = 300, depth = 5, split = 10, leaf = 10, TPR 0.754, FPR 0.120\n",
      "Test Accuracy= 0.843, estimators = 300, depth = 5, split = 15, leaf = 1, TPR 0.770, FPR 0.120\n",
      "Test Accuracy= 0.837, estimators = 300, depth = 5, split = 15, leaf = 2, TPR 0.770, FPR 0.128\n",
      "Test Accuracy= 0.837, estimators = 300, depth = 5, split = 15, leaf = 5, TPR 0.770, FPR 0.128\n",
      "Test Accuracy= 0.837, estimators = 300, depth = 5, split = 15, leaf = 10, TPR 0.754, FPR 0.120\n",
      "Test Accuracy= 0.831, estimators = 300, depth = 5, split = 100, leaf = 1, TPR 0.787, FPR 0.145\n",
      "Test Accuracy= 0.831, estimators = 300, depth = 5, split = 100, leaf = 2, TPR 0.787, FPR 0.145\n",
      "Test Accuracy= 0.831, estimators = 300, depth = 5, split = 100, leaf = 5, TPR 0.787, FPR 0.145\n",
      "Test Accuracy= 0.820, estimators = 300, depth = 5, split = 100, leaf = 10, TPR 0.787, FPR 0.162\n",
      "Test Accuracy= 0.843, estimators = 300, depth = 8, split = 2, leaf = 1, TPR 0.820, FPR 0.145\n",
      "Test Accuracy= 0.848, estimators = 300, depth = 8, split = 2, leaf = 2, TPR 0.836, FPR 0.145\n",
      "Test Accuracy= 0.843, estimators = 300, depth = 8, split = 2, leaf = 5, TPR 0.787, FPR 0.128\n",
      "Test Accuracy= 0.843, estimators = 300, depth = 8, split = 2, leaf = 10, TPR 0.738, FPR 0.103\n",
      "Test Accuracy= 0.854, estimators = 300, depth = 8, split = 5, leaf = 1, TPR 0.836, FPR 0.137\n",
      "Test Accuracy= 0.848, estimators = 300, depth = 8, split = 5, leaf = 2, TPR 0.836, FPR 0.145\n",
      "Test Accuracy= 0.843, estimators = 300, depth = 8, split = 5, leaf = 5, TPR 0.787, FPR 0.128\n",
      "Test Accuracy= 0.843, estimators = 300, depth = 8, split = 5, leaf = 10, TPR 0.738, FPR 0.103\n",
      "Test Accuracy= 0.843, estimators = 300, depth = 8, split = 10, leaf = 1, TPR 0.803, FPR 0.137\n",
      "Test Accuracy= 0.848, estimators = 300, depth = 8, split = 10, leaf = 2, TPR 0.803, FPR 0.128\n",
      "Test Accuracy= 0.843, estimators = 300, depth = 8, split = 10, leaf = 5, TPR 0.787, FPR 0.128\n",
      "Test Accuracy= 0.843, estimators = 300, depth = 8, split = 10, leaf = 10, TPR 0.738, FPR 0.103\n",
      "Test Accuracy= 0.837, estimators = 300, depth = 8, split = 15, leaf = 1, TPR 0.770, FPR 0.128\n",
      "Test Accuracy= 0.843, estimators = 300, depth = 8, split = 15, leaf = 2, TPR 0.770, FPR 0.120\n",
      "Test Accuracy= 0.826, estimators = 300, depth = 8, split = 15, leaf = 5, TPR 0.754, FPR 0.137\n",
      "Test Accuracy= 0.843, estimators = 300, depth = 8, split = 15, leaf = 10, TPR 0.738, FPR 0.103\n",
      "Test Accuracy= 0.831, estimators = 300, depth = 8, split = 100, leaf = 1, TPR 0.787, FPR 0.145\n",
      "Test Accuracy= 0.831, estimators = 300, depth = 8, split = 100, leaf = 2, TPR 0.787, FPR 0.145\n",
      "Test Accuracy= 0.831, estimators = 300, depth = 8, split = 100, leaf = 5, TPR 0.787, FPR 0.145\n",
      "Test Accuracy= 0.820, estimators = 300, depth = 8, split = 100, leaf = 10, TPR 0.787, FPR 0.162\n",
      "Test Accuracy= 0.865, estimators = 300, depth = 15, split = 2, leaf = 1, TPR 0.852, FPR 0.128\n",
      "Test Accuracy= 0.843, estimators = 300, depth = 15, split = 2, leaf = 2, TPR 0.820, FPR 0.145\n",
      "Test Accuracy= 0.854, estimators = 300, depth = 15, split = 2, leaf = 5, TPR 0.820, FPR 0.128\n",
      "Test Accuracy= 0.848, estimators = 300, depth = 15, split = 2, leaf = 10, TPR 0.754, FPR 0.103\n",
      "Test Accuracy= 0.843, estimators = 300, depth = 15, split = 5, leaf = 1, TPR 0.836, FPR 0.154\n",
      "Test Accuracy= 0.843, estimators = 300, depth = 15, split = 5, leaf = 2, TPR 0.836, FPR 0.154\n",
      "Test Accuracy= 0.854, estimators = 300, depth = 15, split = 5, leaf = 5, TPR 0.820, FPR 0.128\n",
      "Test Accuracy= 0.848, estimators = 300, depth = 15, split = 5, leaf = 10, TPR 0.754, FPR 0.103\n",
      "Test Accuracy= 0.848, estimators = 300, depth = 15, split = 10, leaf = 1, TPR 0.836, FPR 0.145\n",
      "Test Accuracy= 0.854, estimators = 300, depth = 15, split = 10, leaf = 2, TPR 0.820, FPR 0.128\n",
      "Test Accuracy= 0.854, estimators = 300, depth = 15, split = 10, leaf = 5, TPR 0.820, FPR 0.128\n",
      "Test Accuracy= 0.848, estimators = 300, depth = 15, split = 10, leaf = 10, TPR 0.754, FPR 0.103\n",
      "Test Accuracy= 0.843, estimators = 300, depth = 15, split = 15, leaf = 1, TPR 0.803, FPR 0.137\n",
      "Test Accuracy= 0.843, estimators = 300, depth = 15, split = 15, leaf = 2, TPR 0.820, FPR 0.145\n",
      "Test Accuracy= 0.843, estimators = 300, depth = 15, split = 15, leaf = 5, TPR 0.787, FPR 0.128\n",
      "Test Accuracy= 0.848, estimators = 300, depth = 15, split = 15, leaf = 10, TPR 0.754, FPR 0.103\n",
      "Test Accuracy= 0.831, estimators = 300, depth = 15, split = 100, leaf = 1, TPR 0.787, FPR 0.145\n",
      "Test Accuracy= 0.831, estimators = 300, depth = 15, split = 100, leaf = 2, TPR 0.787, FPR 0.145\n",
      "Test Accuracy= 0.831, estimators = 300, depth = 15, split = 100, leaf = 5, TPR 0.787, FPR 0.145\n",
      "Test Accuracy= 0.820, estimators = 300, depth = 15, split = 100, leaf = 10, TPR 0.787, FPR 0.162\n",
      "Test Accuracy= 0.860, estimators = 300, depth = 25, split = 2, leaf = 1, TPR 0.852, FPR 0.137\n",
      "Test Accuracy= 0.848, estimators = 300, depth = 25, split = 2, leaf = 2, TPR 0.820, FPR 0.137\n",
      "Test Accuracy= 0.848, estimators = 300, depth = 25, split = 2, leaf = 5, TPR 0.787, FPR 0.120\n",
      "Test Accuracy= 0.848, estimators = 300, depth = 25, split = 2, leaf = 10, TPR 0.754, FPR 0.103\n",
      "Test Accuracy= 0.848, estimators = 300, depth = 25, split = 5, leaf = 1, TPR 0.836, FPR 0.145\n",
      "Test Accuracy= 0.837, estimators = 300, depth = 25, split = 5, leaf = 2, TPR 0.820, FPR 0.154\n",
      "Test Accuracy= 0.848, estimators = 300, depth = 25, split = 5, leaf = 5, TPR 0.787, FPR 0.120\n",
      "Test Accuracy= 0.848, estimators = 300, depth = 25, split = 5, leaf = 10, TPR 0.754, FPR 0.103\n",
      "Test Accuracy= 0.854, estimators = 300, depth = 25, split = 10, leaf = 1, TPR 0.836, FPR 0.137\n",
      "Test Accuracy= 0.848, estimators = 300, depth = 25, split = 10, leaf = 2, TPR 0.820, FPR 0.137\n",
      "Test Accuracy= 0.848, estimators = 300, depth = 25, split = 10, leaf = 5, TPR 0.787, FPR 0.120\n",
      "Test Accuracy= 0.848, estimators = 300, depth = 25, split = 10, leaf = 10, TPR 0.754, FPR 0.103\n",
      "Test Accuracy= 0.843, estimators = 300, depth = 25, split = 15, leaf = 1, TPR 0.820, FPR 0.145\n",
      "Test Accuracy= 0.843, estimators = 300, depth = 25, split = 15, leaf = 2, TPR 0.803, FPR 0.137\n"
     ]
    },
    {
     "name": "stdout",
     "output_type": "stream",
     "text": [
      "Test Accuracy= 0.843, estimators = 300, depth = 25, split = 15, leaf = 5, TPR 0.787, FPR 0.128\n",
      "Test Accuracy= 0.848, estimators = 300, depth = 25, split = 15, leaf = 10, TPR 0.754, FPR 0.103\n",
      "Test Accuracy= 0.831, estimators = 300, depth = 25, split = 100, leaf = 1, TPR 0.787, FPR 0.145\n",
      "Test Accuracy= 0.831, estimators = 300, depth = 25, split = 100, leaf = 2, TPR 0.787, FPR 0.145\n",
      "Test Accuracy= 0.831, estimators = 300, depth = 25, split = 100, leaf = 5, TPR 0.787, FPR 0.145\n",
      "Test Accuracy= 0.820, estimators = 300, depth = 25, split = 100, leaf = 10, TPR 0.787, FPR 0.162\n",
      "Test Accuracy= 0.860, estimators = 300, depth = 30, split = 2, leaf = 1, TPR 0.852, FPR 0.137\n",
      "Test Accuracy= 0.848, estimators = 300, depth = 30, split = 2, leaf = 2, TPR 0.820, FPR 0.137\n",
      "Test Accuracy= 0.848, estimators = 300, depth = 30, split = 2, leaf = 5, TPR 0.787, FPR 0.120\n",
      "Test Accuracy= 0.848, estimators = 300, depth = 30, split = 2, leaf = 10, TPR 0.754, FPR 0.103\n",
      "Test Accuracy= 0.848, estimators = 300, depth = 30, split = 5, leaf = 1, TPR 0.836, FPR 0.145\n",
      "Test Accuracy= 0.837, estimators = 300, depth = 30, split = 5, leaf = 2, TPR 0.820, FPR 0.154\n",
      "Test Accuracy= 0.848, estimators = 300, depth = 30, split = 5, leaf = 5, TPR 0.787, FPR 0.120\n",
      "Test Accuracy= 0.848, estimators = 300, depth = 30, split = 5, leaf = 10, TPR 0.754, FPR 0.103\n",
      "Test Accuracy= 0.854, estimators = 300, depth = 30, split = 10, leaf = 1, TPR 0.836, FPR 0.137\n",
      "Test Accuracy= 0.848, estimators = 300, depth = 30, split = 10, leaf = 2, TPR 0.820, FPR 0.137\n",
      "Test Accuracy= 0.848, estimators = 300, depth = 30, split = 10, leaf = 5, TPR 0.787, FPR 0.120\n",
      "Test Accuracy= 0.848, estimators = 300, depth = 30, split = 10, leaf = 10, TPR 0.754, FPR 0.103\n",
      "Test Accuracy= 0.843, estimators = 300, depth = 30, split = 15, leaf = 1, TPR 0.820, FPR 0.145\n",
      "Test Accuracy= 0.843, estimators = 300, depth = 30, split = 15, leaf = 2, TPR 0.803, FPR 0.137\n",
      "Test Accuracy= 0.843, estimators = 300, depth = 30, split = 15, leaf = 5, TPR 0.787, FPR 0.128\n",
      "Test Accuracy= 0.848, estimators = 300, depth = 30, split = 15, leaf = 10, TPR 0.754, FPR 0.103\n",
      "Test Accuracy= 0.831, estimators = 300, depth = 30, split = 100, leaf = 1, TPR 0.787, FPR 0.145\n",
      "Test Accuracy= 0.831, estimators = 300, depth = 30, split = 100, leaf = 2, TPR 0.787, FPR 0.145\n",
      "Test Accuracy= 0.831, estimators = 300, depth = 30, split = 100, leaf = 5, TPR 0.787, FPR 0.145\n",
      "Test Accuracy= 0.820, estimators = 300, depth = 30, split = 100, leaf = 10, TPR 0.787, FPR 0.162\n",
      "Test Accuracy= 0.848, estimators = 500, depth = 5, split = 2, leaf = 1, TPR 0.787, FPR 0.120\n",
      "Test Accuracy= 0.843, estimators = 500, depth = 5, split = 2, leaf = 2, TPR 0.770, FPR 0.120\n",
      "Test Accuracy= 0.837, estimators = 500, depth = 5, split = 2, leaf = 5, TPR 0.770, FPR 0.128\n",
      "Test Accuracy= 0.837, estimators = 500, depth = 5, split = 2, leaf = 10, TPR 0.754, FPR 0.120\n",
      "Test Accuracy= 0.848, estimators = 500, depth = 5, split = 5, leaf = 1, TPR 0.787, FPR 0.120\n",
      "Test Accuracy= 0.843, estimators = 500, depth = 5, split = 5, leaf = 2, TPR 0.770, FPR 0.120\n",
      "Test Accuracy= 0.837, estimators = 500, depth = 5, split = 5, leaf = 5, TPR 0.770, FPR 0.128\n",
      "Test Accuracy= 0.837, estimators = 500, depth = 5, split = 5, leaf = 10, TPR 0.754, FPR 0.120\n",
      "Test Accuracy= 0.843, estimators = 500, depth = 5, split = 10, leaf = 1, TPR 0.770, FPR 0.120\n",
      "Test Accuracy= 0.843, estimators = 500, depth = 5, split = 10, leaf = 2, TPR 0.770, FPR 0.120\n",
      "Test Accuracy= 0.837, estimators = 500, depth = 5, split = 10, leaf = 5, TPR 0.770, FPR 0.128\n",
      "Test Accuracy= 0.837, estimators = 500, depth = 5, split = 10, leaf = 10, TPR 0.754, FPR 0.120\n",
      "Test Accuracy= 0.843, estimators = 500, depth = 5, split = 15, leaf = 1, TPR 0.770, FPR 0.120\n",
      "Test Accuracy= 0.843, estimators = 500, depth = 5, split = 15, leaf = 2, TPR 0.770, FPR 0.120\n",
      "Test Accuracy= 0.843, estimators = 500, depth = 5, split = 15, leaf = 5, TPR 0.770, FPR 0.120\n",
      "Test Accuracy= 0.837, estimators = 500, depth = 5, split = 15, leaf = 10, TPR 0.754, FPR 0.120\n",
      "Test Accuracy= 0.826, estimators = 500, depth = 5, split = 100, leaf = 1, TPR 0.787, FPR 0.154\n",
      "Test Accuracy= 0.831, estimators = 500, depth = 5, split = 100, leaf = 2, TPR 0.787, FPR 0.145\n",
      "Test Accuracy= 0.831, estimators = 500, depth = 5, split = 100, leaf = 5, TPR 0.787, FPR 0.145\n",
      "Test Accuracy= 0.815, estimators = 500, depth = 5, split = 100, leaf = 10, TPR 0.787, FPR 0.171\n",
      "Test Accuracy= 0.848, estimators = 500, depth = 8, split = 2, leaf = 1, TPR 0.820, FPR 0.137\n",
      "Test Accuracy= 0.860, estimators = 500, depth = 8, split = 2, leaf = 2, TPR 0.836, FPR 0.128\n",
      "Test Accuracy= 0.843, estimators = 500, depth = 8, split = 2, leaf = 5, TPR 0.803, FPR 0.137\n",
      "Test Accuracy= 0.837, estimators = 500, depth = 8, split = 2, leaf = 10, TPR 0.738, FPR 0.111\n",
      "Test Accuracy= 0.854, estimators = 500, depth = 8, split = 5, leaf = 1, TPR 0.820, FPR 0.128\n",
      "Test Accuracy= 0.854, estimators = 500, depth = 8, split = 5, leaf = 2, TPR 0.836, FPR 0.137\n",
      "Test Accuracy= 0.843, estimators = 500, depth = 8, split = 5, leaf = 5, TPR 0.803, FPR 0.137\n",
      "Test Accuracy= 0.837, estimators = 500, depth = 8, split = 5, leaf = 10, TPR 0.738, FPR 0.111\n",
      "Test Accuracy= 0.837, estimators = 500, depth = 8, split = 10, leaf = 1, TPR 0.787, FPR 0.137\n",
      "Test Accuracy= 0.843, estimators = 500, depth = 8, split = 10, leaf = 2, TPR 0.787, FPR 0.128\n",
      "Test Accuracy= 0.843, estimators = 500, depth = 8, split = 10, leaf = 5, TPR 0.803, FPR 0.137\n",
      "Test Accuracy= 0.837, estimators = 500, depth = 8, split = 10, leaf = 10, TPR 0.738, FPR 0.111\n",
      "Test Accuracy= 0.837, estimators = 500, depth = 8, split = 15, leaf = 1, TPR 0.770, FPR 0.128\n",
      "Test Accuracy= 0.837, estimators = 500, depth = 8, split = 15, leaf = 2, TPR 0.770, FPR 0.128\n",
      "Test Accuracy= 0.820, estimators = 500, depth = 8, split = 15, leaf = 5, TPR 0.770, FPR 0.154\n",
      "Test Accuracy= 0.837, estimators = 500, depth = 8, split = 15, leaf = 10, TPR 0.738, FPR 0.111\n",
      "Test Accuracy= 0.831, estimators = 500, depth = 8, split = 100, leaf = 1, TPR 0.787, FPR 0.145\n",
      "Test Accuracy= 0.831, estimators = 500, depth = 8, split = 100, leaf = 2, TPR 0.787, FPR 0.145\n",
      "Test Accuracy= 0.831, estimators = 500, depth = 8, split = 100, leaf = 5, TPR 0.787, FPR 0.145\n",
      "Test Accuracy= 0.820, estimators = 500, depth = 8, split = 100, leaf = 10, TPR 0.787, FPR 0.162\n",
      "Test Accuracy= 0.860, estimators = 500, depth = 15, split = 2, leaf = 1, TPR 0.852, FPR 0.137\n",
      "Test Accuracy= 0.843, estimators = 500, depth = 15, split = 2, leaf = 2, TPR 0.820, FPR 0.145\n",
      "Test Accuracy= 0.837, estimators = 500, depth = 15, split = 2, leaf = 5, TPR 0.787, FPR 0.137\n",
      "Test Accuracy= 0.837, estimators = 500, depth = 15, split = 2, leaf = 10, TPR 0.754, FPR 0.120\n",
      "Test Accuracy= 0.843, estimators = 500, depth = 15, split = 5, leaf = 1, TPR 0.820, FPR 0.145\n",
      "Test Accuracy= 0.843, estimators = 500, depth = 15, split = 5, leaf = 2, TPR 0.836, FPR 0.154\n",
      "Test Accuracy= 0.837, estimators = 500, depth = 15, split = 5, leaf = 5, TPR 0.787, FPR 0.137\n",
      "Test Accuracy= 0.837, estimators = 500, depth = 15, split = 5, leaf = 10, TPR 0.754, FPR 0.120\n",
      "Test Accuracy= 0.854, estimators = 500, depth = 15, split = 10, leaf = 1, TPR 0.836, FPR 0.137\n",
      "Test Accuracy= 0.837, estimators = 500, depth = 15, split = 10, leaf = 2, TPR 0.803, FPR 0.145\n",
      "Test Accuracy= 0.837, estimators = 500, depth = 15, split = 10, leaf = 5, TPR 0.787, FPR 0.137\n",
      "Test Accuracy= 0.837, estimators = 500, depth = 15, split = 10, leaf = 10, TPR 0.754, FPR 0.120\n",
      "Test Accuracy= 0.837, estimators = 500, depth = 15, split = 15, leaf = 1, TPR 0.803, FPR 0.145\n",
      "Test Accuracy= 0.837, estimators = 500, depth = 15, split = 15, leaf = 2, TPR 0.803, FPR 0.145\n",
      "Test Accuracy= 0.843, estimators = 500, depth = 15, split = 15, leaf = 5, TPR 0.787, FPR 0.128\n",
      "Test Accuracy= 0.837, estimators = 500, depth = 15, split = 15, leaf = 10, TPR 0.754, FPR 0.120\n",
      "Test Accuracy= 0.826, estimators = 500, depth = 15, split = 100, leaf = 1, TPR 0.787, FPR 0.154\n",
      "Test Accuracy= 0.831, estimators = 500, depth = 15, split = 100, leaf = 2, TPR 0.787, FPR 0.145\n",
      "Test Accuracy= 0.831, estimators = 500, depth = 15, split = 100, leaf = 5, TPR 0.787, FPR 0.145\n",
      "Test Accuracy= 0.820, estimators = 500, depth = 15, split = 100, leaf = 10, TPR 0.787, FPR 0.162\n",
      "Test Accuracy= 0.860, estimators = 500, depth = 25, split = 2, leaf = 1, TPR 0.852, FPR 0.137\n"
     ]
    },
    {
     "name": "stdout",
     "output_type": "stream",
     "text": [
      "Test Accuracy= 0.848, estimators = 500, depth = 25, split = 2, leaf = 2, TPR 0.820, FPR 0.137\n",
      "Test Accuracy= 0.837, estimators = 500, depth = 25, split = 2, leaf = 5, TPR 0.787, FPR 0.137\n",
      "Test Accuracy= 0.837, estimators = 500, depth = 25, split = 2, leaf = 10, TPR 0.754, FPR 0.120\n",
      "Test Accuracy= 0.848, estimators = 500, depth = 25, split = 5, leaf = 1, TPR 0.836, FPR 0.145\n",
      "Test Accuracy= 0.843, estimators = 500, depth = 25, split = 5, leaf = 2, TPR 0.820, FPR 0.145\n",
      "Test Accuracy= 0.837, estimators = 500, depth = 25, split = 5, leaf = 5, TPR 0.787, FPR 0.137\n",
      "Test Accuracy= 0.837, estimators = 500, depth = 25, split = 5, leaf = 10, TPR 0.754, FPR 0.120\n",
      "Test Accuracy= 0.854, estimators = 500, depth = 25, split = 10, leaf = 1, TPR 0.836, FPR 0.137\n",
      "Test Accuracy= 0.848, estimators = 500, depth = 25, split = 10, leaf = 2, TPR 0.820, FPR 0.137\n",
      "Test Accuracy= 0.837, estimators = 500, depth = 25, split = 10, leaf = 5, TPR 0.787, FPR 0.137\n",
      "Test Accuracy= 0.837, estimators = 500, depth = 25, split = 10, leaf = 10, TPR 0.754, FPR 0.120\n",
      "Test Accuracy= 0.837, estimators = 500, depth = 25, split = 15, leaf = 1, TPR 0.803, FPR 0.145\n",
      "Test Accuracy= 0.837, estimators = 500, depth = 25, split = 15, leaf = 2, TPR 0.803, FPR 0.145\n",
      "Test Accuracy= 0.837, estimators = 500, depth = 25, split = 15, leaf = 5, TPR 0.787, FPR 0.137\n",
      "Test Accuracy= 0.837, estimators = 500, depth = 25, split = 15, leaf = 10, TPR 0.754, FPR 0.120\n",
      "Test Accuracy= 0.826, estimators = 500, depth = 25, split = 100, leaf = 1, TPR 0.787, FPR 0.154\n",
      "Test Accuracy= 0.831, estimators = 500, depth = 25, split = 100, leaf = 2, TPR 0.787, FPR 0.145\n",
      "Test Accuracy= 0.831, estimators = 500, depth = 25, split = 100, leaf = 5, TPR 0.787, FPR 0.145\n",
      "Test Accuracy= 0.820, estimators = 500, depth = 25, split = 100, leaf = 10, TPR 0.787, FPR 0.162\n",
      "Test Accuracy= 0.860, estimators = 500, depth = 30, split = 2, leaf = 1, TPR 0.852, FPR 0.137\n",
      "Test Accuracy= 0.848, estimators = 500, depth = 30, split = 2, leaf = 2, TPR 0.820, FPR 0.137\n",
      "Test Accuracy= 0.837, estimators = 500, depth = 30, split = 2, leaf = 5, TPR 0.787, FPR 0.137\n",
      "Test Accuracy= 0.837, estimators = 500, depth = 30, split = 2, leaf = 10, TPR 0.754, FPR 0.120\n",
      "Test Accuracy= 0.848, estimators = 500, depth = 30, split = 5, leaf = 1, TPR 0.836, FPR 0.145\n",
      "Test Accuracy= 0.843, estimators = 500, depth = 30, split = 5, leaf = 2, TPR 0.820, FPR 0.145\n",
      "Test Accuracy= 0.837, estimators = 500, depth = 30, split = 5, leaf = 5, TPR 0.787, FPR 0.137\n",
      "Test Accuracy= 0.837, estimators = 500, depth = 30, split = 5, leaf = 10, TPR 0.754, FPR 0.120\n",
      "Test Accuracy= 0.854, estimators = 500, depth = 30, split = 10, leaf = 1, TPR 0.836, FPR 0.137\n",
      "Test Accuracy= 0.848, estimators = 500, depth = 30, split = 10, leaf = 2, TPR 0.820, FPR 0.137\n",
      "Test Accuracy= 0.837, estimators = 500, depth = 30, split = 10, leaf = 5, TPR 0.787, FPR 0.137\n",
      "Test Accuracy= 0.837, estimators = 500, depth = 30, split = 10, leaf = 10, TPR 0.754, FPR 0.120\n",
      "Test Accuracy= 0.837, estimators = 500, depth = 30, split = 15, leaf = 1, TPR 0.803, FPR 0.145\n",
      "Test Accuracy= 0.837, estimators = 500, depth = 30, split = 15, leaf = 2, TPR 0.803, FPR 0.145\n",
      "Test Accuracy= 0.837, estimators = 500, depth = 30, split = 15, leaf = 5, TPR 0.787, FPR 0.137\n",
      "Test Accuracy= 0.837, estimators = 500, depth = 30, split = 15, leaf = 10, TPR 0.754, FPR 0.120\n",
      "Test Accuracy= 0.826, estimators = 500, depth = 30, split = 100, leaf = 1, TPR 0.787, FPR 0.154\n",
      "Test Accuracy= 0.831, estimators = 500, depth = 30, split = 100, leaf = 2, TPR 0.787, FPR 0.145\n",
      "Test Accuracy= 0.831, estimators = 500, depth = 30, split = 100, leaf = 5, TPR 0.787, FPR 0.145\n",
      "Test Accuracy= 0.820, estimators = 500, depth = 30, split = 100, leaf = 10, TPR 0.787, FPR 0.162\n",
      "Test Accuracy= 0.848, estimators = 800, depth = 5, split = 2, leaf = 1, TPR 0.787, FPR 0.120\n",
      "Test Accuracy= 0.843, estimators = 800, depth = 5, split = 2, leaf = 2, TPR 0.770, FPR 0.120\n",
      "Test Accuracy= 0.837, estimators = 800, depth = 5, split = 2, leaf = 5, TPR 0.770, FPR 0.128\n",
      "Test Accuracy= 0.831, estimators = 800, depth = 5, split = 2, leaf = 10, TPR 0.754, FPR 0.128\n",
      "Test Accuracy= 0.848, estimators = 800, depth = 5, split = 5, leaf = 1, TPR 0.787, FPR 0.120\n",
      "Test Accuracy= 0.843, estimators = 800, depth = 5, split = 5, leaf = 2, TPR 0.770, FPR 0.120\n",
      "Test Accuracy= 0.837, estimators = 800, depth = 5, split = 5, leaf = 5, TPR 0.770, FPR 0.128\n",
      "Test Accuracy= 0.831, estimators = 800, depth = 5, split = 5, leaf = 10, TPR 0.754, FPR 0.128\n",
      "Test Accuracy= 0.843, estimators = 800, depth = 5, split = 10, leaf = 1, TPR 0.770, FPR 0.120\n",
      "Test Accuracy= 0.843, estimators = 800, depth = 5, split = 10, leaf = 2, TPR 0.770, FPR 0.120\n",
      "Test Accuracy= 0.837, estimators = 800, depth = 5, split = 10, leaf = 5, TPR 0.770, FPR 0.128\n",
      "Test Accuracy= 0.831, estimators = 800, depth = 5, split = 10, leaf = 10, TPR 0.754, FPR 0.128\n",
      "Test Accuracy= 0.843, estimators = 800, depth = 5, split = 15, leaf = 1, TPR 0.770, FPR 0.120\n",
      "Test Accuracy= 0.843, estimators = 800, depth = 5, split = 15, leaf = 2, TPR 0.770, FPR 0.120\n",
      "Test Accuracy= 0.843, estimators = 800, depth = 5, split = 15, leaf = 5, TPR 0.770, FPR 0.120\n",
      "Test Accuracy= 0.831, estimators = 800, depth = 5, split = 15, leaf = 10, TPR 0.754, FPR 0.128\n",
      "Test Accuracy= 0.831, estimators = 800, depth = 5, split = 100, leaf = 1, TPR 0.787, FPR 0.145\n",
      "Test Accuracy= 0.831, estimators = 800, depth = 5, split = 100, leaf = 2, TPR 0.787, FPR 0.145\n",
      "Test Accuracy= 0.831, estimators = 800, depth = 5, split = 100, leaf = 5, TPR 0.787, FPR 0.145\n",
      "Test Accuracy= 0.820, estimators = 800, depth = 5, split = 100, leaf = 10, TPR 0.787, FPR 0.162\n",
      "Test Accuracy= 0.848, estimators = 800, depth = 8, split = 2, leaf = 1, TPR 0.820, FPR 0.137\n",
      "Test Accuracy= 0.854, estimators = 800, depth = 8, split = 2, leaf = 2, TPR 0.836, FPR 0.137\n",
      "Test Accuracy= 0.831, estimators = 800, depth = 8, split = 2, leaf = 5, TPR 0.787, FPR 0.145\n",
      "Test Accuracy= 0.848, estimators = 800, depth = 8, split = 2, leaf = 10, TPR 0.754, FPR 0.103\n",
      "Test Accuracy= 0.865, estimators = 800, depth = 8, split = 5, leaf = 1, TPR 0.836, FPR 0.120\n",
      "Test Accuracy= 0.854, estimators = 800, depth = 8, split = 5, leaf = 2, TPR 0.820, FPR 0.128\n",
      "Test Accuracy= 0.831, estimators = 800, depth = 8, split = 5, leaf = 5, TPR 0.787, FPR 0.145\n",
      "Test Accuracy= 0.848, estimators = 800, depth = 8, split = 5, leaf = 10, TPR 0.754, FPR 0.103\n",
      "Test Accuracy= 0.843, estimators = 800, depth = 8, split = 10, leaf = 1, TPR 0.787, FPR 0.128\n",
      "Test Accuracy= 0.843, estimators = 800, depth = 8, split = 10, leaf = 2, TPR 0.787, FPR 0.128\n",
      "Test Accuracy= 0.831, estimators = 800, depth = 8, split = 10, leaf = 5, TPR 0.787, FPR 0.145\n",
      "Test Accuracy= 0.848, estimators = 800, depth = 8, split = 10, leaf = 10, TPR 0.754, FPR 0.103\n",
      "Test Accuracy= 0.837, estimators = 800, depth = 8, split = 15, leaf = 1, TPR 0.770, FPR 0.128\n",
      "Test Accuracy= 0.837, estimators = 800, depth = 8, split = 15, leaf = 2, TPR 0.770, FPR 0.128\n",
      "Test Accuracy= 0.831, estimators = 800, depth = 8, split = 15, leaf = 5, TPR 0.770, FPR 0.137\n",
      "Test Accuracy= 0.848, estimators = 800, depth = 8, split = 15, leaf = 10, TPR 0.754, FPR 0.103\n",
      "Test Accuracy= 0.831, estimators = 800, depth = 8, split = 100, leaf = 1, TPR 0.787, FPR 0.145\n",
      "Test Accuracy= 0.831, estimators = 800, depth = 8, split = 100, leaf = 2, TPR 0.787, FPR 0.145\n",
      "Test Accuracy= 0.831, estimators = 800, depth = 8, split = 100, leaf = 5, TPR 0.787, FPR 0.145\n",
      "Test Accuracy= 0.826, estimators = 800, depth = 8, split = 100, leaf = 10, TPR 0.787, FPR 0.154\n",
      "Test Accuracy= 0.860, estimators = 800, depth = 15, split = 2, leaf = 1, TPR 0.852, FPR 0.137\n",
      "Test Accuracy= 0.843, estimators = 800, depth = 15, split = 2, leaf = 2, TPR 0.820, FPR 0.145\n",
      "Test Accuracy= 0.837, estimators = 800, depth = 15, split = 2, leaf = 5, TPR 0.787, FPR 0.137\n",
      "Test Accuracy= 0.837, estimators = 800, depth = 15, split = 2, leaf = 10, TPR 0.754, FPR 0.120\n",
      "Test Accuracy= 0.843, estimators = 800, depth = 15, split = 5, leaf = 1, TPR 0.820, FPR 0.145\n",
      "Test Accuracy= 0.843, estimators = 800, depth = 15, split = 5, leaf = 2, TPR 0.836, FPR 0.154\n",
      "Test Accuracy= 0.837, estimators = 800, depth = 15, split = 5, leaf = 5, TPR 0.787, FPR 0.137\n",
      "Test Accuracy= 0.837, estimators = 800, depth = 15, split = 5, leaf = 10, TPR 0.754, FPR 0.120\n"
     ]
    },
    {
     "name": "stdout",
     "output_type": "stream",
     "text": [
      "Test Accuracy= 0.854, estimators = 800, depth = 15, split = 10, leaf = 1, TPR 0.836, FPR 0.137\n",
      "Test Accuracy= 0.848, estimators = 800, depth = 15, split = 10, leaf = 2, TPR 0.820, FPR 0.137\n",
      "Test Accuracy= 0.837, estimators = 800, depth = 15, split = 10, leaf = 5, TPR 0.787, FPR 0.137\n",
      "Test Accuracy= 0.837, estimators = 800, depth = 15, split = 10, leaf = 10, TPR 0.754, FPR 0.120\n",
      "Test Accuracy= 0.837, estimators = 800, depth = 15, split = 15, leaf = 1, TPR 0.803, FPR 0.145\n",
      "Test Accuracy= 0.837, estimators = 800, depth = 15, split = 15, leaf = 2, TPR 0.803, FPR 0.145\n",
      "Test Accuracy= 0.837, estimators = 800, depth = 15, split = 15, leaf = 5, TPR 0.787, FPR 0.137\n",
      "Test Accuracy= 0.837, estimators = 800, depth = 15, split = 15, leaf = 10, TPR 0.754, FPR 0.120\n",
      "Test Accuracy= 0.831, estimators = 800, depth = 15, split = 100, leaf = 1, TPR 0.787, FPR 0.145\n",
      "Test Accuracy= 0.831, estimators = 800, depth = 15, split = 100, leaf = 2, TPR 0.787, FPR 0.145\n",
      "Test Accuracy= 0.831, estimators = 800, depth = 15, split = 100, leaf = 5, TPR 0.787, FPR 0.145\n",
      "Test Accuracy= 0.826, estimators = 800, depth = 15, split = 100, leaf = 10, TPR 0.787, FPR 0.154\n",
      "Test Accuracy= 0.860, estimators = 800, depth = 25, split = 2, leaf = 1, TPR 0.852, FPR 0.137\n",
      "Test Accuracy= 0.843, estimators = 800, depth = 25, split = 2, leaf = 2, TPR 0.820, FPR 0.145\n",
      "Test Accuracy= 0.837, estimators = 800, depth = 25, split = 2, leaf = 5, TPR 0.787, FPR 0.137\n",
      "Test Accuracy= 0.837, estimators = 800, depth = 25, split = 2, leaf = 10, TPR 0.754, FPR 0.120\n",
      "Test Accuracy= 0.843, estimators = 800, depth = 25, split = 5, leaf = 1, TPR 0.820, FPR 0.145\n",
      "Test Accuracy= 0.843, estimators = 800, depth = 25, split = 5, leaf = 2, TPR 0.820, FPR 0.145\n",
      "Test Accuracy= 0.837, estimators = 800, depth = 25, split = 5, leaf = 5, TPR 0.787, FPR 0.137\n",
      "Test Accuracy= 0.837, estimators = 800, depth = 25, split = 5, leaf = 10, TPR 0.754, FPR 0.120\n",
      "Test Accuracy= 0.854, estimators = 800, depth = 25, split = 10, leaf = 1, TPR 0.836, FPR 0.137\n",
      "Test Accuracy= 0.843, estimators = 800, depth = 25, split = 10, leaf = 2, TPR 0.803, FPR 0.137\n",
      "Test Accuracy= 0.837, estimators = 800, depth = 25, split = 10, leaf = 5, TPR 0.787, FPR 0.137\n",
      "Test Accuracy= 0.837, estimators = 800, depth = 25, split = 10, leaf = 10, TPR 0.754, FPR 0.120\n",
      "Test Accuracy= 0.837, estimators = 800, depth = 25, split = 15, leaf = 1, TPR 0.803, FPR 0.145\n",
      "Test Accuracy= 0.837, estimators = 800, depth = 25, split = 15, leaf = 2, TPR 0.803, FPR 0.145\n",
      "Test Accuracy= 0.837, estimators = 800, depth = 25, split = 15, leaf = 5, TPR 0.787, FPR 0.137\n",
      "Test Accuracy= 0.837, estimators = 800, depth = 25, split = 15, leaf = 10, TPR 0.754, FPR 0.120\n",
      "Test Accuracy= 0.831, estimators = 800, depth = 25, split = 100, leaf = 1, TPR 0.787, FPR 0.145\n",
      "Test Accuracy= 0.831, estimators = 800, depth = 25, split = 100, leaf = 2, TPR 0.787, FPR 0.145\n",
      "Test Accuracy= 0.831, estimators = 800, depth = 25, split = 100, leaf = 5, TPR 0.787, FPR 0.145\n",
      "Test Accuracy= 0.826, estimators = 800, depth = 25, split = 100, leaf = 10, TPR 0.787, FPR 0.154\n",
      "Test Accuracy= 0.860, estimators = 800, depth = 30, split = 2, leaf = 1, TPR 0.852, FPR 0.137\n",
      "Test Accuracy= 0.843, estimators = 800, depth = 30, split = 2, leaf = 2, TPR 0.820, FPR 0.145\n",
      "Test Accuracy= 0.837, estimators = 800, depth = 30, split = 2, leaf = 5, TPR 0.787, FPR 0.137\n",
      "Test Accuracy= 0.837, estimators = 800, depth = 30, split = 2, leaf = 10, TPR 0.754, FPR 0.120\n",
      "Test Accuracy= 0.843, estimators = 800, depth = 30, split = 5, leaf = 1, TPR 0.820, FPR 0.145\n",
      "Test Accuracy= 0.843, estimators = 800, depth = 30, split = 5, leaf = 2, TPR 0.820, FPR 0.145\n",
      "Test Accuracy= 0.837, estimators = 800, depth = 30, split = 5, leaf = 5, TPR 0.787, FPR 0.137\n",
      "Test Accuracy= 0.837, estimators = 800, depth = 30, split = 5, leaf = 10, TPR 0.754, FPR 0.120\n",
      "Test Accuracy= 0.854, estimators = 800, depth = 30, split = 10, leaf = 1, TPR 0.836, FPR 0.137\n",
      "Test Accuracy= 0.843, estimators = 800, depth = 30, split = 10, leaf = 2, TPR 0.803, FPR 0.137\n",
      "Test Accuracy= 0.837, estimators = 800, depth = 30, split = 10, leaf = 5, TPR 0.787, FPR 0.137\n",
      "Test Accuracy= 0.837, estimators = 800, depth = 30, split = 10, leaf = 10, TPR 0.754, FPR 0.120\n",
      "Test Accuracy= 0.837, estimators = 800, depth = 30, split = 15, leaf = 1, TPR 0.803, FPR 0.145\n",
      "Test Accuracy= 0.837, estimators = 800, depth = 30, split = 15, leaf = 2, TPR 0.803, FPR 0.145\n",
      "Test Accuracy= 0.837, estimators = 800, depth = 30, split = 15, leaf = 5, TPR 0.787, FPR 0.137\n",
      "Test Accuracy= 0.837, estimators = 800, depth = 30, split = 15, leaf = 10, TPR 0.754, FPR 0.120\n",
      "Test Accuracy= 0.831, estimators = 800, depth = 30, split = 100, leaf = 1, TPR 0.787, FPR 0.145\n",
      "Test Accuracy= 0.831, estimators = 800, depth = 30, split = 100, leaf = 2, TPR 0.787, FPR 0.145\n",
      "Test Accuracy= 0.831, estimators = 800, depth = 30, split = 100, leaf = 5, TPR 0.787, FPR 0.145\n",
      "Test Accuracy= 0.826, estimators = 800, depth = 30, split = 100, leaf = 10, TPR 0.787, FPR 0.154\n",
      "Test Accuracy= 0.848, estimators = 1200, depth = 5, split = 2, leaf = 1, TPR 0.787, FPR 0.120\n",
      "Test Accuracy= 0.843, estimators = 1200, depth = 5, split = 2, leaf = 2, TPR 0.770, FPR 0.120\n",
      "Test Accuracy= 0.837, estimators = 1200, depth = 5, split = 2, leaf = 5, TPR 0.770, FPR 0.128\n",
      "Test Accuracy= 0.831, estimators = 1200, depth = 5, split = 2, leaf = 10, TPR 0.754, FPR 0.128\n",
      "Test Accuracy= 0.848, estimators = 1200, depth = 5, split = 5, leaf = 1, TPR 0.787, FPR 0.120\n",
      "Test Accuracy= 0.843, estimators = 1200, depth = 5, split = 5, leaf = 2, TPR 0.770, FPR 0.120\n",
      "Test Accuracy= 0.837, estimators = 1200, depth = 5, split = 5, leaf = 5, TPR 0.770, FPR 0.128\n",
      "Test Accuracy= 0.831, estimators = 1200, depth = 5, split = 5, leaf = 10, TPR 0.754, FPR 0.128\n",
      "Test Accuracy= 0.843, estimators = 1200, depth = 5, split = 10, leaf = 1, TPR 0.770, FPR 0.120\n",
      "Test Accuracy= 0.843, estimators = 1200, depth = 5, split = 10, leaf = 2, TPR 0.770, FPR 0.120\n",
      "Test Accuracy= 0.837, estimators = 1200, depth = 5, split = 10, leaf = 5, TPR 0.770, FPR 0.128\n",
      "Test Accuracy= 0.831, estimators = 1200, depth = 5, split = 10, leaf = 10, TPR 0.754, FPR 0.128\n",
      "Test Accuracy= 0.843, estimators = 1200, depth = 5, split = 15, leaf = 1, TPR 0.770, FPR 0.120\n",
      "Test Accuracy= 0.843, estimators = 1200, depth = 5, split = 15, leaf = 2, TPR 0.770, FPR 0.120\n",
      "Test Accuracy= 0.843, estimators = 1200, depth = 5, split = 15, leaf = 5, TPR 0.770, FPR 0.120\n",
      "Test Accuracy= 0.831, estimators = 1200, depth = 5, split = 15, leaf = 10, TPR 0.754, FPR 0.128\n",
      "Test Accuracy= 0.831, estimators = 1200, depth = 5, split = 100, leaf = 1, TPR 0.787, FPR 0.145\n",
      "Test Accuracy= 0.831, estimators = 1200, depth = 5, split = 100, leaf = 2, TPR 0.787, FPR 0.145\n",
      "Test Accuracy= 0.831, estimators = 1200, depth = 5, split = 100, leaf = 5, TPR 0.787, FPR 0.145\n",
      "Test Accuracy= 0.820, estimators = 1200, depth = 5, split = 100, leaf = 10, TPR 0.787, FPR 0.162\n",
      "Test Accuracy= 0.848, estimators = 1200, depth = 8, split = 2, leaf = 1, TPR 0.820, FPR 0.137\n",
      "Test Accuracy= 0.848, estimators = 1200, depth = 8, split = 2, leaf = 2, TPR 0.836, FPR 0.145\n",
      "Test Accuracy= 0.831, estimators = 1200, depth = 8, split = 2, leaf = 5, TPR 0.787, FPR 0.145\n",
      "Test Accuracy= 0.848, estimators = 1200, depth = 8, split = 2, leaf = 10, TPR 0.754, FPR 0.103\n",
      "Test Accuracy= 0.865, estimators = 1200, depth = 8, split = 5, leaf = 1, TPR 0.836, FPR 0.120\n",
      "Test Accuracy= 0.848, estimators = 1200, depth = 8, split = 5, leaf = 2, TPR 0.820, FPR 0.137\n",
      "Test Accuracy= 0.831, estimators = 1200, depth = 8, split = 5, leaf = 5, TPR 0.787, FPR 0.145\n",
      "Test Accuracy= 0.848, estimators = 1200, depth = 8, split = 5, leaf = 10, TPR 0.754, FPR 0.103\n",
      "Test Accuracy= 0.843, estimators = 1200, depth = 8, split = 10, leaf = 1, TPR 0.787, FPR 0.128\n",
      "Test Accuracy= 0.848, estimators = 1200, depth = 8, split = 10, leaf = 2, TPR 0.803, FPR 0.128\n",
      "Test Accuracy= 0.831, estimators = 1200, depth = 8, split = 10, leaf = 5, TPR 0.787, FPR 0.145\n",
      "Test Accuracy= 0.848, estimators = 1200, depth = 8, split = 10, leaf = 10, TPR 0.754, FPR 0.103\n",
      "Test Accuracy= 0.837, estimators = 1200, depth = 8, split = 15, leaf = 1, TPR 0.770, FPR 0.128\n",
      "Test Accuracy= 0.837, estimators = 1200, depth = 8, split = 15, leaf = 2, TPR 0.770, FPR 0.128\n",
      "Test Accuracy= 0.831, estimators = 1200, depth = 8, split = 15, leaf = 5, TPR 0.770, FPR 0.137\n"
     ]
    },
    {
     "name": "stdout",
     "output_type": "stream",
     "text": [
      "Test Accuracy= 0.848, estimators = 1200, depth = 8, split = 15, leaf = 10, TPR 0.754, FPR 0.103\n",
      "Test Accuracy= 0.831, estimators = 1200, depth = 8, split = 100, leaf = 1, TPR 0.787, FPR 0.145\n",
      "Test Accuracy= 0.831, estimators = 1200, depth = 8, split = 100, leaf = 2, TPR 0.787, FPR 0.145\n",
      "Test Accuracy= 0.831, estimators = 1200, depth = 8, split = 100, leaf = 5, TPR 0.787, FPR 0.145\n",
      "Test Accuracy= 0.826, estimators = 1200, depth = 8, split = 100, leaf = 10, TPR 0.787, FPR 0.154\n",
      "Test Accuracy= 0.860, estimators = 1200, depth = 15, split = 2, leaf = 1, TPR 0.852, FPR 0.137\n",
      "Test Accuracy= 0.848, estimators = 1200, depth = 15, split = 2, leaf = 2, TPR 0.820, FPR 0.137\n",
      "Test Accuracy= 0.837, estimators = 1200, depth = 15, split = 2, leaf = 5, TPR 0.787, FPR 0.137\n",
      "Test Accuracy= 0.837, estimators = 1200, depth = 15, split = 2, leaf = 10, TPR 0.754, FPR 0.120\n",
      "Test Accuracy= 0.843, estimators = 1200, depth = 15, split = 5, leaf = 1, TPR 0.820, FPR 0.145\n",
      "Test Accuracy= 0.848, estimators = 1200, depth = 15, split = 5, leaf = 2, TPR 0.820, FPR 0.137\n",
      "Test Accuracy= 0.837, estimators = 1200, depth = 15, split = 5, leaf = 5, TPR 0.787, FPR 0.137\n",
      "Test Accuracy= 0.837, estimators = 1200, depth = 15, split = 5, leaf = 10, TPR 0.754, FPR 0.120\n",
      "Test Accuracy= 0.848, estimators = 1200, depth = 15, split = 10, leaf = 1, TPR 0.836, FPR 0.145\n",
      "Test Accuracy= 0.843, estimators = 1200, depth = 15, split = 10, leaf = 2, TPR 0.820, FPR 0.145\n",
      "Test Accuracy= 0.837, estimators = 1200, depth = 15, split = 10, leaf = 5, TPR 0.787, FPR 0.137\n",
      "Test Accuracy= 0.837, estimators = 1200, depth = 15, split = 10, leaf = 10, TPR 0.754, FPR 0.120\n",
      "Test Accuracy= 0.837, estimators = 1200, depth = 15, split = 15, leaf = 1, TPR 0.803, FPR 0.145\n",
      "Test Accuracy= 0.837, estimators = 1200, depth = 15, split = 15, leaf = 2, TPR 0.803, FPR 0.145\n",
      "Test Accuracy= 0.837, estimators = 1200, depth = 15, split = 15, leaf = 5, TPR 0.787, FPR 0.137\n",
      "Test Accuracy= 0.837, estimators = 1200, depth = 15, split = 15, leaf = 10, TPR 0.754, FPR 0.120\n",
      "Test Accuracy= 0.831, estimators = 1200, depth = 15, split = 100, leaf = 1, TPR 0.787, FPR 0.145\n",
      "Test Accuracy= 0.831, estimators = 1200, depth = 15, split = 100, leaf = 2, TPR 0.787, FPR 0.145\n",
      "Test Accuracy= 0.831, estimators = 1200, depth = 15, split = 100, leaf = 5, TPR 0.787, FPR 0.145\n",
      "Test Accuracy= 0.826, estimators = 1200, depth = 15, split = 100, leaf = 10, TPR 0.787, FPR 0.154\n",
      "Test Accuracy= 0.854, estimators = 1200, depth = 25, split = 2, leaf = 1, TPR 0.852, FPR 0.145\n",
      "Test Accuracy= 0.848, estimators = 1200, depth = 25, split = 2, leaf = 2, TPR 0.820, FPR 0.137\n",
      "Test Accuracy= 0.837, estimators = 1200, depth = 25, split = 2, leaf = 5, TPR 0.787, FPR 0.137\n",
      "Test Accuracy= 0.837, estimators = 1200, depth = 25, split = 2, leaf = 10, TPR 0.754, FPR 0.120\n",
      "Test Accuracy= 0.843, estimators = 1200, depth = 25, split = 5, leaf = 1, TPR 0.820, FPR 0.145\n",
      "Test Accuracy= 0.848, estimators = 1200, depth = 25, split = 5, leaf = 2, TPR 0.820, FPR 0.137\n",
      "Test Accuracy= 0.837, estimators = 1200, depth = 25, split = 5, leaf = 5, TPR 0.787, FPR 0.137\n",
      "Test Accuracy= 0.837, estimators = 1200, depth = 25, split = 5, leaf = 10, TPR 0.754, FPR 0.120\n",
      "Test Accuracy= 0.854, estimators = 1200, depth = 25, split = 10, leaf = 1, TPR 0.836, FPR 0.137\n",
      "Test Accuracy= 0.837, estimators = 1200, depth = 25, split = 10, leaf = 2, TPR 0.803, FPR 0.145\n",
      "Test Accuracy= 0.837, estimators = 1200, depth = 25, split = 10, leaf = 5, TPR 0.787, FPR 0.137\n",
      "Test Accuracy= 0.837, estimators = 1200, depth = 25, split = 10, leaf = 10, TPR 0.754, FPR 0.120\n",
      "Test Accuracy= 0.837, estimators = 1200, depth = 25, split = 15, leaf = 1, TPR 0.803, FPR 0.145\n",
      "Test Accuracy= 0.837, estimators = 1200, depth = 25, split = 15, leaf = 2, TPR 0.803, FPR 0.145\n",
      "Test Accuracy= 0.837, estimators = 1200, depth = 25, split = 15, leaf = 5, TPR 0.787, FPR 0.137\n",
      "Test Accuracy= 0.837, estimators = 1200, depth = 25, split = 15, leaf = 10, TPR 0.754, FPR 0.120\n",
      "Test Accuracy= 0.831, estimators = 1200, depth = 25, split = 100, leaf = 1, TPR 0.787, FPR 0.145\n",
      "Test Accuracy= 0.831, estimators = 1200, depth = 25, split = 100, leaf = 2, TPR 0.787, FPR 0.145\n",
      "Test Accuracy= 0.831, estimators = 1200, depth = 25, split = 100, leaf = 5, TPR 0.787, FPR 0.145\n",
      "Test Accuracy= 0.826, estimators = 1200, depth = 25, split = 100, leaf = 10, TPR 0.787, FPR 0.154\n",
      "Test Accuracy= 0.854, estimators = 1200, depth = 30, split = 2, leaf = 1, TPR 0.852, FPR 0.145\n",
      "Test Accuracy= 0.848, estimators = 1200, depth = 30, split = 2, leaf = 2, TPR 0.820, FPR 0.137\n",
      "Test Accuracy= 0.837, estimators = 1200, depth = 30, split = 2, leaf = 5, TPR 0.787, FPR 0.137\n",
      "Test Accuracy= 0.837, estimators = 1200, depth = 30, split = 2, leaf = 10, TPR 0.754, FPR 0.120\n",
      "Test Accuracy= 0.843, estimators = 1200, depth = 30, split = 5, leaf = 1, TPR 0.820, FPR 0.145\n",
      "Test Accuracy= 0.848, estimators = 1200, depth = 30, split = 5, leaf = 2, TPR 0.820, FPR 0.137\n",
      "Test Accuracy= 0.837, estimators = 1200, depth = 30, split = 5, leaf = 5, TPR 0.787, FPR 0.137\n",
      "Test Accuracy= 0.837, estimators = 1200, depth = 30, split = 5, leaf = 10, TPR 0.754, FPR 0.120\n",
      "Test Accuracy= 0.854, estimators = 1200, depth = 30, split = 10, leaf = 1, TPR 0.836, FPR 0.137\n",
      "Test Accuracy= 0.837, estimators = 1200, depth = 30, split = 10, leaf = 2, TPR 0.803, FPR 0.145\n",
      "Test Accuracy= 0.837, estimators = 1200, depth = 30, split = 10, leaf = 5, TPR 0.787, FPR 0.137\n",
      "Test Accuracy= 0.837, estimators = 1200, depth = 30, split = 10, leaf = 10, TPR 0.754, FPR 0.120\n",
      "Test Accuracy= 0.837, estimators = 1200, depth = 30, split = 15, leaf = 1, TPR 0.803, FPR 0.145\n",
      "Test Accuracy= 0.837, estimators = 1200, depth = 30, split = 15, leaf = 2, TPR 0.803, FPR 0.145\n",
      "Test Accuracy= 0.837, estimators = 1200, depth = 30, split = 15, leaf = 5, TPR 0.787, FPR 0.137\n",
      "Test Accuracy= 0.837, estimators = 1200, depth = 30, split = 15, leaf = 10, TPR 0.754, FPR 0.120\n",
      "Test Accuracy= 0.831, estimators = 1200, depth = 30, split = 100, leaf = 1, TPR 0.787, FPR 0.145\n",
      "Test Accuracy= 0.831, estimators = 1200, depth = 30, split = 100, leaf = 2, TPR 0.787, FPR 0.145\n",
      "Test Accuracy= 0.831, estimators = 1200, depth = 30, split = 100, leaf = 5, TPR 0.787, FPR 0.145\n",
      "Test Accuracy= 0.826, estimators = 1200, depth = 30, split = 100, leaf = 10, TPR 0.787, FPR 0.154\n"
     ]
    }
   ],
   "source": [
    "# Random Forest Classifier\n",
    "FPR, TPR = [],[]\n",
    "for i in est:\n",
    "    for j in depth:\n",
    "        for k in split:\n",
    "            for l in leaf:\n",
    "                rfc = RandomForestClassifier(n_estimators=i, max_depth=j, min_samples_split=k, min_samples_leaf=l, random_state=42)\n",
    "    \n",
    "                rfc.fit(X_train, y_train)\n",
    "                y_pred = rfc.predict(X_test)\n",
    "                tn, fp, fn, tp = confusion_matrix(y_test, y_pred).ravel()\n",
    "                TPR += [tp/(tp+fn)]\n",
    "                FPR += [fp/(fp+tn)]\n",
    "                print(f'Test Accuracy= {rfc.score(X_test, y_test):.3f}, estimators = {i}, depth = {j}, split = {k}, leaf = {l}, TPR {TPR[-1]:.3f}, FPR {FPR[-1]:.3f}')"
   ]
  },
  {
   "cell_type": "code",
   "execution_count": 33,
   "metadata": {},
   "outputs": [
    {
     "data": {
      "image/png": "[encoded data removed]",
      "text/plain": [
       "<Figure size 432x288 with 1 Axes>"
      ]
     },
     "metadata": {
      "needs_background": "light"
     },
     "output_type": "display_data"
    }
   ],
   "source": [
    "# Sorts the points to display nicely on ROC\n",
    "FPR, TPR = zip(*sorted(zip(FPR, TPR)))\n",
    "fpr = [0.]+list(FPR)+[1.]; tpr = [0.]+list(TPR)+[1.]\n",
    "\n",
    "# Plot\n",
    "fig, ax = plt.subplots()\n",
    "plt.plot(fpr, tpr, ':', label='ROC')\n",
    "plt.scatter(FPR, TPR, 50, color='red', marker='o', label='operating points')\n",
    "plt.plot([0, 1], [0, 1], linestyle='--', color=(0.6, 0.6, 0.6), label='coin flip')\n",
    "\n",
    "# Labels\n",
    "plt.xlabel('False Positive Rate')\n",
    "plt.ylabel('True Positive Rate')\n",
    "plt.xlim([0, 0.3])\n",
    "plt.legend(loc='lower right')\n",
    "plt.grid()\n",
    "plt.show()"
   ]
  },
  {
   "cell_type": "code",
   "execution_count": 34,
   "metadata": {},
   "outputs": [],
   "source": [
    "X = X\n",
    "y = final['Survived'].ravel()"
   ]
  },
  {
   "cell_type": "code",
   "execution_count": 35,
   "metadata": {},
   "outputs": [
    {
     "name": "stdout",
     "output_type": "stream",
     "text": [
      "Average accuracy: 0.8368998978549541\n"
     ]
    }
   ],
   "source": [
    "# Create Random Forest Classifier\n",
    "RFC = RandomForestClassifier(n_estimators=100, max_depth=15, min_samples_split=15, min_samples_leaf=1, random_state =42)\n",
    "\n",
    "# Create StratifiedKFold object\n",
    "skf = StratifiedKFold(n_splits=10, shuffle=True)\n",
    "lst_accu_stratified = []\n",
    "\n",
    "# Fit model using Stratified Cross Validation\n",
    "for train_index, test_index in skf.split(X, y):\n",
    "    x_train_fold =  X.iloc[train_index]\n",
    "    x_test_fold = X.iloc[test_index]\n",
    "    y_train_fold = y[train_index]\n",
    "    y_test_fold = y[test_index]\n",
    "    RFC.fit(x_train_fold, y_train_fold)\n",
    "    lst_accu_stratified.append(RFC.score(x_test_fold, y_test_fold))\n",
    "    \n",
    "print(\"Average accuracy: \" + str(np.array(lst_accu_stratified).mean()))"
   ]
  },
  {
   "cell_type": "markdown",
   "metadata": {},
   "source": [
    "# Neural Network Classifier"
   ]
  },
  {
   "cell_type": "code",
   "execution_count": 36,
   "metadata": {},
   "outputs": [],
   "source": [
    "# Split into training and testing datasets\n",
    "X_train, X_test, y_train, y_test = train_test_split(X,y, test_size = 0.2)"
   ]
  },
  {
   "cell_type": "code",
   "execution_count": 37,
   "metadata": {},
   "outputs": [],
   "source": [
    "# Neural Network Hyperparameters\n",
    "alpha = (0.00001,0.0001,0.001,0.01,0.1,1)\n",
    "learning = (0.00001,0.0001,0.001,0.01,0.1,1)"
   ]
  },
  {
   "cell_type": "code",
   "execution_count": 38,
   "metadata": {},
   "outputs": [
    {
     "name": "stdout",
     "output_type": "stream",
     "text": [
      "Test Accuracy= 0.736, alpha = 1e-05, learning = 1e-05, TPR 0.671, FPR 0.219\n",
      "Test Accuracy= 0.775, alpha = 1e-05, learning = 0.0001, TPR 0.658, FPR 0.143\n",
      "Test Accuracy= 0.770, alpha = 1e-05, learning = 0.001, TPR 0.603, FPR 0.114\n",
      "Test Accuracy= 0.764, alpha = 1e-05, learning = 0.01, TPR 0.603, FPR 0.124\n",
      "Test Accuracy= 0.730, alpha = 1e-05, learning = 0.1, TPR 0.534, FPR 0.133\n",
      "Test Accuracy= 0.742, alpha = 1e-05, learning = 1, TPR 0.644, FPR 0.190\n",
      "Test Accuracy= 0.736, alpha = 0.0001, learning = 1e-05, TPR 0.671, FPR 0.219\n",
      "Test Accuracy= 0.775, alpha = 0.0001, learning = 0.0001, TPR 0.658, FPR 0.143\n",
      "Test Accuracy= 0.770, alpha = 0.0001, learning = 0.001, TPR 0.603, FPR 0.114\n",
      "Test Accuracy= 0.764, alpha = 0.0001, learning = 0.01, TPR 0.603, FPR 0.124\n",
      "Test Accuracy= 0.775, alpha = 0.0001, learning = 0.1, TPR 0.616, FPR 0.114\n",
      "Test Accuracy= 0.736, alpha = 0.0001, learning = 1, TPR 0.548, FPR 0.133\n",
      "Test Accuracy= 0.736, alpha = 0.001, learning = 1e-05, TPR 0.671, FPR 0.219\n",
      "Test Accuracy= 0.775, alpha = 0.001, learning = 0.0001, TPR 0.658, FPR 0.143\n",
      "Test Accuracy= 0.770, alpha = 0.001, learning = 0.001, TPR 0.603, FPR 0.114\n",
      "Test Accuracy= 0.764, alpha = 0.001, learning = 0.01, TPR 0.603, FPR 0.124\n",
      "Test Accuracy= 0.753, alpha = 0.001, learning = 0.1, TPR 0.630, FPR 0.162\n",
      "Test Accuracy= 0.781, alpha = 0.001, learning = 1, TPR 0.644, FPR 0.124\n",
      "Test Accuracy= 0.736, alpha = 0.01, learning = 1e-05, TPR 0.671, FPR 0.219\n",
      "Test Accuracy= 0.775, alpha = 0.01, learning = 0.0001, TPR 0.658, FPR 0.143\n",
      "Test Accuracy= 0.770, alpha = 0.01, learning = 0.001, TPR 0.603, FPR 0.114\n",
      "Test Accuracy= 0.764, alpha = 0.01, learning = 0.01, TPR 0.603, FPR 0.124\n",
      "Test Accuracy= 0.753, alpha = 0.01, learning = 0.1, TPR 0.548, FPR 0.105\n",
      "Test Accuracy= 0.753, alpha = 0.01, learning = 1, TPR 0.644, FPR 0.171\n",
      "Test Accuracy= 0.736, alpha = 0.1, learning = 1e-05, TPR 0.671, FPR 0.219\n",
      "Test Accuracy= 0.775, alpha = 0.1, learning = 0.0001, TPR 0.658, FPR 0.143\n",
      "Test Accuracy= 0.758, alpha = 0.1, learning = 0.001, TPR 0.562, FPR 0.105\n",
      "Test Accuracy= 0.747, alpha = 0.1, learning = 0.01, TPR 0.562, FPR 0.124\n",
      "Test Accuracy= 0.753, alpha = 0.1, learning = 0.1, TPR 0.644, FPR 0.171\n",
      "Test Accuracy= 0.736, alpha = 0.1, learning = 1, TPR 0.562, FPR 0.143\n",
      "Test Accuracy= 0.736, alpha = 1, learning = 1e-05, TPR 0.671, FPR 0.219\n",
      "Test Accuracy= 0.775, alpha = 1, learning = 0.0001, TPR 0.658, FPR 0.143\n",
      "Test Accuracy= 0.764, alpha = 1, learning = 0.001, TPR 0.589, FPR 0.114\n",
      "Test Accuracy= 0.764, alpha = 1, learning = 0.01, TPR 0.589, FPR 0.114\n",
      "Test Accuracy= 0.764, alpha = 1, learning = 0.1, TPR 0.644, FPR 0.152\n",
      "Test Accuracy= 0.742, alpha = 1, learning = 1, TPR 0.534, FPR 0.114\n"
     ]
    }
   ],
   "source": [
    "# Neural Network Classifier\n",
    "FPR3, TPR3 = [],[]\n",
    "for i in alpha:\n",
    "    for j in learning:\n",
    "        nn = MLPClassifier(alpha=i, learning_rate_init=j, max_iter=2000,random_state=42)\n",
    "    \n",
    "        nn.fit(X_train, y_train)\n",
    "        y_pred = nn.predict(X_test)\n",
    "        tn, fp, fn, tp = confusion_matrix(y_test, y_pred).ravel()\n",
    "        TPR3 += [tp/(tp+fn)]\n",
    "        FPR3 += [fp/(fp+tn)]\n",
    "        print(f'Test Accuracy= {nn.score(X_test, y_test):.3f}, alpha = {i}, learning = {j}, TPR {TPR3[-1]:.3f}, FPR {FPR3[-1]:.3f}')"
   ]
  },
  {
   "cell_type": "code",
   "execution_count": 39,
   "metadata": {},
   "outputs": [
    {
     "data": {
      "image/png": "[encoded data removed]",
      "text/plain": [
       "<Figure size 432x288 with 1 Axes>"
      ]
     },
     "metadata": {
      "needs_background": "light"
     },
     "output_type": "display_data"
    }
   ],
   "source": [
    "# Sorts the points to display nicely on ROC\n",
    "FPR3, TPR3 = zip(*sorted(zip(FPR3, TPR3)))\n",
    "fpr = [0.]+list(FPR3)+[1.]; tpr = [0.]+list(TPR3)+[1.]\n",
    "\n",
    "# Plot\n",
    "fig, ax = plt.subplots()\n",
    "plt.plot(fpr, tpr, ':', label='ROC')\n",
    "plt.scatter(FPR3, TPR3, 50, color='red', marker='o', label='operating points')\n",
    "plt.plot([0, 1], [0, 1], linestyle='--', color=(0.6, 0.6, 0.6), label='coin flip')\n",
    "\n",
    "# Labels\n",
    "plt.xlabel('False Positive Rate')\n",
    "plt.ylabel('True Positive Rate')\n",
    "plt.legend(loc='lower right')\n",
    "plt.grid()\n",
    "plt.show()"
   ]
  },
  {
   "cell_type": "code",
   "execution_count": 40,
   "metadata": {},
   "outputs": [],
   "source": [
    "X = X\n",
    "y = final['Survived'].ravel()"
   ]
  },
  {
   "cell_type": "code",
   "execution_count": 41,
   "metadata": {},
   "outputs": [
    {
     "name": "stdout",
     "output_type": "stream",
     "text": [
      "Average accuracy: 0.8008810010214505\n"
     ]
    }
   ],
   "source": [
    "# Create Neural Network Classifier\n",
    "NN = MLPClassifier(alpha=0.0001, learning_rate_init=0.01, max_iter=2000,random_state=42)\n",
    "\n",
    "# Create StratifiedKFold object.\n",
    "skf = StratifiedKFold(n_splits=10, shuffle=True)\n",
    "lst_accu_stratified = []\n",
    "  \n",
    "# Fit model using Stratified Cross Validation\n",
    "for train_index, test_index in skf.split(X, y):\n",
    "    x_train_fold =  X.iloc[train_index]\n",
    "    x_test_fold = X.iloc[test_index]\n",
    "    y_train_fold = y[train_index]\n",
    "    y_test_fold = y[test_index]\n",
    "    NN.fit(x_train_fold, y_train_fold)\n",
    "    lst_accu_stratified.append(NN.score(x_test_fold, y_test_fold))\n",
    "    \n",
    "print(\"Average accuracy: \" + str(np.array(lst_accu_stratified).mean()))"
   ]
  },
  {
   "cell_type": "markdown",
   "metadata": {},
   "source": [
    "# Make prediction on test data using Random Forest Classifier"
   ]
  },
  {
   "cell_type": "code",
   "execution_count": 42,
   "metadata": {},
   "outputs": [
    {
     "data": {
      "text/html": [
       "<div>\n",
       "<style scoped>\n",
       "    .dataframe tbody tr th:only-of-type {\n",
       "        vertical-align: middle;\n",
       "    }\n",
       "\n",
       "    .dataframe tbody tr th {\n",
       "        vertical-align: top;\n",
       "    }\n",
       "\n",
       "    .dataframe thead th {\n",
       "        text-align: right;\n",
       "    }\n",
       "</style>\n",
       "<table border=\"1\" class=\"dataframe\">\n",
       "  <thead>\n",
       "    <tr style=\"text-align: right;\">\n",
       "      <th></th>\n",
       "      <th>PassengerId</th>\n",
       "      <th>Pclass</th>\n",
       "      <th>Name</th>\n",
       "      <th>Sex</th>\n",
       "      <th>Age</th>\n",
       "      <th>SibSp</th>\n",
       "      <th>Parch</th>\n",
       "      <th>Ticket</th>\n",
       "      <th>Fare</th>\n",
       "      <th>Cabin</th>\n",
       "      <th>Embarked</th>\n",
       "    </tr>\n",
       "  </thead>\n",
       "  <tbody>\n",
       "    <tr>\n",
       "      <td>0</td>\n",
       "      <td>892</td>\n",
       "      <td>3</td>\n",
       "      <td>Kelly, Mr. James</td>\n",
       "      <td>male</td>\n",
       "      <td>34.5</td>\n",
       "      <td>0</td>\n",
       "      <td>0</td>\n",
       "      <td>330911</td>\n",
       "      <td>7.8292</td>\n",
       "      <td>NaN</td>\n",
       "      <td>Q</td>\n",
       "    </tr>\n",
       "    <tr>\n",
       "      <td>1</td>\n",
       "      <td>893</td>\n",
       "      <td>3</td>\n",
       "      <td>Wilkes, Mrs. James (Ellen Needs)</td>\n",
       "      <td>female</td>\n",
       "      <td>47.0</td>\n",
       "      <td>1</td>\n",
       "      <td>0</td>\n",
       "      <td>363272</td>\n",
       "      <td>7.0000</td>\n",
       "      <td>NaN</td>\n",
       "      <td>S</td>\n",
       "    </tr>\n",
       "    <tr>\n",
       "      <td>2</td>\n",
       "      <td>894</td>\n",
       "      <td>2</td>\n",
       "      <td>Myles, Mr. Thomas Francis</td>\n",
       "      <td>male</td>\n",
       "      <td>62.0</td>\n",
       "      <td>0</td>\n",
       "      <td>0</td>\n",
       "      <td>240276</td>\n",
       "      <td>9.6875</td>\n",
       "      <td>NaN</td>\n",
       "      <td>Q</td>\n",
       "    </tr>\n",
       "    <tr>\n",
       "      <td>3</td>\n",
       "      <td>895</td>\n",
       "      <td>3</td>\n",
       "      <td>Wirz, Mr. Albert</td>\n",
       "      <td>male</td>\n",
       "      <td>27.0</td>\n",
       "      <td>0</td>\n",
       "      <td>0</td>\n",
       "      <td>315154</td>\n",
       "      <td>8.6625</td>\n",
       "      <td>NaN</td>\n",
       "      <td>S</td>\n",
       "    </tr>\n",
       "    <tr>\n",
       "      <td>4</td>\n",
       "      <td>896</td>\n",
       "      <td>3</td>\n",
       "      <td>Hirvonen, Mrs. Alexander (Helga E Lindqvist)</td>\n",
       "      <td>female</td>\n",
       "      <td>22.0</td>\n",
       "      <td>1</td>\n",
       "      <td>1</td>\n",
       "      <td>3101298</td>\n",
       "      <td>12.2875</td>\n",
       "      <td>NaN</td>\n",
       "      <td>S</td>\n",
       "    </tr>\n",
       "  </tbody>\n",
       "</table>\n",
       "</div>"
      ],
      "text/plain": [
       "   PassengerId  Pclass                                          Name     Sex  \\\n",
       "0          892       3                              Kelly, Mr. James    male   \n",
       "1          893       3              Wilkes, Mrs. James (Ellen Needs)  female   \n",
       "2          894       2                     Myles, Mr. Thomas Francis    male   \n",
       "3          895       3                              Wirz, Mr. Albert    male   \n",
       "4          896       3  Hirvonen, Mrs. Alexander (Helga E Lindqvist)  female   \n",
       "\n",
       "    Age  SibSp  Parch   Ticket     Fare Cabin Embarked  \n",
       "0  34.5      0      0   330911   7.8292   NaN        Q  \n",
       "1  47.0      1      0   363272   7.0000   NaN        S  \n",
       "2  62.0      0      0   240276   9.6875   NaN        Q  \n",
       "3  27.0      0      0   315154   8.6625   NaN        S  \n",
       "4  22.0      1      1  3101298  12.2875   NaN        S  "
      ]
     },
     "execution_count": 42,
     "metadata": {},
     "output_type": "execute_result"
    }
   ],
   "source": [
    "test.head()"
   ]
  },
  {
   "cell_type": "markdown",
   "metadata": {},
   "source": [
    "## Preprocess test data"
   ]
  },
  {
   "cell_type": "code",
   "execution_count": 43,
   "metadata": {},
   "outputs": [
    {
     "name": "stdout",
     "output_type": "stream",
     "text": [
      "[3 2 1]\n",
      "['male' 'female']\n",
      "[34.5  47.   62.   27.   22.   14.   30.   26.   18.   21.     nan 46.\n",
      " 23.   63.   24.   35.   45.   55.    9.   48.   50.   22.5  41.   33.\n",
      " 18.5  25.   39.   60.   36.   20.   28.   10.   17.   32.   13.   31.\n",
      " 29.   28.5  32.5   6.   67.   49.    2.   76.   43.   16.    1.   12.\n",
      " 42.   53.   26.5  40.   61.   60.5   7.   15.   54.   64.   37.   34.\n",
      " 11.5   8.    0.33 38.   57.   40.5   0.92 19.   36.5   0.75  0.83 58.\n",
      "  0.17 59.   14.5  44.    5.   51.    3.   38.5 ]\n",
      "[0 1 2 3 4 5 8]\n",
      "[0 1 3 2 4 6 5 9]\n",
      "0.0\n",
      "512.3292\n",
      "['Q' 'S' 'C']\n"
     ]
    }
   ],
   "source": [
    "# Look for odd values\n",
    "print(test['Pclass'].unique())\n",
    "print(test['Sex'].unique())\n",
    "print(test['Age'].unique())\n",
    "print(test['SibSp'].unique())\n",
    "print(test['Parch'].unique())\n",
    "print(test['Fare'].min())\n",
    "print(test['Fare'].max())\n",
    "print(test['Embarked'].unique())"
   ]
  },
  {
   "cell_type": "code",
   "execution_count": 44,
   "metadata": {},
   "outputs": [
    {
     "name": "stdout",
     "output_type": "stream",
     "text": [
      "<class 'pandas.core.frame.DataFrame'>\n",
      "RangeIndex: 418 entries, 0 to 417\n",
      "Data columns (total 11 columns):\n",
      "PassengerId    418 non-null int64\n",
      "Pclass         418 non-null int64\n",
      "Name           418 non-null object\n",
      "Sex            418 non-null object\n",
      "Age            332 non-null float64\n",
      "SibSp          418 non-null int64\n",
      "Parch          418 non-null int64\n",
      "Ticket         418 non-null object\n",
      "Fare           417 non-null float64\n",
      "Cabin          91 non-null object\n",
      "Embarked       418 non-null object\n",
      "dtypes: float64(2), int64(4), object(5)\n",
      "memory usage: 36.0+ KB\n"
     ]
    }
   ],
   "source": [
    "# Check data types and look for null values\n",
    "test.info()"
   ]
  },
  {
   "cell_type": "code",
   "execution_count": 45,
   "metadata": {},
   "outputs": [],
   "source": [
    "# Drop the unnecessary features\n",
    "test.drop(columns=['PassengerId','Name', 'Ticket', 'Cabin'], inplace= True)"
   ]
  },
  {
   "cell_type": "code",
   "execution_count": 46,
   "metadata": {},
   "outputs": [
    {
     "name": "stdout",
     "output_type": "stream",
     "text": [
      "<class 'pandas.core.frame.DataFrame'>\n",
      "RangeIndex: 418 entries, 0 to 417\n",
      "Data columns (total 7 columns):\n",
      "Pclass      418 non-null int64\n",
      "Sex         418 non-null object\n",
      "Age         332 non-null float64\n",
      "SibSp       418 non-null int64\n",
      "Parch       418 non-null int64\n",
      "Fare        417 non-null float64\n",
      "Embarked    418 non-null object\n",
      "dtypes: float64(2), int64(3), object(2)\n",
      "memory usage: 23.0+ KB\n"
     ]
    }
   ],
   "source": [
    "test.info()"
   ]
  },
  {
   "cell_type": "markdown",
   "metadata": {},
   "source": [
    "## Replace NaN"
   ]
  },
  {
   "cell_type": "code",
   "execution_count": 47,
   "metadata": {},
   "outputs": [
    {
     "data": {
      "text/html": [
       "<div>\n",
       "<style scoped>\n",
       "    .dataframe tbody tr th:only-of-type {\n",
       "        vertical-align: middle;\n",
       "    }\n",
       "\n",
       "    .dataframe tbody tr th {\n",
       "        vertical-align: top;\n",
       "    }\n",
       "\n",
       "    .dataframe thead th {\n",
       "        text-align: right;\n",
       "    }\n",
       "</style>\n",
       "<table border=\"1\" class=\"dataframe\">\n",
       "  <thead>\n",
       "    <tr style=\"text-align: right;\">\n",
       "      <th></th>\n",
       "      <th>Pclass</th>\n",
       "      <th>Sex</th>\n",
       "      <th>Age</th>\n",
       "      <th>SibSp</th>\n",
       "      <th>Parch</th>\n",
       "      <th>Fare</th>\n",
       "      <th>Embarked</th>\n",
       "    </tr>\n",
       "  </thead>\n",
       "  <tbody>\n",
       "    <tr>\n",
       "      <td>152</td>\n",
       "      <td>3</td>\n",
       "      <td>male</td>\n",
       "      <td>60.5</td>\n",
       "      <td>0</td>\n",
       "      <td>0</td>\n",
       "      <td>NaN</td>\n",
       "      <td>S</td>\n",
       "    </tr>\n",
       "  </tbody>\n",
       "</table>\n",
       "</div>"
      ],
      "text/plain": [
       "     Pclass   Sex   Age  SibSp  Parch  Fare Embarked\n",
       "152       3  male  60.5      0      0   NaN        S"
      ]
     },
     "execution_count": 47,
     "metadata": {},
     "output_type": "execute_result"
    }
   ],
   "source": [
    "# Find row with null value in Fare\n",
    "test[test['Fare'].isnull()]"
   ]
  },
  {
   "cell_type": "code",
   "execution_count": 48,
   "metadata": {},
   "outputs": [
    {
     "data": {
      "text/plain": [
       "13.675550101832997"
      ]
     },
     "execution_count": 48,
     "metadata": {},
     "output_type": "execute_result"
    }
   ],
   "source": [
    "# Calculate average fare in 3rd class\n",
    "third = titanic[titanic['Pclass'] == 3]\n",
    "third['Fare'].mean()"
   ]
  },
  {
   "cell_type": "code",
   "execution_count": 49,
   "metadata": {},
   "outputs": [],
   "source": [
    "# Replace NaN with average fare\n",
    "test.iloc[[152],[5]] = 13.7"
   ]
  },
  {
   "cell_type": "code",
   "execution_count": 50,
   "metadata": {},
   "outputs": [],
   "source": [
    "# Replace NaN for Age feature\n",
    "# If SibSp > 1, it is likely a child.  Fill in age = 9\n",
    "# Else, it could be a person of any age, fill in age with population average, age = 29\n",
    "\n",
    "subset = test[test['Age'].isnull()]\n",
    "child = subset[subset['SibSp']>1].index\n",
    "test.loc[child, 'Age']=9\n",
    "\n",
    "other = subset[subset['SibSp']<=1].index\n",
    "test.loc[other, 'Age']=29"
   ]
  },
  {
   "cell_type": "code",
   "execution_count": 51,
   "metadata": {},
   "outputs": [
    {
     "name": "stdout",
     "output_type": "stream",
     "text": [
      "<class 'pandas.core.frame.DataFrame'>\n",
      "RangeIndex: 418 entries, 0 to 417\n",
      "Data columns (total 7 columns):\n",
      "Pclass      418 non-null int64\n",
      "Sex         418 non-null object\n",
      "Age         418 non-null float64\n",
      "SibSp       418 non-null int64\n",
      "Parch       418 non-null int64\n",
      "Fare        418 non-null float64\n",
      "Embarked    418 non-null object\n",
      "dtypes: float64(2), int64(3), object(2)\n",
      "memory usage: 23.0+ KB\n"
     ]
    }
   ],
   "source": [
    "test.info()"
   ]
  },
  {
   "cell_type": "code",
   "execution_count": 52,
   "metadata": {},
   "outputs": [],
   "source": [
    "# One-hot encode Sex and Embark\n",
    "encode = pd.get_dummies(test, columns=['Sex', 'Embarked'])"
   ]
  },
  {
   "cell_type": "code",
   "execution_count": 53,
   "metadata": {},
   "outputs": [],
   "source": [
    "# Scale the independent features\n",
    "scaler = StandardScaler()\n",
    "scaled = scaler.fit_transform(encode)\n",
    "X = pd.DataFrame(scaled)"
   ]
  },
  {
   "cell_type": "code",
   "execution_count": 54,
   "metadata": {},
   "outputs": [],
   "source": [
    "# Predict survival of test data\n",
    "predict = RFC.predict(X)"
   ]
  },
  {
   "cell_type": "code",
   "execution_count": 55,
   "metadata": {},
   "outputs": [],
   "source": [
    "# Save predictions to DataFrame\n",
    "prediction = pd.DataFrame(PassengerId, columns=['PassengerId'])\n",
    "prediction['Survived']=predict"
   ]
  },
  {
   "cell_type": "code",
   "execution_count": 56,
   "metadata": {},
   "outputs": [],
   "source": [
    "# Write csv to file\n",
    "prediction.to_csv(r'/Users/katieross/desktop/RFC_predict_survival_KRoss.csv', index=False)"
   ]
  }
 ],
 "metadata": {
  "kernelspec": {
   "display_name": "Python 3 (ipykernel)",
   "language": "python",
   "name": "python3"
  },
  "language_info": {
   "codemirror_mode": {
    "name": "ipython",
    "version": 3
   },
   "file_extension": ".py",
   "mimetype": "text/x-python",
   "name": "python",
   "nbconvert_exporter": "python",
   "pygments_lexer": "ipython3",
   "version": "3.7.4"
  }
 },
 "nbformat": 4,
 "nbformat_minor": 2
}
