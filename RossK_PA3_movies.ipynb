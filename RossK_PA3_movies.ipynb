{
 "cells": [
  {
   "cell_type": "code",
   "execution_count": 1,
   "metadata": {},
   "outputs": [],
   "source": [
    "import pandas as pd\n",
    "import numpy as np\n",
    "from sklearn.cluster import KMeans\n",
    "import matplotlib.pyplot as plt\n",
    "from sklearn.metrics import confusion_matrix, classification_report"
   ]
  },
  {
   "cell_type": "code",
   "execution_count": 2,
   "metadata": {},
   "outputs": [],
   "source": [
    "# Load data and create a dataframe\n",
    "column_names = ['movie id', 'movie title' ,'release date','video release date', 'IMDb URL', 'unknown', 'Action', 'Adventure',\n",
    " 'Animation', 'Children\\'s', 'Comedy', 'Crime', 'Documentary', 'Drama', 'Fantasy',\n",
    " 'Film-Noir', 'Horror', 'Musical', 'Mystery', 'Romance', 'Sci-Fi', 'Thriller', 'War', 'Western']\n",
    "\n",
    "movies = pd.read_csv('http://files.grouplens.org/datasets/movielens/ml-100k/u.item', sep='|', names=column_names,encoding='latin-1')"
   ]
  },
  {
   "cell_type": "code",
   "execution_count": 3,
   "metadata": {},
   "outputs": [
    {
     "data": {
      "text/html": [
       "<div>\n",
       "<style scoped>\n",
       "    .dataframe tbody tr th:only-of-type {\n",
       "        vertical-align: middle;\n",
       "    }\n",
       "\n",
       "    .dataframe tbody tr th {\n",
       "        vertical-align: top;\n",
       "    }\n",
       "\n",
       "    .dataframe thead th {\n",
       "        text-align: right;\n",
       "    }\n",
       "</style>\n",
       "<table border=\"1\" class=\"dataframe\">\n",
       "  <thead>\n",
       "    <tr style=\"text-align: right;\">\n",
       "      <th></th>\n",
       "      <th>movie id</th>\n",
       "      <th>movie title</th>\n",
       "      <th>release date</th>\n",
       "      <th>video release date</th>\n",
       "      <th>IMDb URL</th>\n",
       "      <th>unknown</th>\n",
       "      <th>Action</th>\n",
       "      <th>Adventure</th>\n",
       "      <th>Animation</th>\n",
       "      <th>Children's</th>\n",
       "      <th>...</th>\n",
       "      <th>Fantasy</th>\n",
       "      <th>Film-Noir</th>\n",
       "      <th>Horror</th>\n",
       "      <th>Musical</th>\n",
       "      <th>Mystery</th>\n",
       "      <th>Romance</th>\n",
       "      <th>Sci-Fi</th>\n",
       "      <th>Thriller</th>\n",
       "      <th>War</th>\n",
       "      <th>Western</th>\n",
       "    </tr>\n",
       "  </thead>\n",
       "  <tbody>\n",
       "    <tr>\n",
       "      <td>0</td>\n",
       "      <td>1</td>\n",
       "      <td>Toy Story (1995)</td>\n",
       "      <td>01-Jan-1995</td>\n",
       "      <td>NaN</td>\n",
       "      <td>http://us.imdb.com/M/title-exact?Toy%20Story%2...</td>\n",
       "      <td>0</td>\n",
       "      <td>0</td>\n",
       "      <td>0</td>\n",
       "      <td>1</td>\n",
       "      <td>1</td>\n",
       "      <td>...</td>\n",
       "      <td>0</td>\n",
       "      <td>0</td>\n",
       "      <td>0</td>\n",
       "      <td>0</td>\n",
       "      <td>0</td>\n",
       "      <td>0</td>\n",
       "      <td>0</td>\n",
       "      <td>0</td>\n",
       "      <td>0</td>\n",
       "      <td>0</td>\n",
       "    </tr>\n",
       "    <tr>\n",
       "      <td>1</td>\n",
       "      <td>2</td>\n",
       "      <td>GoldenEye (1995)</td>\n",
       "      <td>01-Jan-1995</td>\n",
       "      <td>NaN</td>\n",
       "      <td>http://us.imdb.com/M/title-exact?GoldenEye%20(...</td>\n",
       "      <td>0</td>\n",
       "      <td>1</td>\n",
       "      <td>1</td>\n",
       "      <td>0</td>\n",
       "      <td>0</td>\n",
       "      <td>...</td>\n",
       "      <td>0</td>\n",
       "      <td>0</td>\n",
       "      <td>0</td>\n",
       "      <td>0</td>\n",
       "      <td>0</td>\n",
       "      <td>0</td>\n",
       "      <td>0</td>\n",
       "      <td>1</td>\n",
       "      <td>0</td>\n",
       "      <td>0</td>\n",
       "    </tr>\n",
       "    <tr>\n",
       "      <td>2</td>\n",
       "      <td>3</td>\n",
       "      <td>Four Rooms (1995)</td>\n",
       "      <td>01-Jan-1995</td>\n",
       "      <td>NaN</td>\n",
       "      <td>http://us.imdb.com/M/title-exact?Four%20Rooms%...</td>\n",
       "      <td>0</td>\n",
       "      <td>0</td>\n",
       "      <td>0</td>\n",
       "      <td>0</td>\n",
       "      <td>0</td>\n",
       "      <td>...</td>\n",
       "      <td>0</td>\n",
       "      <td>0</td>\n",
       "      <td>0</td>\n",
       "      <td>0</td>\n",
       "      <td>0</td>\n",
       "      <td>0</td>\n",
       "      <td>0</td>\n",
       "      <td>1</td>\n",
       "      <td>0</td>\n",
       "      <td>0</td>\n",
       "    </tr>\n",
       "    <tr>\n",
       "      <td>3</td>\n",
       "      <td>4</td>\n",
       "      <td>Get Shorty (1995)</td>\n",
       "      <td>01-Jan-1995</td>\n",
       "      <td>NaN</td>\n",
       "      <td>http://us.imdb.com/M/title-exact?Get%20Shorty%...</td>\n",
       "      <td>0</td>\n",
       "      <td>1</td>\n",
       "      <td>0</td>\n",
       "      <td>0</td>\n",
       "      <td>0</td>\n",
       "      <td>...</td>\n",
       "      <td>0</td>\n",
       "      <td>0</td>\n",
       "      <td>0</td>\n",
       "      <td>0</td>\n",
       "      <td>0</td>\n",
       "      <td>0</td>\n",
       "      <td>0</td>\n",
       "      <td>0</td>\n",
       "      <td>0</td>\n",
       "      <td>0</td>\n",
       "    </tr>\n",
       "    <tr>\n",
       "      <td>4</td>\n",
       "      <td>5</td>\n",
       "      <td>Copycat (1995)</td>\n",
       "      <td>01-Jan-1995</td>\n",
       "      <td>NaN</td>\n",
       "      <td>http://us.imdb.com/M/title-exact?Copycat%20(1995)</td>\n",
       "      <td>0</td>\n",
       "      <td>0</td>\n",
       "      <td>0</td>\n",
       "      <td>0</td>\n",
       "      <td>0</td>\n",
       "      <td>...</td>\n",
       "      <td>0</td>\n",
       "      <td>0</td>\n",
       "      <td>0</td>\n",
       "      <td>0</td>\n",
       "      <td>0</td>\n",
       "      <td>0</td>\n",
       "      <td>0</td>\n",
       "      <td>1</td>\n",
       "      <td>0</td>\n",
       "      <td>0</td>\n",
       "    </tr>\n",
       "  </tbody>\n",
       "</table>\n",
       "<p>5 rows × 24 columns</p>\n",
       "</div>"
      ],
      "text/plain": [
       "   movie id        movie title release date  video release date  \\\n",
       "0         1   Toy Story (1995)  01-Jan-1995                 NaN   \n",
       "1         2   GoldenEye (1995)  01-Jan-1995                 NaN   \n",
       "2         3  Four Rooms (1995)  01-Jan-1995                 NaN   \n",
       "3         4  Get Shorty (1995)  01-Jan-1995                 NaN   \n",
       "4         5     Copycat (1995)  01-Jan-1995                 NaN   \n",
       "\n",
       "                                            IMDb URL  unknown  Action  \\\n",
       "0  http://us.imdb.com/M/title-exact?Toy%20Story%2...        0       0   \n",
       "1  http://us.imdb.com/M/title-exact?GoldenEye%20(...        0       1   \n",
       "2  http://us.imdb.com/M/title-exact?Four%20Rooms%...        0       0   \n",
       "3  http://us.imdb.com/M/title-exact?Get%20Shorty%...        0       1   \n",
       "4  http://us.imdb.com/M/title-exact?Copycat%20(1995)        0       0   \n",
       "\n",
       "   Adventure  Animation  Children's  ...  Fantasy  Film-Noir  Horror  Musical  \\\n",
       "0          0          1           1  ...        0          0       0        0   \n",
       "1          1          0           0  ...        0          0       0        0   \n",
       "2          0          0           0  ...        0          0       0        0   \n",
       "3          0          0           0  ...        0          0       0        0   \n",
       "4          0          0           0  ...        0          0       0        0   \n",
       "\n",
       "   Mystery  Romance  Sci-Fi  Thriller  War  Western  \n",
       "0        0        0       0         0    0        0  \n",
       "1        0        0       0         1    0        0  \n",
       "2        0        0       0         1    0        0  \n",
       "3        0        0       0         0    0        0  \n",
       "4        0        0       0         1    0        0  \n",
       "\n",
       "[5 rows x 24 columns]"
      ]
     },
     "execution_count": 3,
     "metadata": {},
     "output_type": "execute_result"
    }
   ],
   "source": [
    "# View dataset\n",
    "movies.head()"
   ]
  },
  {
   "cell_type": "code",
   "execution_count": 4,
   "metadata": {},
   "outputs": [
    {
     "name": "stdout",
     "output_type": "stream",
     "text": [
      "<class 'pandas.core.frame.DataFrame'>\n",
      "RangeIndex: 1682 entries, 0 to 1681\n",
      "Data columns (total 24 columns):\n",
      "movie id              1682 non-null int64\n",
      "movie title           1682 non-null object\n",
      "release date          1681 non-null object\n",
      "video release date    0 non-null float64\n",
      "IMDb URL              1679 non-null object\n",
      "unknown               1682 non-null int64\n",
      "Action                1682 non-null int64\n",
      "Adventure             1682 non-null int64\n",
      "Animation             1682 non-null int64\n",
      "Children's            1682 non-null int64\n",
      "Comedy                1682 non-null int64\n",
      "Crime                 1682 non-null int64\n",
      "Documentary           1682 non-null int64\n",
      "Drama                 1682 non-null int64\n",
      "Fantasy               1682 non-null int64\n",
      "Film-Noir             1682 non-null int64\n",
      "Horror                1682 non-null int64\n",
      "Musical               1682 non-null int64\n",
      "Mystery               1682 non-null int64\n",
      "Romance               1682 non-null int64\n",
      "Sci-Fi                1682 non-null int64\n",
      "Thriller              1682 non-null int64\n",
      "War                   1682 non-null int64\n",
      "Western               1682 non-null int64\n",
      "dtypes: float64(1), int64(20), object(3)\n",
      "memory usage: 315.5+ KB\n"
     ]
    }
   ],
   "source": [
    "# Look for null values and check datatypes\n",
    "movies.info()"
   ]
  },
  {
   "cell_type": "code",
   "execution_count": 5,
   "metadata": {},
   "outputs": [],
   "source": [
    "# drop unnecessary columns\n",
    "movies = movies.drop(columns=['movie id', 'video release date', 'IMDb URL', 'release date'])"
   ]
  },
  {
   "cell_type": "code",
   "execution_count": 6,
   "metadata": {},
   "outputs": [
    {
     "data": {
      "text/plain": [
       "False    1664\n",
       "True       18\n",
       "dtype: int64"
      ]
     },
     "execution_count": 6,
     "metadata": {},
     "output_type": "execute_result"
    }
   ],
   "source": [
    "# Look for duplicates\n",
    "duplicates = movies.duplicated()\n",
    "duplicates.value_counts()"
   ]
  },
  {
   "cell_type": "code",
   "execution_count": 7,
   "metadata": {},
   "outputs": [],
   "source": [
    "# Drop duplicate rows\n",
    "movies.drop_duplicates(inplace=True)"
   ]
  },
  {
   "cell_type": "code",
   "execution_count": 8,
   "metadata": {},
   "outputs": [],
   "source": [
    "# Rename Children's column\n",
    "movies.rename(columns={\"Children's\":\"Childrens\"}, inplace=True)"
   ]
  },
  {
   "cell_type": "code",
   "execution_count": 9,
   "metadata": {},
   "outputs": [
    {
     "name": "stdout",
     "output_type": "stream",
     "text": [
      "unknown\n",
      "0    1662\n",
      "1       2\n",
      "Name: unknown, dtype: int64\n",
      "Action\n",
      "0    1415\n",
      "1     249\n",
      "Name: Action, dtype: int64\n",
      "Adventure\n",
      "0    1531\n",
      "1     133\n",
      "Name: Adventure, dtype: int64\n",
      "Animation\n",
      "0    1622\n",
      "1      42\n",
      "Name: Animation, dtype: int64\n",
      "Children's\n",
      "0    1544\n",
      "1     120\n",
      "Name: Childrens, dtype: int64\n",
      "Comedy\n",
      "0    1162\n",
      "1     502\n",
      "Name: Comedy, dtype: int64\n",
      "Documentary\n",
      "0    1614\n",
      "1      50\n",
      "Name: Documentary, dtype: int64\n",
      "Drama\n",
      "0    948\n",
      "1    716\n",
      "Name: Drama, dtype: int64\n",
      "Fantasy\n",
      "0    1642\n",
      "1      22\n",
      "Name: Fantasy, dtype: int64\n",
      "Film-Noir\n",
      "0    1640\n",
      "1      24\n",
      "Name: Film-Noir, dtype: int64\n",
      "Horror\n",
      "0    1574\n",
      "1      90\n",
      "Name: Horror, dtype: int64\n",
      "Musical\n",
      "0    1608\n",
      "1      56\n",
      "Name: Musical, dtype: int64\n",
      "Mystery\n",
      "0    1604\n",
      "1      60\n",
      "Name: Mystery, dtype: int64\n",
      "Romance\n",
      "0    1420\n",
      "1     244\n",
      "Name: Romance, dtype: int64\n",
      "Sci-Fi\n",
      "0    1564\n",
      "1     100\n",
      "Name: Sci-Fi, dtype: int64\n",
      "Thriller\n",
      "0    1416\n",
      "1     248\n",
      "Name: Thriller, dtype: int64\n",
      "War\n",
      "0    1593\n",
      "1      71\n",
      "Name: War, dtype: int64\n",
      "Western\n",
      "0    1637\n",
      "1      27\n",
      "Name: Western, dtype: int64\n"
     ]
    }
   ],
   "source": [
    "# check for odd values (anything other than 0 or 1)\n",
    "print('unknown')\n",
    "print(movies['unknown'].value_counts())\n",
    "print('Action')\n",
    "print(movies['Action'].value_counts())\n",
    "print('Adventure')\n",
    "print(movies['Adventure'].value_counts())\n",
    "print('Animation')\n",
    "print(movies['Animation'].value_counts())\n",
    "print('Children\\'s')\n",
    "print(movies['Childrens'].value_counts())\n",
    "print('Comedy')\n",
    "print(movies['Comedy'].value_counts())\n",
    "print('Documentary')\n",
    "print(movies['Documentary'].value_counts())\n",
    "print('Drama')\n",
    "print(movies['Drama'].value_counts())\n",
    "print('Fantasy')\n",
    "print(movies['Fantasy'].value_counts())\n",
    "print('Film-Noir')\n",
    "print(movies['Film-Noir'].value_counts())\n",
    "print('Horror')\n",
    "print(movies['Horror'].value_counts())\n",
    "print('Musical')\n",
    "print(movies['Musical'].value_counts())\n",
    "print('Mystery')\n",
    "print(movies['Mystery'].value_counts())\n",
    "print('Romance')\n",
    "print(movies['Romance'].value_counts())\n",
    "print('Sci-Fi')\n",
    "print(movies['Sci-Fi'].value_counts())\n",
    "print('Thriller')\n",
    "print(movies['Thriller'].value_counts())\n",
    "print('War')\n",
    "print(movies['War'].value_counts())\n",
    "print('Western')\n",
    "print(movies['Western'].value_counts())"
   ]
  },
  {
   "cell_type": "code",
   "execution_count": 10,
   "metadata": {},
   "outputs": [
    {
     "data": {
      "image/png": "[encoded data removed]",
      "text/plain": [
       "<Figure size 432x288 with 1 Axes>"
      ]
     },
     "metadata": {
      "needs_background": "light"
     },
     "output_type": "display_data"
    }
   ],
   "source": [
    "# Total number of movies in each genre\n",
    "genre_tot = np.array([2,249,133,42,120,502,50,716,22,24,90,56,60,244,100,248,71,27])\n",
    "plt.bar(range(1,19),genre_tot)\n",
    "plt.show()"
   ]
  },
  {
   "cell_type": "code",
   "execution_count": 11,
   "metadata": {},
   "outputs": [
    {
     "data": {
      "text/html": [
       "<div>\n",
       "<style scoped>\n",
       "    .dataframe tbody tr th:only-of-type {\n",
       "        vertical-align: middle;\n",
       "    }\n",
       "\n",
       "    .dataframe tbody tr th {\n",
       "        vertical-align: top;\n",
       "    }\n",
       "\n",
       "    .dataframe thead th {\n",
       "        text-align: right;\n",
       "    }\n",
       "</style>\n",
       "<table border=\"1\" class=\"dataframe\">\n",
       "  <thead>\n",
       "    <tr style=\"text-align: right;\">\n",
       "      <th></th>\n",
       "      <th>movie title</th>\n",
       "      <th>unknown</th>\n",
       "      <th>Action</th>\n",
       "      <th>Adventure</th>\n",
       "      <th>Animation</th>\n",
       "      <th>Childrens</th>\n",
       "      <th>Comedy</th>\n",
       "      <th>Crime</th>\n",
       "      <th>Documentary</th>\n",
       "      <th>Drama</th>\n",
       "      <th>Fantasy</th>\n",
       "      <th>Film-Noir</th>\n",
       "      <th>Horror</th>\n",
       "      <th>Musical</th>\n",
       "      <th>Mystery</th>\n",
       "      <th>Romance</th>\n",
       "      <th>Sci-Fi</th>\n",
       "      <th>Thriller</th>\n",
       "      <th>War</th>\n",
       "      <th>Western</th>\n",
       "    </tr>\n",
       "  </thead>\n",
       "  <tbody>\n",
       "    <tr>\n",
       "      <td>3</td>\n",
       "      <td>Get Shorty (1995)</td>\n",
       "      <td>0</td>\n",
       "      <td>1</td>\n",
       "      <td>0</td>\n",
       "      <td>0</td>\n",
       "      <td>0</td>\n",
       "      <td>1</td>\n",
       "      <td>0</td>\n",
       "      <td>0</td>\n",
       "      <td>1</td>\n",
       "      <td>0</td>\n",
       "      <td>0</td>\n",
       "      <td>0</td>\n",
       "      <td>0</td>\n",
       "      <td>0</td>\n",
       "      <td>0</td>\n",
       "      <td>0</td>\n",
       "      <td>0</td>\n",
       "      <td>0</td>\n",
       "      <td>0</td>\n",
       "    </tr>\n",
       "    <tr>\n",
       "      <td>7</td>\n",
       "      <td>Babe (1995)</td>\n",
       "      <td>0</td>\n",
       "      <td>0</td>\n",
       "      <td>0</td>\n",
       "      <td>0</td>\n",
       "      <td>1</td>\n",
       "      <td>1</td>\n",
       "      <td>0</td>\n",
       "      <td>0</td>\n",
       "      <td>1</td>\n",
       "      <td>0</td>\n",
       "      <td>0</td>\n",
       "      <td>0</td>\n",
       "      <td>0</td>\n",
       "      <td>0</td>\n",
       "      <td>0</td>\n",
       "      <td>0</td>\n",
       "      <td>0</td>\n",
       "      <td>0</td>\n",
       "      <td>0</td>\n",
       "    </tr>\n",
       "    <tr>\n",
       "      <td>33</td>\n",
       "      <td>Doom Generation, The (1995)</td>\n",
       "      <td>0</td>\n",
       "      <td>0</td>\n",
       "      <td>0</td>\n",
       "      <td>0</td>\n",
       "      <td>0</td>\n",
       "      <td>1</td>\n",
       "      <td>0</td>\n",
       "      <td>0</td>\n",
       "      <td>1</td>\n",
       "      <td>0</td>\n",
       "      <td>0</td>\n",
       "      <td>0</td>\n",
       "      <td>0</td>\n",
       "      <td>0</td>\n",
       "      <td>0</td>\n",
       "      <td>0</td>\n",
       "      <td>0</td>\n",
       "      <td>0</td>\n",
       "      <td>0</td>\n",
       "    </tr>\n",
       "    <tr>\n",
       "      <td>44</td>\n",
       "      <td>Eat Drink Man Woman (1994)</td>\n",
       "      <td>0</td>\n",
       "      <td>0</td>\n",
       "      <td>0</td>\n",
       "      <td>0</td>\n",
       "      <td>0</td>\n",
       "      <td>1</td>\n",
       "      <td>0</td>\n",
       "      <td>0</td>\n",
       "      <td>1</td>\n",
       "      <td>0</td>\n",
       "      <td>0</td>\n",
       "      <td>0</td>\n",
       "      <td>0</td>\n",
       "      <td>0</td>\n",
       "      <td>0</td>\n",
       "      <td>0</td>\n",
       "      <td>0</td>\n",
       "      <td>0</td>\n",
       "      <td>0</td>\n",
       "    </tr>\n",
       "    <tr>\n",
       "      <td>46</td>\n",
       "      <td>Ed Wood (1994)</td>\n",
       "      <td>0</td>\n",
       "      <td>0</td>\n",
       "      <td>0</td>\n",
       "      <td>0</td>\n",
       "      <td>0</td>\n",
       "      <td>1</td>\n",
       "      <td>0</td>\n",
       "      <td>0</td>\n",
       "      <td>1</td>\n",
       "      <td>0</td>\n",
       "      <td>0</td>\n",
       "      <td>0</td>\n",
       "      <td>0</td>\n",
       "      <td>0</td>\n",
       "      <td>0</td>\n",
       "      <td>0</td>\n",
       "      <td>0</td>\n",
       "      <td>0</td>\n",
       "      <td>0</td>\n",
       "    </tr>\n",
       "    <tr>\n",
       "      <td>...</td>\n",
       "      <td>...</td>\n",
       "      <td>...</td>\n",
       "      <td>...</td>\n",
       "      <td>...</td>\n",
       "      <td>...</td>\n",
       "      <td>...</td>\n",
       "      <td>...</td>\n",
       "      <td>...</td>\n",
       "      <td>...</td>\n",
       "      <td>...</td>\n",
       "      <td>...</td>\n",
       "      <td>...</td>\n",
       "      <td>...</td>\n",
       "      <td>...</td>\n",
       "      <td>...</td>\n",
       "      <td>...</td>\n",
       "      <td>...</td>\n",
       "      <td>...</td>\n",
       "      <td>...</td>\n",
       "      <td>...</td>\n",
       "    </tr>\n",
       "    <tr>\n",
       "      <td>1625</td>\n",
       "      <td>Nobody Loves Me (Keiner liebt mich) (1994)</td>\n",
       "      <td>0</td>\n",
       "      <td>0</td>\n",
       "      <td>0</td>\n",
       "      <td>0</td>\n",
       "      <td>0</td>\n",
       "      <td>1</td>\n",
       "      <td>0</td>\n",
       "      <td>0</td>\n",
       "      <td>1</td>\n",
       "      <td>0</td>\n",
       "      <td>0</td>\n",
       "      <td>0</td>\n",
       "      <td>0</td>\n",
       "      <td>0</td>\n",
       "      <td>0</td>\n",
       "      <td>0</td>\n",
       "      <td>0</td>\n",
       "      <td>0</td>\n",
       "      <td>0</td>\n",
       "    </tr>\n",
       "    <tr>\n",
       "      <td>1626</td>\n",
       "      <td>Wife, The (1995)</td>\n",
       "      <td>0</td>\n",
       "      <td>0</td>\n",
       "      <td>0</td>\n",
       "      <td>0</td>\n",
       "      <td>0</td>\n",
       "      <td>1</td>\n",
       "      <td>0</td>\n",
       "      <td>0</td>\n",
       "      <td>1</td>\n",
       "      <td>0</td>\n",
       "      <td>0</td>\n",
       "      <td>0</td>\n",
       "      <td>0</td>\n",
       "      <td>0</td>\n",
       "      <td>0</td>\n",
       "      <td>0</td>\n",
       "      <td>0</td>\n",
       "      <td>0</td>\n",
       "      <td>0</td>\n",
       "    </tr>\n",
       "    <tr>\n",
       "      <td>1630</td>\n",
       "      <td>Slingshot, The (1993)</td>\n",
       "      <td>0</td>\n",
       "      <td>0</td>\n",
       "      <td>0</td>\n",
       "      <td>0</td>\n",
       "      <td>0</td>\n",
       "      <td>1</td>\n",
       "      <td>0</td>\n",
       "      <td>0</td>\n",
       "      <td>1</td>\n",
       "      <td>0</td>\n",
       "      <td>0</td>\n",
       "      <td>0</td>\n",
       "      <td>0</td>\n",
       "      <td>0</td>\n",
       "      <td>0</td>\n",
       "      <td>0</td>\n",
       "      <td>0</td>\n",
       "      <td>0</td>\n",
       "      <td>0</td>\n",
       "    </tr>\n",
       "    <tr>\n",
       "      <td>1632</td>\n",
       "      <td>Á köldum klaka (Cold Fever) (1994)</td>\n",
       "      <td>0</td>\n",
       "      <td>0</td>\n",
       "      <td>0</td>\n",
       "      <td>0</td>\n",
       "      <td>0</td>\n",
       "      <td>1</td>\n",
       "      <td>0</td>\n",
       "      <td>0</td>\n",
       "      <td>1</td>\n",
       "      <td>0</td>\n",
       "      <td>0</td>\n",
       "      <td>0</td>\n",
       "      <td>0</td>\n",
       "      <td>0</td>\n",
       "      <td>0</td>\n",
       "      <td>0</td>\n",
       "      <td>0</td>\n",
       "      <td>0</td>\n",
       "      <td>0</td>\n",
       "    </tr>\n",
       "    <tr>\n",
       "      <td>1646</td>\n",
       "      <td>Hana-bi (1997)</td>\n",
       "      <td>0</td>\n",
       "      <td>0</td>\n",
       "      <td>0</td>\n",
       "      <td>0</td>\n",
       "      <td>0</td>\n",
       "      <td>1</td>\n",
       "      <td>1</td>\n",
       "      <td>0</td>\n",
       "      <td>1</td>\n",
       "      <td>0</td>\n",
       "      <td>0</td>\n",
       "      <td>0</td>\n",
       "      <td>0</td>\n",
       "      <td>0</td>\n",
       "      <td>0</td>\n",
       "      <td>0</td>\n",
       "      <td>0</td>\n",
       "      <td>0</td>\n",
       "      <td>0</td>\n",
       "    </tr>\n",
       "  </tbody>\n",
       "</table>\n",
       "<p>89 rows × 20 columns</p>\n",
       "</div>"
      ],
      "text/plain": [
       "                                     movie title  unknown  Action  Adventure  \\\n",
       "3                              Get Shorty (1995)        0       1          0   \n",
       "7                                    Babe (1995)        0       0          0   \n",
       "33                   Doom Generation, The (1995)        0       0          0   \n",
       "44                    Eat Drink Man Woman (1994)        0       0          0   \n",
       "46                                Ed Wood (1994)        0       0          0   \n",
       "...                                          ...      ...     ...        ...   \n",
       "1625  Nobody Loves Me (Keiner liebt mich) (1994)        0       0          0   \n",
       "1626                            Wife, The (1995)        0       0          0   \n",
       "1630                       Slingshot, The (1993)        0       0          0   \n",
       "1632          Á köldum klaka (Cold Fever) (1994)        0       0          0   \n",
       "1646                              Hana-bi (1997)        0       0          0   \n",
       "\n",
       "      Animation  Childrens  Comedy  Crime  Documentary  Drama  Fantasy  \\\n",
       "3             0          0       1      0            0      1        0   \n",
       "7             0          1       1      0            0      1        0   \n",
       "33            0          0       1      0            0      1        0   \n",
       "44            0          0       1      0            0      1        0   \n",
       "46            0          0       1      0            0      1        0   \n",
       "...         ...        ...     ...    ...          ...    ...      ...   \n",
       "1625          0          0       1      0            0      1        0   \n",
       "1626          0          0       1      0            0      1        0   \n",
       "1630          0          0       1      0            0      1        0   \n",
       "1632          0          0       1      0            0      1        0   \n",
       "1646          0          0       1      1            0      1        0   \n",
       "\n",
       "      Film-Noir  Horror  Musical  Mystery  Romance  Sci-Fi  Thriller  War  \\\n",
       "3             0       0        0        0        0       0         0    0   \n",
       "7             0       0        0        0        0       0         0    0   \n",
       "33            0       0        0        0        0       0         0    0   \n",
       "44            0       0        0        0        0       0         0    0   \n",
       "46            0       0        0        0        0       0         0    0   \n",
       "...         ...     ...      ...      ...      ...     ...       ...  ...   \n",
       "1625          0       0        0        0        0       0         0    0   \n",
       "1626          0       0        0        0        0       0         0    0   \n",
       "1630          0       0        0        0        0       0         0    0   \n",
       "1632          0       0        0        0        0       0         0    0   \n",
       "1646          0       0        0        0        0       0         0    0   \n",
       "\n",
       "      Western  \n",
       "3           0  \n",
       "7           0  \n",
       "33          0  \n",
       "44          0  \n",
       "46          0  \n",
       "...       ...  \n",
       "1625        0  \n",
       "1626        0  \n",
       "1630        0  \n",
       "1632        0  \n",
       "1646        0  \n",
       "\n",
       "[89 rows x 20 columns]"
      ]
     },
     "execution_count": 11,
     "metadata": {},
     "output_type": "execute_result"
    }
   ],
   "source": [
    "# How many movies were assigned to both comedy and drama?\n",
    "comedy = movies[movies['Comedy']==1]\n",
    "both = comedy[comedy['Drama']==1]\n",
    "both"
   ]
  },
  {
   "cell_type": "code",
   "execution_count": 12,
   "metadata": {},
   "outputs": [],
   "source": [
    "# Choose k based on inertia\n",
    "distortions = []\n",
    "for i in range(1, 21):\n",
    "    km = KMeans(n_clusters=i, random_state=0)\n",
    "    km.fit(movies.drop(columns=['movie title']))\n",
    "    distortions.append(km.inertia_)"
   ]
  },
  {
   "cell_type": "code",
   "execution_count": 13,
   "metadata": {},
   "outputs": [
    {
     "data": {
      "text/plain": [
       "[<matplotlib.lines.Line2D at 0x1110b4e90>]"
      ]
     },
     "execution_count": 13,
     "metadata": {},
     "output_type": "execute_result"
    },
    {
     "data": {
      "image/png": "[encoded data removed]",
      "text/plain": [
       "<Figure size 432x288 with 1 Axes>"
      ]
     },
     "metadata": {
      "needs_background": "light"
     },
     "output_type": "display_data"
    }
   ],
   "source": [
    "# Plot the distortions and choose k based on slope of the line\n",
    "plt.plot(range(1,21), distortions, marker ='o')"
   ]
  },
  {
   "cell_type": "markdown",
   "metadata": {},
   "source": [
    "The plot levels out most at k = 3, 8, & 15"
   ]
  },
  {
   "cell_type": "markdown",
   "metadata": {},
   "source": [
    "# Fit model with k = 3"
   ]
  },
  {
   "cell_type": "code",
   "execution_count": 14,
   "metadata": {},
   "outputs": [
    {
     "data": {
      "text/plain": [
       "KMeans(algorithm='auto', copy_x=True, init='k-means++', max_iter=300,\n",
       "       n_clusters=3, n_init=10, n_jobs=None, precompute_distances='auto',\n",
       "       random_state=0, tol=0.0001, verbose=0)"
      ]
     },
     "execution_count": 14,
     "metadata": {},
     "output_type": "execute_result"
    }
   ],
   "source": [
    "# Fit model with k = 3\n",
    "kmeans3 = KMeans(n_clusters=3, random_state=0)\n",
    "kmeans3.fit(movies.drop(columns=['movie title']))"
   ]
  },
  {
   "cell_type": "code",
   "execution_count": 15,
   "metadata": {},
   "outputs": [
    {
     "name": "stdout",
     "output_type": "stream",
     "text": [
      "[[ 3.71747212e-03  3.30855019e-01  1.93308550e-01  5.94795539e-02\n",
      "   1.17100372e-01  5.57620818e-03  9.10780669e-02  8.55018587e-02\n",
      "   2.77555756e-15  2.04460967e-02  4.08921933e-02  1.35687732e-01\n",
      "   4.83271375e-02  6.69144981e-02  1.13382900e-01  1.46840149e-01\n",
      "   3.28996283e-01  4.08921933e-02  2.78810409e-02]\n",
      " [-5.42101086e-18  5.61122244e-02  3.20641283e-02  2.00400802e-02\n",
      "   8.01603206e-02  1.00000000e+00  3.00601202e-02  2.00400802e-03\n",
      "   1.78356713e-01  1.40280561e-02  8.50014503e-17  2.40480962e-02\n",
      "   4.20841683e-02  2.00400802e-02  1.94388778e-01  2.40480962e-02\n",
      "   2.40480962e-02  2.60521042e-02  1.40280561e-02]\n",
      " [-1.47451495e-17  6.85805423e-02  2.07336523e-02 -2.98372438e-16\n",
      "   2.71132376e-02  3.60822483e-15  6.85805423e-02  4.78468900e-03\n",
      "   1.00000000e+00  6.37958533e-03  3.18979266e-03  7.97448166e-03\n",
      "   1.43540670e-02  2.23285486e-02  1.37161085e-01  1.43540670e-02\n",
      "   9.40988836e-02  5.74162679e-02  7.97448166e-03]]\n"
     ]
    }
   ],
   "source": [
    "# Check the cluster centers\n",
    "print(kmeans3.cluster_centers_)"
   ]
  },
  {
   "cell_type": "code",
   "execution_count": 16,
   "metadata": {},
   "outputs": [
    {
     "name": "stdout",
     "output_type": "stream",
     "text": [
      "[1 0 0 ... 0 1 2]\n"
     ]
    }
   ],
   "source": [
    "# Check the labels\n",
    "print(kmeans3.labels_)"
   ]
  },
  {
   "cell_type": "code",
   "execution_count": 17,
   "metadata": {},
   "outputs": [
    {
     "data": {
      "text/plain": [
       "3"
      ]
     },
     "execution_count": 17,
     "metadata": {},
     "output_type": "execute_result"
    }
   ],
   "source": [
    "# How many iterations were needed to form the clusters?\n",
    "kmeans3.n_iter_"
   ]
  },
  {
   "cell_type": "markdown",
   "metadata": {},
   "source": [
    "# Fit model with k = 8"
   ]
  },
  {
   "cell_type": "code",
   "execution_count": 18,
   "metadata": {},
   "outputs": [
    {
     "data": {
      "text/plain": [
       "KMeans(algorithm='auto', copy_x=True, init='k-means++', max_iter=300,\n",
       "       n_clusters=8, n_init=10, n_jobs=None, precompute_distances='auto',\n",
       "       random_state=0, tol=0.0001, verbose=0)"
      ]
     },
     "execution_count": 18,
     "metadata": {},
     "output_type": "execute_result"
    }
   ],
   "source": [
    "# Fit model with k = 8\n",
    "kmeans8 = KMeans(n_clusters=8, random_state=0)\n",
    "kmeans8.fit(movies.drop(columns=['movie title']))"
   ]
  },
  {
   "cell_type": "code",
   "execution_count": 19,
   "metadata": {},
   "outputs": [
    {
     "name": "stdout",
     "output_type": "stream",
     "text": [
      "[4 0 3 ... 3 2 1]\n"
     ]
    }
   ],
   "source": [
    "# Check the labels\n",
    "print(kmeans8.labels_)"
   ]
  },
  {
   "cell_type": "code",
   "execution_count": 20,
   "metadata": {},
   "outputs": [
    {
     "data": {
      "text/plain": [
       "7"
      ]
     },
     "execution_count": 20,
     "metadata": {},
     "output_type": "execute_result"
    }
   ],
   "source": [
    "# How many iterations were needed to form the clusters?\n",
    "kmeans8.n_iter_"
   ]
  },
  {
   "cell_type": "markdown",
   "metadata": {},
   "source": [
    "# Fit model with k = 15"
   ]
  },
  {
   "cell_type": "code",
   "execution_count": 21,
   "metadata": {},
   "outputs": [
    {
     "data": {
      "text/plain": [
       "KMeans(algorithm='auto', copy_x=True, init='k-means++', max_iter=300,\n",
       "       n_clusters=15, n_init=10, n_jobs=None, precompute_distances='auto',\n",
       "       random_state=0, tol=0.0001, verbose=0)"
      ]
     },
     "execution_count": 21,
     "metadata": {},
     "output_type": "execute_result"
    }
   ],
   "source": [
    "# Fit model with k = 15\n",
    "kmeans15 = KMeans(n_clusters=15, random_state=0)\n",
    "kmeans15.fit(movies.drop(columns=['movie title']))"
   ]
  },
  {
   "cell_type": "code",
   "execution_count": 22,
   "metadata": {},
   "outputs": [
    {
     "name": "stdout",
     "output_type": "stream",
     "text": [
      "[7 2 3 ... 3 4 0]\n"
     ]
    }
   ],
   "source": [
    "# Check the labels\n",
    "print(kmeans15.labels_)"
   ]
  },
  {
   "cell_type": "code",
   "execution_count": 23,
   "metadata": {},
   "outputs": [
    {
     "data": {
      "text/plain": [
       "5"
      ]
     },
     "execution_count": 23,
     "metadata": {},
     "output_type": "execute_result"
    }
   ],
   "source": [
    "# How many iterations were needed to form the clusters?\n",
    "kmeans15.n_iter_"
   ]
  },
  {
   "cell_type": "markdown",
   "metadata": {},
   "source": [
    "# Analysis, k=15"
   ]
  },
  {
   "cell_type": "code",
   "execution_count": 24,
   "metadata": {},
   "outputs": [],
   "source": [
    "# Add a label column to the dataframe\n",
    "movies['label']=kmeans15.labels_"
   ]
  },
  {
   "cell_type": "code",
   "execution_count": 25,
   "metadata": {},
   "outputs": [],
   "source": [
    "class1 = movies[movies['label']==0]\n",
    "class2 = movies[movies['label']==1]\n",
    "class3 = movies[movies['label']==2]\n",
    "class4 = movies[movies['label']==3]\n",
    "class5 = movies[movies['label']==4]\n",
    "class6 = movies[movies['label']==5]\n",
    "class7 = movies[movies['label']==6]\n",
    "class8 = movies[movies['label']==7]\n",
    "class9 = movies[movies['label']==8]\n",
    "class10 = movies[movies['label']==9]\n",
    "class11 = movies[movies['label']==10]\n",
    "class12 = movies[movies['label']==11]\n",
    "class13 = movies[movies['label']==12]\n",
    "class14 = movies[movies['label']==13]\n",
    "class15 = movies[movies['label']==14]"
   ]
  },
  {
   "cell_type": "code",
   "execution_count": 26,
   "metadata": {},
   "outputs": [],
   "source": [
    "totals = []"
   ]
  },
  {
   "cell_type": "code",
   "execution_count": 27,
   "metadata": {},
   "outputs": [],
   "source": [
    "# Calculate the total number of movies in each class\n",
    "class_total = []\n",
    "for i in range(1,20):\n",
    "    class_total.append(class1.iloc[:,i].sum())\n",
    "totals.append(class_total)\n",
    "\n",
    "class_total = []\n",
    "for i in range(1,20):\n",
    "    class_total.append(class2.iloc[:,i].sum())\n",
    "totals.append(class_total)\n",
    "\n",
    "class_total = []\n",
    "for i in range(1,20):\n",
    "    class_total.append(class3.iloc[:,i].sum())\n",
    "totals.append(class_total)\n",
    "\n",
    "class_total = []\n",
    "for i in range(1,20):\n",
    "    class_total.append(class4.iloc[:,i].sum())\n",
    "totals.append(class_total)\n",
    "\n",
    "class_total = []\n",
    "for i in range(1,20):\n",
    "    class_total.append(class5.iloc[:,i].sum())\n",
    "totals.append(class_total)\n",
    "\n",
    "class_total = []\n",
    "for i in range(1,20):\n",
    "    class_total.append(class6.iloc[:,i].sum())\n",
    "totals.append(class_total)\n",
    "\n",
    "class_total = []\n",
    "for i in range(1,20):\n",
    "    class_total.append(class7.iloc[:,i].sum())\n",
    "totals.append(class_total)\n",
    "\n",
    "class_total = []\n",
    "for i in range(1,20):\n",
    "    class_total.append(class8.iloc[:,i].sum())\n",
    "totals.append(class_total)\n",
    "\n",
    "class_total = []\n",
    "for i in range(1,20):\n",
    "    class_total.append(class9.iloc[:,i].sum())\n",
    "totals.append(class_total)\n",
    "\n",
    "class_total = []\n",
    "for i in range(1,20):\n",
    "    class_total.append(class10.iloc[:,i].sum())\n",
    "totals.append(class_total)\n",
    "\n",
    "class_total = []\n",
    "for i in range(1,20):\n",
    "    class_total.append(class11.iloc[:,i].sum())\n",
    "totals.append(class_total)\n",
    "\n",
    "class_total = []\n",
    "for i in range(1,20):\n",
    "    class_total.append(class12.iloc[:,i].sum())\n",
    "totals.append(class_total)\n",
    "\n",
    "class_total = []\n",
    "for i in range(1,20):\n",
    "    class_total.append(class13.iloc[:,i].sum())\n",
    "totals.append(class_total)\n",
    "\n",
    "class_total = []\n",
    "for i in range(1,20):\n",
    "    class_total.append(class14.iloc[:,i].sum())\n",
    "totals.append(class_total)\n",
    "\n",
    "class_total = []\n",
    "for i in range(1,20):\n",
    "    class_total.append(class15.iloc[:,i].sum())\n",
    "totals.append(class_total)"
   ]
  },
  {
   "cell_type": "code",
   "execution_count": 28,
   "metadata": {},
   "outputs": [],
   "source": [
    "# Form a dataframe out of totals\n",
    "totals_df = pd.DataFrame(totals, columns=['unknown', 'Action', 'Adventure',\n",
    " 'Animation', 'Children\\'s', 'Comedy', 'Crime', 'Documentary', 'Drama', 'Fantasy',\n",
    " 'Film-Noir', 'Horror', 'Musical', 'Mystery', 'Romance', 'Sci-Fi', 'Thriller', 'War', 'Western'])"
   ]
  },
  {
   "cell_type": "code",
   "execution_count": 29,
   "metadata": {},
   "outputs": [
    {
     "data": {
      "text/plain": [
       "<matplotlib.legend.Legend at 0x1a279964d0>"
      ]
     },
     "execution_count": 29,
     "metadata": {},
     "output_type": "execute_result"
    },
    {
     "data": {
      "image/png": "[encoded data removed]",
      "text/plain": [
       "<Figure size 432x288 with 1 Axes>"
      ]
     },
     "metadata": {
      "needs_background": "light"
     },
     "output_type": "display_data"
    }
   ],
   "source": [
    "# Plot the number of movies in each class, color by genre\n",
    "plt.bar(range(1,16), totals_df['unknown'])\n",
    "plt.bar(range(1,16), totals_df['Action'])\n",
    "plt.bar(range(1,16), totals_df['Animation'])\n",
    "plt.bar(range(1,16), totals_df['Adventure'])\n",
    "plt.bar(range(1,16), totals_df['Children\\'s'])\n",
    "plt.bar(range(1,16), totals_df['Comedy'])\n",
    "\n",
    "plt.xticks(range(1,16))\n",
    "plt.xlabel('Class')\n",
    "plt.ylabel('# of movies')\n",
    "plt.title('Genre per Class, k=15')\n",
    "plt.legend(['unknown', 'Action', 'Adventure',\n",
    " 'Animation', 'Children\\'s', 'Comedy'])"
   ]
  },
  {
   "cell_type": "code",
   "execution_count": 30,
   "metadata": {},
   "outputs": [
    {
     "data": {
      "text/plain": [
       "<matplotlib.legend.Legend at 0x1a26e07350>"
      ]
     },
     "execution_count": 30,
     "metadata": {},
     "output_type": "execute_result"
    },
    {
     "data": {
      "image/png": "[encoded data removed]",
      "text/plain": [
       "<Figure size 432x288 with 1 Axes>"
      ]
     },
     "metadata": {
      "needs_background": "light"
     },
     "output_type": "display_data"
    }
   ],
   "source": [
    "plt.bar(range(1,16), totals_df['Crime'])\n",
    "plt.bar(range(1,16), totals_df['Documentary'])\n",
    "plt.bar(range(1,16), totals_df['Drama'])\n",
    "plt.bar(range(1,16), totals_df['Fantasy'])\n",
    "plt.bar(range(1,16), totals_df['Film-Noir'])\n",
    "plt.bar(range(1,16), totals_df['Horror'])\n",
    "\n",
    "plt.xticks(range(1,16))\n",
    "plt.xlabel('Class')\n",
    "plt.ylabel('# of movies')\n",
    "plt.title('Genre per Class, k=15')\n",
    "plt.legend(['Crime', 'Documentary', 'Drama', 'Fantasy',\n",
    " 'Film-Noir', 'Horror'])"
   ]
  },
  {
   "cell_type": "code",
   "execution_count": 31,
   "metadata": {},
   "outputs": [
    {
     "data": {
      "text/plain": [
       "<matplotlib.legend.Legend at 0x1a27b58b10>"
      ]
     },
     "execution_count": 31,
     "metadata": {},
     "output_type": "execute_result"
    },
    {
     "data": {
      "image/png": "[encoded data removed]",
      "text/plain": [
       "<Figure size 432x288 with 1 Axes>"
      ]
     },
     "metadata": {
      "needs_background": "light"
     },
     "output_type": "display_data"
    }
   ],
   "source": [
    "plt.bar(range(1,16), totals_df['Romance'])\n",
    "plt.bar(range(1,16), totals_df['Sci-Fi'])\n",
    "plt.bar(range(1,16), totals_df['Thriller'])\n",
    "plt.bar(range(1,16), totals_df['War'])\n",
    "plt.bar(range(1,16), totals_df['Western'])\n",
    "\n",
    "plt.xticks(range(1,16))\n",
    "plt.xlabel('Class')\n",
    "plt.ylabel('# of movies')\n",
    "plt.title('Genre per Class, k=15')\n",
    "plt.legend(['Romance', 'Sci-Fi', 'Thriller', 'War', 'Western'])"
   ]
  },
  {
   "cell_type": "markdown",
   "metadata": {},
   "source": [
    "# Analysis, k=8"
   ]
  },
  {
   "cell_type": "code",
   "execution_count": 32,
   "metadata": {},
   "outputs": [],
   "source": [
    "# Add a label column to the dataframe\n",
    "movies['label']=kmeans8.labels_"
   ]
  },
  {
   "cell_type": "code",
   "execution_count": 33,
   "metadata": {},
   "outputs": [],
   "source": [
    "class1 = movies[movies['label']==0]\n",
    "class2 = movies[movies['label']==1]\n",
    "class3 = movies[movies['label']==2]\n",
    "class4 = movies[movies['label']==3]\n",
    "class5 = movies[movies['label']==4]\n",
    "class6 = movies[movies['label']==5]\n",
    "class7 = movies[movies['label']==6]\n",
    "class8 = movies[movies['label']==7]"
   ]
  },
  {
   "cell_type": "code",
   "execution_count": 34,
   "metadata": {},
   "outputs": [],
   "source": [
    "totals = []"
   ]
  },
  {
   "cell_type": "code",
   "execution_count": 35,
   "metadata": {},
   "outputs": [],
   "source": [
    "# Calculate the total number of movies in each class\n",
    "class_total = []\n",
    "for i in range(1,20):\n",
    "    class_total.append(class1.iloc[:,i].sum())\n",
    "totals.append(class_total)\n",
    "\n",
    "class_total = []\n",
    "for i in range(1,20):\n",
    "    class_total.append(class2.iloc[:,i].sum())\n",
    "totals.append(class_total)\n",
    "\n",
    "class_total = []\n",
    "for i in range(1,20):\n",
    "    class_total.append(class3.iloc[:,i].sum())\n",
    "totals.append(class_total)\n",
    "\n",
    "class_total = []\n",
    "for i in range(1,20):\n",
    "    class_total.append(class4.iloc[:,i].sum())\n",
    "totals.append(class_total)\n",
    "\n",
    "class_total = []\n",
    "for i in range(1,20):\n",
    "    class_total.append(class5.iloc[:,i].sum())\n",
    "totals.append(class_total)\n",
    "\n",
    "class_total = []\n",
    "for i in range(1,20):\n",
    "    class_total.append(class6.iloc[:,i].sum())\n",
    "totals.append(class_total)\n",
    "\n",
    "class_total = []\n",
    "for i in range(1,20):\n",
    "    class_total.append(class7.iloc[:,i].sum())\n",
    "totals.append(class_total)\n",
    "\n",
    "class_total = []\n",
    "for i in range(1,20):\n",
    "    class_total.append(class8.iloc[:,i].sum())\n",
    "totals.append(class_total)"
   ]
  },
  {
   "cell_type": "code",
   "execution_count": 36,
   "metadata": {},
   "outputs": [],
   "source": [
    "# Form a dataframe out of totals\n",
    "totals_df = pd.DataFrame(totals, columns=['unknown', 'Action', 'Adventure',\n",
    " 'Animation', 'Children\\'s', 'Comedy', 'Crime', 'Documentary', 'Drama', 'Fantasy',\n",
    " 'Film-Noir', 'Horror', 'Musical', 'Mystery', 'Romance', 'Sci-Fi', 'Thriller', 'War', 'Western'])"
   ]
  },
  {
   "cell_type": "code",
   "execution_count": 37,
   "metadata": {},
   "outputs": [
    {
     "data": {
      "text/plain": [
       "<matplotlib.legend.Legend at 0x1a27ea6dd0>"
      ]
     },
     "execution_count": 37,
     "metadata": {},
     "output_type": "execute_result"
    },
    {
     "data": {
      "image/png": "[encoded data removed]",
      "text/plain": [
       "<Figure size 432x288 with 1 Axes>"
      ]
     },
     "metadata": {
      "needs_background": "light"
     },
     "output_type": "display_data"
    }
   ],
   "source": [
    "# Plot the number of movies in each class, color by genre\n",
    "plt.bar(range(1,9), totals_df['unknown'])\n",
    "plt.bar(range(1,9), totals_df['Action'])\n",
    "plt.bar(range(1,9), totals_df['Animation'])\n",
    "plt.bar(range(1,9), totals_df['Adventure'])\n",
    "plt.bar(range(1,9), totals_df['Children\\'s'])\n",
    "plt.bar(range(1,9), totals_df['Comedy'])\n",
    "\n",
    "plt.xticks(range(1,9))\n",
    "plt.xlabel('Class')\n",
    "plt.ylabel('# of movies')\n",
    "plt.title('Genre per Class, k=8')\n",
    "plt.legend(['unknown', 'Action', 'Adventure',\n",
    " 'Animation', 'Children\\'s', 'Comedy'])"
   ]
  },
  {
   "cell_type": "code",
   "execution_count": 38,
   "metadata": {},
   "outputs": [
    {
     "data": {
      "text/plain": [
       "<matplotlib.legend.Legend at 0x1a27f5dc50>"
      ]
     },
     "execution_count": 38,
     "metadata": {},
     "output_type": "execute_result"
    },
    {
     "data": {
      "image/png": "[encoded data removed]",
      "text/plain": [
       "<Figure size 432x288 with 1 Axes>"
      ]
     },
     "metadata": {
      "needs_background": "light"
     },
     "output_type": "display_data"
    }
   ],
   "source": [
    "plt.bar(range(1,9), totals_df['Crime'])\n",
    "plt.bar(range(1,9), totals_df['Documentary'])\n",
    "plt.bar(range(1,9), totals_df['Drama'])\n",
    "plt.bar(range(1,9), totals_df['Fantasy'])\n",
    "plt.bar(range(1,9), totals_df['Film-Noir'])\n",
    "plt.bar(range(1,9), totals_df['Horror'])\n",
    "\n",
    "plt.xticks(range(1,9))\n",
    "plt.xlabel('Class')\n",
    "plt.ylabel('# of movies')\n",
    "plt.title('Genre per Class, k=8')\n",
    "plt.legend(['Crime', 'Documentary', 'Drama', 'Fantasy',\n",
    " 'Film-Noir', 'Horror'])"
   ]
  },
  {
   "cell_type": "code",
   "execution_count": 39,
   "metadata": {},
   "outputs": [
    {
     "data": {
      "text/plain": [
       "<matplotlib.legend.Legend at 0x1a280f8b90>"
      ]
     },
     "execution_count": 39,
     "metadata": {},
     "output_type": "execute_result"
    },
    {
     "data": {
      "image/png": "[encoded data removed]",
      "text/plain": [
       "<Figure size 432x288 with 1 Axes>"
      ]
     },
     "metadata": {
      "needs_background": "light"
     },
     "output_type": "display_data"
    }
   ],
   "source": [
    "plt.bar(range(1,9), totals_df['Romance'])\n",
    "plt.bar(range(1,9), totals_df['Sci-Fi'])\n",
    "plt.bar(range(1,9), totals_df['Thriller'])\n",
    "plt.bar(range(1,9), totals_df['War'])\n",
    "plt.bar(range(1,9), totals_df['Western'])\n",
    "\n",
    "plt.xticks(range(1,9))\n",
    "plt.xlabel('Class')\n",
    "plt.ylabel('# of movies')\n",
    "plt.title('Genre per Class, k=8')\n",
    "plt.legend(['Romance', 'Sci-Fi', 'Thriller', 'War', 'Western'])"
   ]
  },
  {
   "cell_type": "markdown",
   "metadata": {},
   "source": [
    "# Analysis, k = 3"
   ]
  },
  {
   "cell_type": "code",
   "execution_count": 40,
   "metadata": {},
   "outputs": [],
   "source": [
    "# Add a label column to the dataframe\n",
    "movies['label']=kmeans3.labels_"
   ]
  },
  {
   "cell_type": "code",
   "execution_count": 41,
   "metadata": {},
   "outputs": [],
   "source": [
    "class1 = movies[movies['label']==0]\n",
    "class2 = movies[movies['label']==1]\n",
    "class3 = movies[movies['label']==2]"
   ]
  },
  {
   "cell_type": "code",
   "execution_count": 42,
   "metadata": {},
   "outputs": [],
   "source": [
    "totals = []"
   ]
  },
  {
   "cell_type": "code",
   "execution_count": 43,
   "metadata": {},
   "outputs": [],
   "source": [
    "# Calculate the total number of movies in each class\n",
    "class_total = []\n",
    "for i in range(1,20):\n",
    "    class_total.append(class1.iloc[:,i].sum())\n",
    "totals.append(class_total)\n",
    "\n",
    "class_total = []\n",
    "for i in range(1,20):\n",
    "    class_total.append(class2.iloc[:,i].sum())\n",
    "totals.append(class_total)\n",
    "\n",
    "class_total = []\n",
    "for i in range(1,20):\n",
    "    class_total.append(class3.iloc[:,i].sum())\n",
    "totals.append(class_total)"
   ]
  },
  {
   "cell_type": "code",
   "execution_count": 44,
   "metadata": {},
   "outputs": [],
   "source": [
    "# Form a dataframe out of totals\n",
    "totals_df = pd.DataFrame(totals, columns=['unknown', 'Action', 'Adventure',\n",
    " 'Animation', 'Children\\'s', 'Comedy', 'Crime', 'Documentary', 'Drama', 'Fantasy',\n",
    " 'Film-Noir', 'Horror', 'Musical', 'Mystery', 'Romance', 'Sci-Fi', 'Thriller', 'War', 'Western'])"
   ]
  },
  {
   "cell_type": "code",
   "execution_count": 45,
   "metadata": {},
   "outputs": [
    {
     "data": {
      "text/plain": [
       "<matplotlib.legend.Legend at 0x1a282ece90>"
      ]
     },
     "execution_count": 45,
     "metadata": {},
     "output_type": "execute_result"
    },
    {
     "data": {
      "image/png": "[encoded data removed]",
      "text/plain": [
       "<Figure size 432x288 with 1 Axes>"
      ]
     },
     "metadata": {
      "needs_background": "light"
     },
     "output_type": "display_data"
    }
   ],
   "source": [
    "# Plot the number of movies in each class, color by genre\n",
    "plt.bar(range(1,4), totals_df['unknown'])\n",
    "plt.bar(range(1,4), totals_df['Action'])\n",
    "plt.bar(range(1,4), totals_df['Animation'])\n",
    "plt.bar(range(1,4), totals_df['Adventure'])\n",
    "plt.bar(range(1,4), totals_df['Children\\'s'])\n",
    "plt.bar(range(1,4), totals_df['Comedy'])\n",
    "\n",
    "plt.xticks(range(1,4))\n",
    "plt.xlabel('Class')\n",
    "plt.ylabel('# of movies')\n",
    "plt.title('Genre per Class, k=3')\n",
    "plt.legend(['unknown', 'Action', 'Adventure',\n",
    " 'Animation', 'Children\\'s', 'Comedy'])"
   ]
  },
  {
   "cell_type": "code",
   "execution_count": 46,
   "metadata": {},
   "outputs": [
    {
     "data": {
      "text/plain": [
       "<matplotlib.legend.Legend at 0x1a283ba8d0>"
      ]
     },
     "execution_count": 46,
     "metadata": {},
     "output_type": "execute_result"
    },
    {
     "data": {
      "image/png": "[encoded data removed]",
      "text/plain": [
       "<Figure size 432x288 with 1 Axes>"
      ]
     },
     "metadata": {
      "needs_background": "light"
     },
     "output_type": "display_data"
    }
   ],
   "source": [
    "plt.bar(range(1,4), totals_df['Crime'])\n",
    "plt.bar(range(1,4), totals_df['Documentary'])\n",
    "plt.bar(range(1,4), totals_df['Drama'])\n",
    "plt.bar(range(1,4), totals_df['Fantasy'])\n",
    "plt.bar(range(1,4), totals_df['Film-Noir'])\n",
    "plt.bar(range(1,4), totals_df['Horror'])\n",
    "\n",
    "plt.xticks(range(1,4))\n",
    "plt.xlabel('Class')\n",
    "plt.ylabel('# of movies')\n",
    "plt.title('Genre per Class, k=3')\n",
    "plt.legend(['Crime', 'Documentary', 'Drama', 'Fantasy',\n",
    " 'Film-Noir', 'Horror'])"
   ]
  },
  {
   "cell_type": "code",
   "execution_count": 47,
   "metadata": {},
   "outputs": [
    {
     "data": {
      "text/plain": [
       "<matplotlib.legend.Legend at 0x1a28520c90>"
      ]
     },
     "execution_count": 47,
     "metadata": {},
     "output_type": "execute_result"
    },
    {
     "data": {
      "image/png": "[encoded data removed]",
      "text/plain": [
       "<Figure size 432x288 with 1 Axes>"
      ]
     },
     "metadata": {
      "needs_background": "light"
     },
     "output_type": "display_data"
    }
   ],
   "source": [
    "plt.bar(range(1,4), totals_df['Romance'])\n",
    "plt.bar(range(1,4), totals_df['Sci-Fi'])\n",
    "plt.bar(range(1,4), totals_df['Thriller'])\n",
    "plt.bar(range(1,4), totals_df['War'])\n",
    "plt.bar(range(1,4), totals_df['Western'])\n",
    "\n",
    "plt.xticks(range(1,4))\n",
    "plt.xlabel('Class')\n",
    "plt.ylabel('# of movies')\n",
    "plt.title('Genre per Class, k=3')\n",
    "plt.legend(['Romance', 'Sci-Fi', 'Thriller', 'War', 'Western'])"
   ]
  },
  {
   "cell_type": "markdown",
   "metadata": {},
   "source": [
    "# Exploratory Data Analysis"
   ]
  },
  {
   "cell_type": "markdown",
   "metadata": {},
   "source": [
    "Most of the movies fall into 5 categories, action, comedy, drama, romance, and thriller.  The drama genre was assigned to the greatest number of movies. 43% of the movies in this list fell into this genre.  The next highest genre was comedy, with 30% of movies.  This is also a common combination.  5% of movies were assigned to both the comedy and drama genres.  The unknown group was the smallest, with only 0.012% of the movies.  The smallest genre was fantasy.  This genre was assigned to 1.3% of movies."
   ]
  },
  {
   "cell_type": "markdown",
   "metadata": {},
   "source": [
    "# Clustering Analysis"
   ]
  },
  {
   "cell_type": "markdown",
   "metadata": {},
   "source": [
    "**k = 3**\n",
    "\n",
    "cluster 1 - Action, Animation, Children's, Horror, Thriller, War, Western\n",
    "\n",
    "cluster 2 - Comedy, Drama, Horro, Romance, War, Western\n",
    "\n",
    "cluster 3 - Action, Children's, Drama, Horror, Romance, Thriller, War, Western\n",
    "\n",
    "\n",
    "**k = 8**\n",
    "\n",
    "cluster 1 - Action, Animation, Comedy, Crime, Horror, Thriller, War, Western\n",
    "\n",
    "cluster 2 - Comedy, Drama, Horror, Romance, War, Western\n",
    "\n",
    "cluster 3 - Comedy, Horror, War, Western\n",
    "\n",
    "cluster 4 - Action, Comedy, Drama, Horror, Thriller, War\n",
    "\n",
    "cluster 5 - Children's, Comedy, Fantasy, Romance, Sci-Fi, Western\n",
    "\n",
    "cluster 6 - Documentary, Drama, War\n",
    "\n",
    "cluster 7 - Comedy, Drama, Fantasy, Romance, War\n",
    "\n",
    "cluster 8 - Animation, Horror, Sci-Fi, Western\n",
    "\n",
    "\n",
    "**k = 15**\n",
    "\n",
    "cluster 1 - Animation, Action, Comedy, Horror, Crime, Thriller, War, Western\n",
    "\n",
    "cluster 2 - Comedy, Drama, Horror, Romance, War, Western\n",
    "\n",
    "cluster 3 - Comedy, Horror, War, Western\n",
    "\n",
    "cluster 4 - Action, Comedy, Drama, Horror, Thriller, War\n",
    "\n",
    "cluster 5 - Children's, Comedy, Fantasy, Romance, Sci-Fi, Western\n",
    "\n",
    "cluster 6 - Documentary, Drama, War\n",
    "\n",
    "cluster 7 - Comedy, Drama, Fantasy, Romance, War\n",
    "\n",
    "cluster 8 - Animation, Horror, Sci-Fi, Western\n",
    "\n",
    "cluster 9 - Comedy, Documentary, Drama, War\n",
    "\n",
    "cluster 10 - Animation, Film-Noir, Western\n",
    "\n",
    "cluster 11 - Action, Animation, Comedy, Crime, Sci-Fi, War\n",
    "\n",
    "cluster 12 - Drama, Fantasy, Thriller, War\n",
    "\n",
    "cluster 13 - Comedy, Drama, War\n",
    "\n",
    "cluster 14 - Action, Animation, Drama, Romance, War\n",
    "\n",
    "cluster 15 - Action, Animation Crime, Drama, Film-Noir, Romance, Sci-Fi\n",
    "\n",
    "\n",
    "When using 15 clusters, I had expected the data to divide close to one genre per cluster.  This is not at all what happened.  In fact, using a larger number of clusters starts to make the clustering appear more random.  The genres divided amongst the clusters, rather than go into one cluster.  This shows that the combination of genres had more of an inpact on cluster selection than the individual genres did.  For example, comedies appear in 10 out of the 15 clusters.  They did not all go into one cluster, but rather divided amongst all of them.  Comedy does tend to be listed with other genres, which would explain why this happened.  Drama is another genre that is often listed with an additional genre, it can be found in 9 of the 15 clusters.\n",
    "\n",
    "Using 8 clusters had a similar result as 15.  Distinct groups were formed based on the combinations of the genres beyond the information that can be gained from knowing a single genre.\n",
    "\n",
    "The first 8 clusters with k=15 contain exactly the same genres as when k=8.  The remaining clusters when k=15 have pulled out movies that did not fit as well in the original 8 clusters.  This appears to make it more specific.  More nuanced differences are allowed to be found.\n",
    "\n",
    "Using k=3 did not provide enough information to distinguish one cluster from another very well.  All three clusters have a very similar mix of genres."
   ]
  },
  {
   "cell_type": "markdown",
   "metadata": {},
   "source": [
    "# Conclusions"
   ]
  },
  {
   "cell_type": "markdown",
   "metadata": {},
   "source": [
    "Although I was initially surprised about the way the model fromed the clusters, looking at the combinations of genres in each cluster clarified the reasoning.  Most movies belong to several genres.  The different movie types can be represented by these combinations.  For example, action, comedy, drama, horror, thriller, and war together represents a very different type of movie than action, animation, comedy, crime, sci-fi, and war.  Even though both of these are part of the action and comedy genre, they represent very different types of movies.  The classifier was able to pick out these differences and cluster similar movies together, even if there were common features between many others.\n",
    "\n",
    "In this case, I would choose to use k=8.  By looking at the inertia graph, we can see that the information that is gained from additional clusters mostly levels off at this point.  Examining the combinations of genres in the clusters confirmed this."
   ]
  },
  {
   "cell_type": "code",
   "execution_count": null,
   "metadata": {},
   "outputs": [],
   "source": []
  }
 ],
 "metadata": {
  "kernelspec": {
   "display_name": "Python 3 (ipykernel)",
   "language": "python",
   "name": "python3"
  },
  "language_info": {
   "codemirror_mode": {
    "name": "ipython",
    "version": 3
   },
   "file_extension": ".py",
   "mimetype": "text/x-python",
   "name": "python",
   "nbconvert_exporter": "python",
   "pygments_lexer": "ipython3",
   "version": "3.7.4"
  }
 },
 "nbformat": 4,
 "nbformat_minor": 2
}
